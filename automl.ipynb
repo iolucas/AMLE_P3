{
 "cells": [
  {
   "cell_type": "markdown",
   "source": [
    "# Automated ML\n",
    "\n",
    "Import Dependencies. In the cell below, import all the dependencies that you will need to complete the project."
   ],
   "metadata": {}
  },
  {
   "cell_type": "code",
   "execution_count": 105,
   "source": [
    "from azureml.core import Workspace, Experiment\n",
    "from azureml.train.automl import AutoMLConfig\n",
    "\n",
    "from azureml.core.compute import AmlCompute\n",
    "from azureml.core.compute import ComputeTarget\n",
    "from azureml.core.compute_target import ComputeTargetException\n",
    "from azureml.widgets import RunDetails\n",
    "\n",
    "from azureml.core.model import InferenceConfig\n",
    "from azureml.core.webservice import AciWebservice\n",
    "from azureml.core import Environment\n",
    "from azureml.core import Model\n",
    "\n",
    "import joblib\n",
    "\n",
    "import requests\n",
    "\n",
    "import numpy as np\n",
    "import pandas as pd"
   ],
   "outputs": [],
   "metadata": {
    "gather": {
     "logged": 1598423888013
    },
    "jupyter": {
     "outputs_hidden": false,
     "source_hidden": false
    },
    "nteract": {
     "transient": {
      "deleting": false
     }
    }
   }
  },
  {
   "cell_type": "markdown",
   "source": [
    "## Dataset\n",
    "\n",
    "### Overview\n",
    "TODO: In this markdown cell, give an overview of the dataset you are using. Also mention the task you will be performing.\n",
    "\n",
    "\n",
    "Get data. In the cell below, write code to access the data you will be using in this project. Remember that the dataset needs to be external."
   ],
   "metadata": {}
  },
  {
   "cell_type": "code",
   "execution_count": 4,
   "source": [
    "ws = Workspace.from_config()\n",
    "\n",
    "# choose a name for experiment\n",
    "experiment_name = 'amazon_review_prediction_automl'\n",
    "\n",
    "experiment=Experiment(ws, experiment_name)\n",
    "\n",
    "found = False\n",
    "dataset_name = \"Amazon Reviews\"\n",
    "dataset_descriptions = \"Set of Amazon products text reviews together with their rating value ranging from 1 to 5.\"\n",
    "\n",
    "if dataset_name in ws.datasets.keys(): \n",
    "        found = True\n",
    "        dataset = ws.datasets[dataset_name] \n",
    "\n",
    "if not found:\n",
    "        dataset = TabularDatasetFactory.from_delimited_files(path=\"https://github.com/iolucas/AMLE_P3/raw/main/amazon_reviews.csv\") \n",
    "        dataset = ds.register(workspace=ws, name=dataset_name, description=dataset_descriptions)"
   ],
   "outputs": [],
   "metadata": {
    "gather": {
     "logged": 1598423890461
    },
    "jupyter": {
     "outputs_hidden": false,
     "source_hidden": false
    },
    "nteract": {
     "transient": {
      "deleting": false
     }
    }
   }
  },
  {
   "cell_type": "code",
   "execution_count": 11,
   "source": [
    "amlcompute_cluster_name = \"compute-cluster\"\n",
    "\n",
    "# Verify that cluster does not exist already\n",
    "try:\n",
    "    compute_target = ComputeTarget(workspace=ws, name=amlcompute_cluster_name)\n",
    "    print('Found existing cluster, use it.')\n",
    "except ComputeTargetException:\n",
    "    compute_config = AmlCompute.provisioning_configuration(vm_size='Standard_DS12_v2',# for GPU, use \"STANDARD_NC6\"\n",
    "                                                           #vm_priority = 'lowpriority', # optional\n",
    "                                                           max_nodes=4)\n",
    "    compute_target = ComputeTarget.create(ws, amlcompute_cluster_name, compute_config)"
   ],
   "outputs": [
    {
     "output_type": "stream",
     "name": "stdout",
     "text": [
      "Found existing cluster, use it.\n"
     ]
    }
   ],
   "metadata": {}
  },
  {
   "cell_type": "markdown",
   "source": [
    "## AutoML Configuration\n",
    "\n",
    "TODO: Explain why you chose the automl settings and cofiguration you used below."
   ],
   "metadata": {}
  },
  {
   "cell_type": "code",
   "execution_count": 17,
   "source": [
    "automl_settings = {\n",
    "    \"experiment_timeout_minutes\": 30,\n",
    "    \"task\": \"classification\",\n",
    "    \"primary_metric\": \"accuracy\",\n",
    "    \"training_data\": dataset,\n",
    "    \"label_column_name\": \"rating\",\n",
    "    \"n_cross_validations\":5,\n",
    "    \"compute_target\": compute_target,\n",
    "    \"max_concurrent_iterations\": 4,\n",
    "    \"iteration_timeout_minutes\": 5,\n",
    "    \"iterations\": 25    \n",
    "}\n",
    "\n",
    "automl_config = AutoMLConfig(**automl_settings)"
   ],
   "outputs": [],
   "metadata": {
    "gather": {
     "logged": 1598429217746
    },
    "jupyter": {
     "outputs_hidden": false,
     "source_hidden": false
    },
    "nteract": {
     "transient": {
      "deleting": false
     }
    }
   }
  },
  {
   "cell_type": "code",
   "execution_count": 18,
   "source": [
    "remote_run = experiment.submit(automl_config)"
   ],
   "outputs": [
    {
     "output_type": "stream",
     "name": "stdout",
     "text": [
      "Submitting remote run.\n"
     ]
    },
    {
     "output_type": "display_data",
     "data": {
      "text/plain": [
       "<IPython.core.display.HTML object>"
      ],
      "text/html": [
       "<table style=\"width:100%\"><tr><th>Experiment</th><th>Id</th><th>Type</th><th>Status</th><th>Details Page</th><th>Docs Page</th></tr><tr><td>AutoML-Exp-P3</td><td>AutoML_41b227b8-6de8-4d19-9b0f-0463a621bc87</td><td>automl</td><td>NotStarted</td><td><a href=\"https://ml.azure.com/runs/AutoML_41b227b8-6de8-4d19-9b0f-0463a621bc87?wsid=/subscriptions/9a7511b8-150f-4a58-8528-3e7d50216c31/resourcegroups/aml-quickstarts-154595/workspaces/quick-starts-ws-154595&amp;tid=660b3398-b80e-49d2-bc5b-ac1dc93b5254\" target=\"_blank\" rel=\"noopener\">Link to Azure Machine Learning studio</a></td><td><a href=\"https://docs.microsoft.com/en-us/python/api/overview/azure/ml/intro?view=azure-ml-py\" target=\"_blank\" rel=\"noopener\">Link to Documentation</a></td></tr></table>"
      ]
     },
     "metadata": {}
    }
   ],
   "metadata": {
    "gather": {
     "logged": 1598431107951
    },
    "jupyter": {
     "outputs_hidden": false,
     "source_hidden": false
    },
    "nteract": {
     "transient": {
      "deleting": false
     }
    }
   }
  },
  {
   "cell_type": "markdown",
   "source": [
    "## Run Details\n",
    "\n",
    "In the cell below, use the `RunDetails` widget to show the different experiments."
   ],
   "metadata": {}
  },
  {
   "cell_type": "code",
   "execution_count": 22,
   "source": [
    "RunDetails(remote_run).show()\n",
    "remote_run.wait_for_completion()"
   ],
   "outputs": [
    {
     "output_type": "display_data",
     "data": {
      "text/plain": [
       "_AutoMLWidget(widget_settings={'childWidgetDisplay': 'popup', 'send_telemetry': False, 'log_level': 'INFO', 's…"
      ],
      "application/vnd.jupyter.widget-view+json": {
       "model_id": "e6fb86fd33c74847afd1d840330965fc",
       "version_major": 2,
       "version_minor": 0
      }
     },
     "metadata": {}
    },
    {
     "output_type": "display_data",
     "data": {
      "application/aml.mini.widget.v1": "{\"status\": \"Completed\", \"workbench_run_details_uri\": \"https://ml.azure.com/runs/AutoML_41b227b8-6de8-4d19-9b0f-0463a621bc87?wsid=/subscriptions/9a7511b8-150f-4a58-8528-3e7d50216c31/resourcegroups/aml-quickstarts-154595/workspaces/quick-starts-ws-154595&tid=660b3398-b80e-49d2-bc5b-ac1dc93b5254\", \"run_id\": \"AutoML_41b227b8-6de8-4d19-9b0f-0463a621bc87\", \"run_properties\": {\"run_id\": \"AutoML_41b227b8-6de8-4d19-9b0f-0463a621bc87\", \"created_utc\": \"2021-08-15T14:19:08.218876Z\", \"properties\": {\"num_iterations\": \"25\", \"training_type\": \"TrainFull\", \"acquisition_function\": \"EI\", \"primary_metric\": \"accuracy\", \"train_split\": \"0\", \"acquisition_parameter\": \"0\", \"num_cross_validation\": \"5\", \"target\": \"compute-cluster\", \"AMLSettingsJsonString\": \"{\\\"path\\\":null,\\\"name\\\":\\\"AutoML-Exp-P3\\\",\\\"subscription_id\\\":\\\"9a7511b8-150f-4a58-8528-3e7d50216c31\\\",\\\"resource_group\\\":\\\"aml-quickstarts-154595\\\",\\\"workspace_name\\\":\\\"quick-starts-ws-154595\\\",\\\"region\\\":\\\"southcentralus\\\",\\\"compute_target\\\":\\\"compute-cluster\\\",\\\"spark_service\\\":null,\\\"azure_service\\\":\\\"remote\\\",\\\"many_models\\\":false,\\\"pipeline_fetch_max_batch_size\\\":1,\\\"enable_batch_run\\\":false,\\\"enable_run_restructure\\\":false,\\\"start_auxiliary_runs_before_parent_complete\\\":false,\\\"enable_code_generation\\\":false,\\\"iterations\\\":25,\\\"primary_metric\\\":\\\"accuracy\\\",\\\"task_type\\\":\\\"classification\\\",\\\"data_script\\\":null,\\\"test_size\\\":0.0,\\\"validation_size\\\":0.0,\\\"n_cross_validations\\\":5,\\\"y_min\\\":null,\\\"y_max\\\":null,\\\"num_classes\\\":null,\\\"featurization\\\":\\\"auto\\\",\\\"_ignore_package_version_incompatibilities\\\":false,\\\"is_timeseries\\\":false,\\\"max_cores_per_iteration\\\":1,\\\"max_concurrent_iterations\\\":4,\\\"iteration_timeout_minutes\\\":5,\\\"mem_in_mb\\\":null,\\\"enforce_time_on_windows\\\":false,\\\"experiment_timeout_minutes\\\":30,\\\"experiment_exit_score\\\":null,\\\"whitelist_models\\\":null,\\\"blacklist_algos\\\":[\\\"TensorFlowLinearClassifier\\\",\\\"TensorFlowDNN\\\"],\\\"supported_models\\\":[\\\"ExtremeRandomTrees\\\",\\\"MultinomialNaiveBayes\\\",\\\"XGBoostClassifier\\\",\\\"SGD\\\",\\\"BernoulliNaiveBayes\\\",\\\"LinearSVM\\\",\\\"LightGBM\\\",\\\"TensorFlowDNN\\\",\\\"DecisionTree\\\",\\\"AveragedPerceptronClassifier\\\",\\\"KNN\\\",\\\"GradientBoosting\\\",\\\"RandomForest\\\",\\\"TensorFlowLinearClassifier\\\",\\\"LogisticRegression\\\",\\\"SVM\\\"],\\\"private_models\\\":[],\\\"auto_blacklist\\\":true,\\\"blacklist_samples_reached\\\":false,\\\"exclude_nan_labels\\\":true,\\\"verbosity\\\":20,\\\"_debug_log\\\":\\\"azureml_automl.log\\\",\\\"show_warnings\\\":false,\\\"model_explainability\\\":true,\\\"service_url\\\":null,\\\"sdk_url\\\":null,\\\"sdk_packages\\\":null,\\\"enable_onnx_compatible_models\\\":false,\\\"enable_split_onnx_featurizer_estimator_models\\\":false,\\\"vm_type\\\":\\\"STANDARD_DS12_V2\\\",\\\"telemetry_verbosity\\\":20,\\\"send_telemetry\\\":true,\\\"enable_dnn\\\":false,\\\"scenario\\\":\\\"SDK-1.13.0\\\",\\\"environment_label\\\":null,\\\"save_mlflow\\\":false,\\\"force_text_dnn\\\":false,\\\"enable_feature_sweeping\\\":true,\\\"enable_early_stopping\\\":false,\\\"early_stopping_n_iters\\\":10,\\\"metrics\\\":null,\\\"enable_metric_confidence\\\":false,\\\"enable_ensembling\\\":true,\\\"enable_stack_ensembling\\\":true,\\\"ensemble_iterations\\\":15,\\\"enable_tf\\\":false,\\\"enable_subsampling\\\":false,\\\"subsample_seed\\\":null,\\\"enable_nimbusml\\\":false,\\\"enable_streaming\\\":false,\\\"force_streaming\\\":false,\\\"track_child_runs\\\":true,\\\"allowed_private_models\\\":[],\\\"label_column_name\\\":\\\"rating\\\",\\\"weight_column_name\\\":null,\\\"cv_split_column_names\\\":null,\\\"enable_local_managed\\\":false,\\\"_local_managed_run_id\\\":null,\\\"cost_mode\\\":1,\\\"lag_length\\\":0,\\\"metric_operation\\\":\\\"maximize\\\",\\\"preprocess\\\":true}\", \"DataPrepJsonString\": \"{\\\\\\\"training_data\\\\\\\": {\\\\\\\"datasetId\\\\\\\": \\\\\\\"45537c85-b7e7-4f0f-a018-7eb7de8951db\\\\\\\"}, \\\\\\\"datasets\\\\\\\": 0}\", \"EnableSubsampling\": \"False\", \"runTemplate\": \"AutoML\", \"azureml.runsource\": \"automl\", \"display_task_type\": \"classification\", \"dependencies_versions\": \"{\\\"azureml-widgets\\\": \\\"1.32.0\\\", \\\"azureml-train\\\": \\\"1.32.0\\\", \\\"azureml-train-restclients-hyperdrive\\\": \\\"1.32.0\\\", \\\"azureml-train-core\\\": \\\"1.32.0\\\", \\\"azureml-train-automl\\\": \\\"1.32.0\\\", \\\"azureml-train-automl-runtime\\\": \\\"1.32.0\\\", \\\"azureml-train-automl-client\\\": \\\"1.32.0\\\", \\\"azureml-tensorboard\\\": \\\"1.32.0\\\", \\\"azureml-telemetry\\\": \\\"1.32.0\\\", \\\"azureml-sdk\\\": \\\"1.32.0\\\", \\\"azureml-samples\\\": \\\"0+unknown\\\", \\\"azureml-responsibleai\\\": \\\"1.32.0\\\", \\\"azureml-pipeline\\\": \\\"1.32.0\\\", \\\"azureml-pipeline-steps\\\": \\\"1.32.0\\\", \\\"azureml-pipeline-core\\\": \\\"1.32.0\\\", \\\"azureml-opendatasets\\\": \\\"1.32.0\\\", \\\"azureml-model-management-sdk\\\": \\\"1.0.1b6.post1\\\", \\\"azureml-mlflow\\\": \\\"1.32.0\\\", \\\"azureml-interpret\\\": \\\"1.32.0\\\", \\\"azureml-explain-model\\\": \\\"1.32.0\\\", \\\"azureml-defaults\\\": \\\"1.32.0\\\", \\\"azureml-dataset-runtime\\\": \\\"1.32.0\\\", \\\"azureml-dataprep\\\": \\\"2.18.0\\\", \\\"azureml-dataprep-rslex\\\": \\\"1.16.1\\\", \\\"azureml-dataprep-native\\\": \\\"36.0.0\\\", \\\"azureml-datadrift\\\": \\\"1.32.0\\\", \\\"azureml-core\\\": \\\"1.32.0\\\", \\\"azureml-contrib-services\\\": \\\"1.32.0\\\", \\\"azureml-contrib-server\\\": \\\"1.32.0\\\", \\\"azureml-contrib-reinforcementlearning\\\": \\\"1.32.0\\\", \\\"azureml-contrib-pipeline-steps\\\": \\\"1.32.0\\\", \\\"azureml-contrib-notebook\\\": \\\"1.32.0\\\", \\\"azureml-contrib-fairness\\\": \\\"1.32.0\\\", \\\"azureml-contrib-dataset\\\": \\\"1.32.0\\\", \\\"azureml-cli-common\\\": \\\"1.32.0\\\", \\\"azureml-automl-runtime\\\": \\\"1.32.0\\\", \\\"azureml-automl-dnn-nlp\\\": \\\"1.32.0\\\", \\\"azureml-automl-core\\\": \\\"1.32.0\\\", \\\"azureml-accel-models\\\": \\\"1.32.0\\\"}\", \"_aml_system_scenario_identification\": \"Remote.Parent\", \"ClientType\": \"SDK\", \"environment_cpu_name\": \"AzureML-AutoML\", \"environment_cpu_label\": \"prod\", \"environment_gpu_name\": \"AzureML-AutoML-GPU\", \"environment_gpu_label\": \"prod\", \"root_attribution\": \"automl\", \"attribution\": \"AutoML\", \"Orchestrator\": \"AutoML\", \"CancelUri\": \"https://southcentralus.api.azureml.ms/jasmine/v1.0/subscriptions/9a7511b8-150f-4a58-8528-3e7d50216c31/resourceGroups/aml-quickstarts-154595/providers/Microsoft.MachineLearningServices/workspaces/quick-starts-ws-154595/experimentids/cbe97122-7a8d-40c9-b176-4ba133ddb327/cancel/AutoML_41b227b8-6de8-4d19-9b0f-0463a621bc87\", \"azureml.git.repository_uri\": \"https://github.com/iolucas/AMLE_P3.git\", \"mlflow.source.git.repoURL\": \"https://github.com/iolucas/AMLE_P3.git\", \"azureml.git.branch\": \"main\", \"mlflow.source.git.branch\": \"main\", \"azureml.git.commit\": \"919f6e3738810ea6e7fc409605e498992e36170f\", \"mlflow.source.git.commit\": \"919f6e3738810ea6e7fc409605e498992e36170f\", \"azureml.git.dirty\": \"True\", \"ClientSdkVersion\": \"1.33.0\", \"snapshotId\": \"00000000-0000-0000-0000-000000000000\", \"SetupRunId\": \"AutoML_41b227b8-6de8-4d19-9b0f-0463a621bc87_setup\", \"SetupRunContainerId\": \"dcid.AutoML_41b227b8-6de8-4d19-9b0f-0463a621bc87_setup\", \"FeaturizationRunJsonPath\": \"featurizer_container.json\", \"FeaturizationRunId\": \"AutoML_41b227b8-6de8-4d19-9b0f-0463a621bc87_featurize\", \"ProblemInfoJsonString\": \"{\\\"dataset_num_categorical\\\": 0, \\\"is_sparse\\\": true, \\\"subsampling\\\": false, \\\"has_extra_col\\\": true, \\\"dataset_classes\\\": 5, \\\"dataset_features\\\": 141997, \\\"dataset_samples\\\": 28332, \\\"single_frequency_class_detected\\\": false}\", \"ModelExplainRunId\": \"AutoML_41b227b8-6de8-4d19-9b0f-0463a621bc87_ModelExplain\"}, \"tags\": {\"model_explain_run\": \"best_run\", \"_aml_system_azureml.automlComponent\": \"AutoML\", \"pipeline_id\": \"\", \"score\": \"\", \"predicted_cost\": \"\", \"fit_time\": \"\", \"training_percent\": \"\", \"iteration\": \"\", \"run_preprocessor\": \"\", \"run_algorithm\": \"\", \"automl_best_child_run_id\": \"AutoML_41b227b8-6de8-4d19-9b0f-0463a621bc87_23\", \"model_explain_best_run_child_id\": \"AutoML_41b227b8-6de8-4d19-9b0f-0463a621bc87_23\"}, \"end_time_utc\": \"2021-08-15T14:59:41.172059Z\", \"status\": \"Completed\", \"log_files\": {}, \"log_groups\": [], \"run_duration\": \"0:40:32\", \"run_number\": \"1\", \"run_queued_details\": {\"status\": \"Completed\", \"details\": null}}, \"child_runs\": [{\"run_id\": \"AutoML_41b227b8-6de8-4d19-9b0f-0463a621bc87_0\", \"run_number\": 5, \"metric\": null, \"status\": \"Failed\", \"run_type\": \"azureml.scriptrun\", \"training_percent\": \"100\", \"start_time\": \"2021-08-15T14:26:23.664607Z\", \"end_time\": \"2021-08-15T14:32:03.605818Z\", \"created_time\": \"2021-08-15T14:26:17.729049Z\", \"created_time_dt\": \"2021-08-15T14:26:17.729049Z\", \"duration\": \"0:05:45\", \"iteration\": \"0\", \"goal\": \"accuracy_max\", \"run_name\": \"MaxAbsScaler, LightGBM\", \"run_properties\": null}, {\"run_id\": \"AutoML_41b227b8-6de8-4d19-9b0f-0463a621bc87_3\", \"run_number\": 6, \"metric\": null, \"status\": \"Failed\", \"run_type\": \"azureml.scriptrun\", \"training_percent\": \"100\", \"start_time\": \"2021-08-15T14:26:23.103365Z\", \"end_time\": \"2021-08-15T14:32:45.879777Z\", \"created_time\": \"2021-08-15T14:26:17.792927Z\", \"created_time_dt\": \"2021-08-15T14:26:17.792927Z\", \"duration\": \"0:06:28\", \"iteration\": \"3\", \"goal\": \"accuracy_max\", \"run_name\": \"StandardScalerWrapper, XGBoostClassifier\", \"run_properties\": null}, {\"run_id\": \"AutoML_41b227b8-6de8-4d19-9b0f-0463a621bc87_1\", \"run_number\": 7, \"metric\": null, \"status\": \"Failed\", \"run_type\": \"azureml.scriptrun\", \"training_percent\": \"100\", \"start_time\": \"2021-08-15T14:26:33.033297Z\", \"end_time\": \"2021-08-15T14:32:04.870095Z\", \"created_time\": \"2021-08-15T14:26:17.797906Z\", \"created_time_dt\": \"2021-08-15T14:26:17.797906Z\", \"duration\": \"0:05:47\", \"iteration\": \"1\", \"goal\": \"accuracy_max\", \"run_name\": \"MaxAbsScaler, XGBoostClassifier\", \"run_properties\": null}, {\"run_id\": \"AutoML_41b227b8-6de8-4d19-9b0f-0463a621bc87_2\", \"run_number\": 8, \"metric\": null, \"status\": \"Failed\", \"run_type\": \"azureml.scriptrun\", \"training_percent\": \"100\", \"start_time\": \"2021-08-15T14:28:20.772906Z\", \"end_time\": \"2021-08-15T14:34:55.099189Z\", \"created_time\": \"2021-08-15T14:26:17.86965Z\", \"created_time_dt\": \"2021-08-15T14:26:17.86965Z\", \"duration\": \"0:08:37\", \"iteration\": \"2\", \"goal\": \"accuracy_max\", \"run_name\": \"StandardScalerWrapper, LightGBM\", \"run_properties\": null}, {\"run_id\": \"AutoML_41b227b8-6de8-4d19-9b0f-0463a621bc87_4\", \"run_number\": 9, \"metric\": null, \"status\": \"Completed\", \"run_type\": \"azureml.scriptrun\", \"training_percent\": \"100\", \"start_time\": \"2021-08-15T14:32:20.135825Z\", \"end_time\": \"2021-08-15T14:33:39.933383Z\", \"created_time\": \"2021-08-15T14:32:05.022107Z\", \"created_time_dt\": \"2021-08-15T14:32:05.022107Z\", \"duration\": \"0:01:34\", \"iteration\": \"4\", \"goal\": \"accuracy_max\", \"run_name\": \"MaxAbsScaler, ExtremeRandomTrees\", \"run_properties\": \"copy=True\", \"primary_metric\": 0.44984481, \"best_metric\": 0.44984481}, {\"run_id\": \"AutoML_41b227b8-6de8-4d19-9b0f-0463a621bc87_5\", \"run_number\": 10, \"metric\": null, \"status\": \"Completed\", \"run_type\": \"azureml.scriptrun\", \"training_percent\": \"100\", \"start_time\": \"2021-08-15T14:32:19.956025Z\", \"end_time\": \"2021-08-15T14:38:06.535051Z\", \"created_time\": \"2021-08-15T14:32:08.523125Z\", \"created_time_dt\": \"2021-08-15T14:32:08.523125Z\", \"duration\": \"0:05:58\", \"iteration\": \"5\", \"goal\": \"accuracy_max\", \"run_name\": \"SparseNormalizer, XGBoostClassifier\", \"run_properties\": \"copy=True, norm='l2'\", \"primary_metric\": 0.74177581, \"best_metric\": 0.74177581}, {\"run_id\": \"AutoML_41b227b8-6de8-4d19-9b0f-0463a621bc87_6\", \"run_number\": 11, \"metric\": null, \"status\": \"Completed\", \"run_type\": \"azureml.scriptrun\", \"training_percent\": \"100\", \"start_time\": \"2021-08-15T14:32:59.560591Z\", \"end_time\": \"2021-08-15T14:35:58.072613Z\", \"created_time\": \"2021-08-15T14:32:48.520491Z\", \"created_time_dt\": \"2021-08-15T14:32:48.520491Z\", \"duration\": \"0:03:09\", \"iteration\": \"6\", \"goal\": \"accuracy_max\", \"run_name\": \"MaxAbsScaler, LightGBM\", \"run_properties\": \"copy=True\", \"primary_metric\": 0.73369314, \"best_metric\": 0.74177581}, {\"run_id\": \"AutoML_41b227b8-6de8-4d19-9b0f-0463a621bc87_7\", \"run_number\": 12, \"metric\": null, \"status\": \"Completed\", \"run_type\": \"azureml.scriptrun\", \"training_percent\": \"100\", \"start_time\": \"2021-08-15T14:33:57.032391Z\", \"end_time\": \"2021-08-15T14:35:58.785955Z\", \"created_time\": \"2021-08-15T14:33:42.647081Z\", \"created_time_dt\": \"2021-08-15T14:33:42.647081Z\", \"duration\": \"0:02:16\", \"iteration\": \"7\", \"goal\": \"accuracy_max\", \"run_name\": \"MaxAbsScaler, LightGBM\", \"run_properties\": \"copy=True\", \"primary_metric\": 0.70227984, \"best_metric\": 0.74177581}, {\"run_id\": \"AutoML_41b227b8-6de8-4d19-9b0f-0463a621bc87_8\", \"run_number\": 13, \"metric\": null, \"status\": \"Completed\", \"run_type\": \"azureml.scriptrun\", \"training_percent\": \"100\", \"start_time\": \"2021-08-15T14:35:14.28392Z\", \"end_time\": \"2021-08-15T14:41:11.908555Z\", \"created_time\": \"2021-08-15T14:34:59.400289Z\", \"created_time_dt\": \"2021-08-15T14:34:59.400289Z\", \"duration\": \"0:06:12\", \"iteration\": \"8\", \"goal\": \"accuracy_max\", \"run_name\": \"StandardScalerWrapper, XGBoostClassifier\", \"run_properties\": \"\\n    copy=True,\\n    with_mean=False,\\n    with_std=False\\n\", \"primary_metric\": 0.75896505, \"best_metric\": 0.75896505}, {\"run_id\": \"AutoML_41b227b8-6de8-4d19-9b0f-0463a621bc87_9\", \"run_number\": 14, \"metric\": null, \"status\": \"Completed\", \"run_type\": \"azureml.scriptrun\", \"training_percent\": \"100\", \"start_time\": \"2021-08-15T14:36:15.854886Z\", \"end_time\": \"2021-08-15T14:39:14.274834Z\", \"created_time\": \"2021-08-15T14:36:00.772924Z\", \"created_time_dt\": \"2021-08-15T14:36:00.772924Z\", \"duration\": \"0:03:13\", \"iteration\": \"9\", \"goal\": \"accuracy_max\", \"run_name\": \"MaxAbsScaler, LogisticRegression\", \"run_properties\": \"copy=True\", \"primary_metric\": 0.86195821, \"best_metric\": 0.86195821}, {\"run_id\": \"AutoML_41b227b8-6de8-4d19-9b0f-0463a621bc87_10\", \"run_number\": 15, \"metric\": null, \"status\": \"Completed\", \"run_type\": \"azureml.scriptrun\", \"training_percent\": \"100\", \"start_time\": \"2021-08-15T14:36:12.919207Z\", \"end_time\": \"2021-08-15T14:37:33.527469Z\", \"created_time\": \"2021-08-15T14:36:04.81583Z\", \"created_time_dt\": \"2021-08-15T14:36:04.81583Z\", \"duration\": \"0:01:28\", \"iteration\": \"10\", \"goal\": \"accuracy_max\", \"run_name\": \"StandardScalerWrapper, ExtremeRandomTrees\", \"run_properties\": \"\\n    copy=True,\\n    with_mean=False,\\n    with_std=False\\n\", \"primary_metric\": 0.70227984, \"best_metric\": 0.86195821}, {\"run_id\": \"AutoML_41b227b8-6de8-4d19-9b0f-0463a621bc87_11\", \"run_number\": 16, \"metric\": null, \"status\": \"Completed\", \"run_type\": \"azureml.scriptrun\", \"training_percent\": \"100\", \"start_time\": \"2021-08-15T14:37:50.72391Z\", \"end_time\": \"2021-08-15T14:41:49.618604Z\", \"created_time\": \"2021-08-15T14:37:36.507071Z\", \"created_time_dt\": \"2021-08-15T14:37:36.507071Z\", \"duration\": \"0:04:13\", \"iteration\": \"11\", \"goal\": \"accuracy_max\", \"run_name\": \"StandardScalerWrapper, XGBoostClassifier\", \"run_properties\": \"\\n    copy=True,\\n    with_mean=False,\\n    with_std=False\\n\", \"primary_metric\": 0.73065778, \"best_metric\": 0.86195821}, {\"run_id\": \"AutoML_41b227b8-6de8-4d19-9b0f-0463a621bc87_12\", \"run_number\": 17, \"metric\": null, \"status\": \"Completed\", \"run_type\": \"azureml.scriptrun\", \"training_percent\": \"100\", \"start_time\": \"2021-08-15T14:38:23.257656Z\", \"end_time\": \"2021-08-15T14:40:12.403933Z\", \"created_time\": \"2021-08-15T14:38:09.110052Z\", \"created_time_dt\": \"2021-08-15T14:38:09.110052Z\", \"duration\": \"0:02:03\", \"iteration\": \"12\", \"goal\": \"accuracy_max\", \"run_name\": \"SparseNormalizer, LightGBM\", \"run_properties\": \"copy=True, norm='l1'\", \"primary_metric\": 0.70513885, \"best_metric\": 0.86195821}, {\"run_id\": \"AutoML_41b227b8-6de8-4d19-9b0f-0463a621bc87_13\", \"run_number\": 18, \"metric\": null, \"status\": \"Completed\", \"run_type\": \"azureml.scriptrun\", \"training_percent\": \"100\", \"start_time\": \"2021-08-15T14:39:28.755998Z\", \"end_time\": \"2021-08-15T14:44:19.511644Z\", \"created_time\": \"2021-08-15T14:39:16.692608Z\", \"created_time_dt\": \"2021-08-15T14:39:16.692608Z\", \"duration\": \"0:05:02\", \"iteration\": \"13\", \"goal\": \"accuracy_max\", \"run_name\": \"StandardScalerWrapper, XGBoostClassifier\", \"run_properties\": \"\\n    copy=True,\\n    with_mean=False,\\n    with_std=False\\n\", \"primary_metric\": 0.73521087, \"best_metric\": 0.86195821}, {\"run_id\": \"AutoML_41b227b8-6de8-4d19-9b0f-0463a621bc87_14\", \"run_number\": 19, \"metric\": null, \"status\": \"Completed\", \"run_type\": \"azureml.scriptrun\", \"training_percent\": \"100\", \"start_time\": \"2021-08-15T14:40:27.497726Z\", \"end_time\": \"2021-08-15T14:43:26.269828Z\", \"created_time\": \"2021-08-15T14:40:15.650719Z\", \"created_time_dt\": \"2021-08-15T14:40:15.650719Z\", \"duration\": \"0:03:10\", \"iteration\": \"14\", \"goal\": \"accuracy_max\", \"run_name\": \"MaxAbsScaler, LogisticRegression\", \"run_properties\": \"copy=True\", \"primary_metric\": 0.84879297, \"best_metric\": 0.86195821}, {\"run_id\": \"AutoML_41b227b8-6de8-4d19-9b0f-0463a621bc87_15\", \"run_number\": 20, \"metric\": null, \"status\": \"Completed\", \"run_type\": \"azureml.scriptrun\", \"training_percent\": \"100\", \"start_time\": \"2021-08-15T14:41:27.467388Z\", \"end_time\": \"2021-08-15T14:44:06.068256Z\", \"created_time\": \"2021-08-15T14:41:14.504451Z\", \"created_time_dt\": \"2021-08-15T14:41:14.504451Z\", \"duration\": \"0:02:51\", \"iteration\": \"15\", \"goal\": \"accuracy_max\", \"run_name\": \"MaxAbsScaler, SGD\", \"run_properties\": \"copy=True\", \"primary_metric\": 0.85045181, \"best_metric\": 0.86195821}, {\"run_id\": \"AutoML_41b227b8-6de8-4d19-9b0f-0463a621bc87_16\", \"run_number\": 21, \"metric\": null, \"status\": \"Failed\", \"run_type\": \"azureml.scriptrun\", \"training_percent\": \"100\", \"start_time\": \"2021-08-15T14:42:04.163408Z\", \"end_time\": \"2021-08-15T14:47:37.316612Z\", \"created_time\": \"2021-08-15T14:41:52.958976Z\", \"created_time_dt\": \"2021-08-15T14:41:52.958976Z\", \"duration\": \"0:05:44\", \"iteration\": \"16\", \"goal\": \"accuracy_max\", \"run_name\": \"StandardScalerWrapper, XGBoostClassifier\", \"run_properties\": null}, {\"run_id\": \"AutoML_41b227b8-6de8-4d19-9b0f-0463a621bc87_17\", \"run_number\": 22, \"metric\": null, \"status\": \"Completed\", \"run_type\": \"azureml.scriptrun\", \"training_percent\": \"100\", \"start_time\": \"2021-08-15T14:43:40.867637Z\", \"end_time\": \"2021-08-15T14:44:59.312076Z\", \"created_time\": \"2021-08-15T14:43:28.917838Z\", \"created_time_dt\": \"2021-08-15T14:43:28.917838Z\", \"duration\": \"0:01:30\", \"iteration\": \"17\", \"goal\": \"accuracy_max\", \"run_name\": \"SparseNormalizer, RandomForest\", \"run_properties\": \"copy=True, norm='l2'\", \"primary_metric\": 0.49820022, \"best_metric\": 0.86195821}, {\"run_id\": \"AutoML_41b227b8-6de8-4d19-9b0f-0463a621bc87_18\", \"run_number\": 23, \"metric\": null, \"status\": \"Completed\", \"run_type\": \"azureml.scriptrun\", \"training_percent\": \"100\", \"start_time\": \"2021-08-15T14:44:20.238297Z\", \"end_time\": \"2021-08-15T14:47:45.185637Z\", \"created_time\": \"2021-08-15T14:44:08.7941Z\", \"created_time_dt\": \"2021-08-15T14:44:08.7941Z\", \"duration\": \"0:03:36\", \"iteration\": \"18\", \"goal\": \"accuracy_max\", \"run_name\": \"StandardScalerWrapper, LogisticRegression\", \"run_properties\": \"\\n    copy=True,\\n    with_mean=False,\\n    with_std=False\\n\", \"primary_metric\": 0.84907537, \"best_metric\": 0.86195821}, {\"run_id\": \"AutoML_41b227b8-6de8-4d19-9b0f-0463a621bc87_19\", \"run_number\": 24, \"metric\": null, \"status\": \"Completed\", \"run_type\": \"azureml.scriptrun\", \"training_percent\": \"100\", \"start_time\": \"2021-08-15T14:44:35.471873Z\", \"end_time\": \"2021-08-15T14:48:35.468546Z\", \"created_time\": \"2021-08-15T14:44:22.316204Z\", \"created_time_dt\": \"2021-08-15T14:44:22.316204Z\", \"duration\": \"0:04:13\", \"iteration\": \"19\", \"goal\": \"accuracy_max\", \"run_name\": \"StandardScalerWrapper, RandomForest\", \"run_properties\": \"\\n    copy=True,\\n    with_mean=False,\\n    with_std=False\\n\", \"primary_metric\": 0.70295049, \"best_metric\": 0.86195821}, {\"run_id\": \"AutoML_41b227b8-6de8-4d19-9b0f-0463a621bc87_20\", \"run_number\": 25, \"metric\": null, \"status\": \"Failed\", \"run_type\": \"azureml.scriptrun\", \"training_percent\": \"100\", \"start_time\": \"2021-08-15T14:45:14.741238Z\", \"end_time\": \"2021-08-15T14:50:50.69569Z\", \"created_time\": \"2021-08-15T14:45:02.144239Z\", \"created_time_dt\": \"2021-08-15T14:45:02.144239Z\", \"duration\": \"0:05:48\", \"iteration\": \"20\", \"goal\": \"accuracy_max\", \"run_name\": \"StandardScalerWrapper, XGBoostClassifier\", \"run_properties\": null}, {\"run_id\": \"AutoML_41b227b8-6de8-4d19-9b0f-0463a621bc87_21\", \"run_number\": 26, \"metric\": null, \"status\": \"Completed\", \"run_type\": \"azureml.scriptrun\", \"training_percent\": \"100\", \"start_time\": \"2021-08-15T14:47:52.299059Z\", \"end_time\": \"2021-08-15T14:53:55.941665Z\", \"created_time\": \"2021-08-15T14:47:39.980033Z\", \"created_time_dt\": \"2021-08-15T14:47:39.980033Z\", \"duration\": \"0:06:15\", \"iteration\": \"21\", \"goal\": \"accuracy_max\", \"run_name\": \"TruncatedSVDWrapper, RandomForest\", \"run_properties\": \"n_components=0.8015789473684211, random_state=None\", \"primary_metric\": 0.47822204, \"best_metric\": 0.86195821}, {\"run_id\": \"AutoML_41b227b8-6de8-4d19-9b0f-0463a621bc87_22\", \"run_number\": 27, \"metric\": null, \"status\": \"Completed\", \"run_type\": \"azureml.scriptrun\", \"training_percent\": \"100\", \"start_time\": \"2021-08-15T14:48:01.397829Z\", \"end_time\": \"2021-08-15T14:53:20.197578Z\", \"created_time\": \"2021-08-15T14:47:48.360852Z\", \"created_time_dt\": \"2021-08-15T14:47:48.360852Z\", \"duration\": \"0:05:31\", \"iteration\": \"22\", \"goal\": \"accuracy_max\", \"run_name\": \"TruncatedSVDWrapper, RandomForest\", \"run_properties\": \"n_components=0.7026315789473684, random_state=None\", \"primary_metric\": 0.58005108, \"best_metric\": 0.86195821}, {\"run_id\": \"AutoML_41b227b8-6de8-4d19-9b0f-0463a621bc87_24\", \"run_number\": 28, \"metric\": null, \"status\": \"Failed\", \"run_type\": \"azureml.scriptrun\", \"training_percent\": \"100\", \"start_time\": \"2021-08-15T14:54:07.050843Z\", \"end_time\": \"2021-08-15T14:59:38.486288Z\", \"created_time\": \"2021-08-15T14:53:56.96264Z\", \"created_time_dt\": \"2021-08-15T14:53:56.96264Z\", \"duration\": \"0:05:41\", \"iteration\": \"24\", \"goal\": \"accuracy_max\", \"run_name\": \"StackEnsemble\", \"run_properties\": null}, {\"run_id\": \"AutoML_41b227b8-6de8-4d19-9b0f-0463a621bc87_23\", \"run_number\": 29, \"metric\": null, \"status\": \"Completed\", \"run_type\": \"azureml.scriptrun\", \"training_percent\": \"100\", \"start_time\": \"2021-08-15T14:54:07.525601Z\", \"end_time\": \"2021-08-15T14:56:34.808167Z\", \"created_time\": \"2021-08-15T14:53:56.967176Z\", \"created_time_dt\": \"2021-08-15T14:53:56.967176Z\", \"duration\": \"0:02:37\", \"iteration\": \"23\", \"goal\": \"accuracy_max\", \"run_name\": \"VotingEnsemble\", \"run_properties\": \"\\n    estimators=[('9', Pipeline(\\n        memory=None,\\n        steps=[('maxabsscaler', MaxAbsScaler(\\n            copy=True\\n        \", \"primary_metric\": 0.86326422, \"best_metric\": 0.86326422}], \"children_metrics\": {\"categories\": [0], \"series\": {\"accuracy\": [{\"categories\": [\"4\", \"5\", \"6\", \"7\", \"8\", \"9\", \"10\", \"11\", \"12\", \"13\", \"14\", \"15\", \"17\", \"18\", \"19\", \"21\", \"22\", \"23\"], \"mode\": \"markers\", \"name\": \"accuracy\", \"stepped\": false, \"type\": \"scatter\", \"data\": [0.449844814053732, 0.7417758050942499, 0.7336931427363764, 0.7022798434667772, 0.7589650474869806, 0.8619582125035604, 0.7022798434667772, 0.7306577780053345, 0.7051388538781787, 0.7352108749318187, 0.8487929667059513, 0.8504518110093106, 0.49820022422218757, 0.8490753715552499, 0.7029504919178671, 0.47822204474465313, 0.5800510769149124, 0.8632642235928356]}, {\"categories\": [\"4\", \"5\", \"6\", \"7\", \"8\", \"9\", \"10\", \"11\", \"12\", \"13\", \"14\", \"15\", \"17\", \"18\", \"19\", \"21\", \"22\", \"23\"], \"mode\": \"lines\", \"name\": \"accuracy_max\", \"stepped\": true, \"type\": \"scatter\", \"data\": [0.449844814053732, 0.7417758050942499, 0.7417758050942499, 0.7417758050942499, 0.7589650474869806, 0.8619582125035604, 0.8619582125035604, 0.8619582125035604, 0.8619582125035604, 0.8619582125035604, 0.8619582125035604, 0.8619582125035604, 0.8619582125035604, 0.8619582125035604, 0.8619582125035604, 0.8619582125035604, 0.8619582125035604, 0.8632642235928356]}], \"recall_score_macro\": [{\"categories\": [\"4\", \"5\", \"6\", \"7\", \"8\", \"9\", \"10\", \"11\", \"12\", \"13\", \"14\", \"15\", \"17\", \"18\", \"19\", \"21\", \"22\", \"23\"], \"mode\": \"markers\", \"name\": \"recall_score_macro\", \"stepped\": false, \"type\": \"scatter\", \"data\": [0.3666453168307892, 0.32703565798262196, 0.28814258106729607, 0.2, 0.3655097560875401, 0.6600299948496531, 0.2, 0.28162092461864063, 0.2036830999920515, 0.2957113323243302, 0.6557717724169908, 0.6570715816077192, 0.4306821824183841, 0.6571922727179903, 0.20092378016385667, 0.4292988062187792, 0.5818459395486306, 0.6544489949201011]}, {\"categories\": [\"4\", \"5\", \"6\", \"7\", \"8\", \"9\", \"10\", \"11\", \"12\", \"13\", \"14\", \"15\", \"17\", \"18\", \"19\", \"21\", \"22\", \"23\"], \"mode\": \"lines\", \"name\": \"recall_score_macro_max\", \"stepped\": true, \"type\": \"scatter\", \"data\": [0.3666453168307892, 0.3666453168307892, 0.3666453168307892, 0.3666453168307892, 0.3666453168307892, 0.6600299948496531, 0.6600299948496531, 0.6600299948496531, 0.6600299948496531, 0.6600299948496531, 0.6600299948496531, 0.6600299948496531, 0.6600299948496531, 0.6600299948496531, 0.6600299948496531, 0.6600299948496531, 0.6600299948496531, 0.6600299948496531]}], \"f1_score_weighted\": [{\"categories\": [\"4\", \"5\", \"6\", \"7\", \"8\", \"9\", \"10\", \"11\", \"12\", \"13\", \"14\", \"15\", \"17\", \"18\", \"19\", \"21\", \"22\", \"23\"], \"mode\": \"markers\", \"name\": \"f1_score_weighted\", \"stepped\": false, \"type\": \"scatter\", \"data\": [0.5039268532593383, 0.6740287931041464, 0.6540333372881646, 0.579466424783237, 0.7025123212398858, 0.8545612711660968, 0.579466424783237, 0.649428856044845, 0.5883769479280578, 0.6594374109005849, 0.8430528293770105, 0.8453353141512057, 0.544099131356542, 0.8418260761588712, 0.5817593808189694, 0.5294722089741414, 0.615952584328177, 0.8544855853795081]}, {\"categories\": [\"4\", \"5\", \"6\", \"7\", \"8\", \"9\", \"10\", \"11\", \"12\", \"13\", \"14\", \"15\", \"17\", \"18\", \"19\", \"21\", \"22\", \"23\"], \"mode\": \"lines\", \"name\": \"f1_score_weighted_max\", \"stepped\": true, \"type\": \"scatter\", \"data\": [0.5039268532593383, 0.6740287931041464, 0.6740287931041464, 0.6740287931041464, 0.7025123212398858, 0.8545612711660968, 0.8545612711660968, 0.8545612711660968, 0.8545612711660968, 0.8545612711660968, 0.8545612711660968, 0.8545612711660968, 0.8545612711660968, 0.8545612711660968, 0.8545612711660968, 0.8545612711660968, 0.8545612711660968, 0.8545612711660968]}], \"AUC_weighted\": [{\"categories\": [\"4\", \"5\", \"6\", \"7\", \"8\", \"9\", \"10\", \"11\", \"12\", \"13\", \"14\", \"15\", \"17\", \"18\", \"19\", \"21\", \"22\", \"23\"], \"mode\": \"markers\", \"name\": \"AUC_weighted\", \"stepped\": false, \"type\": \"scatter\", \"data\": [0.6478389939845274, 0.782017116357102, 0.8054259728695486, 0.7576685015233092, 0.8208947909426119, 0.9125612816196693, 0.7309519992170422, 0.768137909511754, 0.7391881654743042, 0.7702504582514635, 0.8880093325342704, 0.8952349450241653, 0.6662282699047106, 0.8982783561523939, 0.7502693857116759, 0.659349144482008, 0.707729673387327, 0.915186633824729]}, {\"categories\": [\"4\", \"5\", \"6\", \"7\", \"8\", \"9\", \"10\", \"11\", \"12\", \"13\", \"14\", \"15\", \"17\", \"18\", \"19\", \"21\", \"22\", \"23\"], \"mode\": \"lines\", \"name\": \"AUC_weighted_max\", \"stepped\": true, \"type\": \"scatter\", \"data\": [0.6478389939845274, 0.782017116357102, 0.8054259728695486, 0.8054259728695486, 0.8208947909426119, 0.9125612816196693, 0.9125612816196693, 0.9125612816196693, 0.9125612816196693, 0.9125612816196693, 0.9125612816196693, 0.9125612816196693, 0.9125612816196693, 0.9125612816196693, 0.9125612816196693, 0.9125612816196693, 0.9125612816196693, 0.915186633824729]}], \"average_precision_score_macro\": [{\"categories\": [\"4\", \"5\", \"6\", \"7\", \"8\", \"9\", \"10\", \"11\", \"12\", \"13\", \"14\", \"15\", \"17\", \"18\", \"19\", \"21\", \"22\", \"23\"], \"mode\": \"markers\", \"name\": \"average_precision_score_macro\", \"stepped\": false, \"type\": \"scatter\", \"data\": [0.28482278135357525, 0.4957832412492472, 0.5203567947891369, 0.4330462608180886, 0.5641623575086723, 0.7759143724860432, 0.36595571687768136, 0.4761528064374138, 0.37596822345023273, 0.4793945941933223, 0.7393504009815836, 0.7311868969178068, 0.3203245800268009, 0.7459202526292562, 0.3705038304687477, 0.33628924190584736, 0.48902732573876595, 0.7765947785991244]}, {\"categories\": [\"4\", \"5\", \"6\", \"7\", \"8\", \"9\", \"10\", \"11\", \"12\", \"13\", \"14\", \"15\", \"17\", \"18\", \"19\", \"21\", \"22\", \"23\"], \"mode\": \"lines\", \"name\": \"average_precision_score_macro_max\", \"stepped\": true, \"type\": \"scatter\", \"data\": [0.28482278135357525, 0.4957832412492472, 0.5203567947891369, 0.5203567947891369, 0.5641623575086723, 0.7759143724860432, 0.7759143724860432, 0.7759143724860432, 0.7759143724860432, 0.7759143724860432, 0.7759143724860432, 0.7759143724860432, 0.7759143724860432, 0.7759143724860432, 0.7759143724860432, 0.7759143724860432, 0.7759143724860432, 0.7765947785991244]}], \"f1_score_micro\": [{\"categories\": [\"4\", \"5\", \"6\", \"7\", \"8\", \"9\", \"10\", \"11\", \"12\", \"13\", \"14\", \"15\", \"17\", \"18\", \"19\", \"21\", \"22\", \"23\"], \"mode\": \"markers\", \"name\": \"f1_score_micro\", \"stepped\": false, \"type\": \"scatter\", \"data\": [0.449844814053732, 0.7417758050942499, 0.7336931427363764, 0.7022798434667772, 0.7589650474869806, 0.8619582125035604, 0.7022798434667772, 0.7306577780053345, 0.7051388538781785, 0.7352108749318187, 0.8487929667059513, 0.8504518110093107, 0.49820022422218757, 0.8490753715552499, 0.7029504919178671, 0.47822204474465313, 0.5800510769149124, 0.8632642235928356]}, {\"categories\": [\"4\", \"5\", \"6\", \"7\", \"8\", \"9\", \"10\", \"11\", \"12\", \"13\", \"14\", \"15\", \"17\", \"18\", \"19\", \"21\", \"22\", \"23\"], \"mode\": \"lines\", \"name\": \"f1_score_micro_max\", \"stepped\": true, \"type\": \"scatter\", \"data\": [0.449844814053732, 0.7417758050942499, 0.7417758050942499, 0.7417758050942499, 0.7589650474869806, 0.8619582125035604, 0.8619582125035604, 0.8619582125035604, 0.8619582125035604, 0.8619582125035604, 0.8619582125035604, 0.8619582125035604, 0.8619582125035604, 0.8619582125035604, 0.8619582125035604, 0.8619582125035604, 0.8619582125035604, 0.8632642235928356]}], \"matthews_correlation\": [{\"categories\": [\"4\", \"5\", \"6\", \"7\", \"8\", \"9\", \"10\", \"11\", \"12\", \"13\", \"14\", \"15\", \"17\", \"18\", \"19\", \"21\", \"22\", \"23\"], \"mode\": \"markers\", \"name\": \"matthews_correlation\", \"stepped\": false, \"type\": \"scatter\", \"data\": [0.1563399240659722, 0.3167366134886036, 0.2791543784488931, 0.0, 0.3822738362019562, 0.6849254019485963, 0.0, 0.2649864798657967, 0.07987901527034996, 0.2868040798025559, 0.6579128651662068, 0.662724970744596, 0.19915562895738187, 0.6557762241930137, 0.03518569557964005, 0.19459741263303904, 0.32317858854270576, 0.6863729574559121]}, {\"categories\": [\"4\", \"5\", \"6\", \"7\", \"8\", \"9\", \"10\", \"11\", \"12\", \"13\", \"14\", \"15\", \"17\", \"18\", \"19\", \"21\", \"22\", \"23\"], \"mode\": \"lines\", \"name\": \"matthews_correlation_max\", \"stepped\": true, \"type\": \"scatter\", \"data\": [0.1563399240659722, 0.3167366134886036, 0.3167366134886036, 0.3167366134886036, 0.3822738362019562, 0.6849254019485963, 0.6849254019485963, 0.6849254019485963, 0.6849254019485963, 0.6849254019485963, 0.6849254019485963, 0.6849254019485963, 0.6849254019485963, 0.6849254019485963, 0.6849254019485963, 0.6849254019485963, 0.6849254019485963, 0.6863729574559121]}], \"precision_score_micro\": [{\"categories\": [\"4\", \"5\", \"6\", \"7\", \"8\", \"9\", \"10\", \"11\", \"12\", \"13\", \"14\", \"15\", \"17\", \"18\", \"19\", \"21\", \"22\", \"23\"], \"mode\": \"markers\", \"name\": \"precision_score_micro\", \"stepped\": false, \"type\": \"scatter\", \"data\": [0.449844814053732, 0.7417758050942499, 0.7336931427363764, 0.7022798434667772, 0.7589650474869806, 0.8619582125035604, 0.7022798434667772, 0.7306577780053345, 0.7051388538781787, 0.7352108749318187, 0.8487929667059513, 0.8504518110093106, 0.49820022422218757, 0.8490753715552499, 0.7029504919178671, 0.47822204474465313, 0.5800510769149124, 0.8632642235928356]}, {\"categories\": [\"4\", \"5\", \"6\", \"7\", \"8\", \"9\", \"10\", \"11\", \"12\", \"13\", \"14\", \"15\", \"17\", \"18\", \"19\", \"21\", \"22\", \"23\"], \"mode\": \"lines\", \"name\": \"precision_score_micro_max\", \"stepped\": true, \"type\": \"scatter\", \"data\": [0.449844814053732, 0.7417758050942499, 0.7417758050942499, 0.7417758050942499, 0.7589650474869806, 0.8619582125035604, 0.8619582125035604, 0.8619582125035604, 0.8619582125035604, 0.8619582125035604, 0.8619582125035604, 0.8619582125035604, 0.8619582125035604, 0.8619582125035604, 0.8619582125035604, 0.8619582125035604, 0.8619582125035604, 0.8632642235928356]}], \"AUC_micro\": [{\"categories\": [\"4\", \"5\", \"6\", \"7\", \"8\", \"9\", \"10\", \"11\", \"12\", \"13\", \"14\", \"15\", \"17\", \"18\", \"19\", \"21\", \"22\", \"23\"], \"mode\": \"markers\", \"name\": \"AUC_micro\", \"stepped\": false, \"type\": \"scatter\", \"data\": [0.7507407363646272, 0.9354519550580914, 0.9395396574311468, 0.923825445552926, 0.9440678118133512, 0.9734827383078649, 0.9210332551639173, 0.932467030533668, 0.9226220904374662, 0.9327875479658093, 0.9667723219465252, 0.9565340238302911, 0.7919846267467504, 0.9685570315968922, 0.926194998228385, 0.789365850627631, 0.8537262080679557, 0.9723718930423348]}, {\"categories\": [\"4\", \"5\", \"6\", \"7\", \"8\", \"9\", \"10\", \"11\", \"12\", \"13\", \"14\", \"15\", \"17\", \"18\", \"19\", \"21\", \"22\", \"23\"], \"mode\": \"lines\", \"name\": \"AUC_micro_max\", \"stepped\": true, \"type\": \"scatter\", \"data\": [0.7507407363646272, 0.9354519550580914, 0.9395396574311468, 0.9395396574311468, 0.9440678118133512, 0.9734827383078649, 0.9734827383078649, 0.9734827383078649, 0.9734827383078649, 0.9734827383078649, 0.9734827383078649, 0.9734827383078649, 0.9734827383078649, 0.9734827383078649, 0.9734827383078649, 0.9734827383078649, 0.9734827383078649, 0.9734827383078649]}], \"balanced_accuracy\": [{\"categories\": [\"4\", \"5\", \"6\", \"7\", \"8\", \"9\", \"10\", \"11\", \"12\", \"13\", \"14\", \"15\", \"17\", \"18\", \"19\", \"21\", \"22\", \"23\"], \"mode\": \"markers\", \"name\": \"balanced_accuracy\", \"stepped\": false, \"type\": \"scatter\", \"data\": [0.3666453168307892, 0.32703565798262196, 0.28814258106729607, 0.2, 0.3655097560875401, 0.6600299948496531, 0.2, 0.28162092461864063, 0.2036830999920515, 0.2957113323243302, 0.6557717724169908, 0.6570715816077192, 0.4306821824183841, 0.6571922727179903, 0.20092378016385667, 0.4292988062187792, 0.5818459395486306, 0.6544489949201011]}, {\"categories\": [\"4\", \"5\", \"6\", \"7\", \"8\", \"9\", \"10\", \"11\", \"12\", \"13\", \"14\", \"15\", \"17\", \"18\", \"19\", \"21\", \"22\", \"23\"], \"mode\": \"lines\", \"name\": \"balanced_accuracy_max\", \"stepped\": true, \"type\": \"scatter\", \"data\": [0.3666453168307892, 0.3666453168307892, 0.3666453168307892, 0.3666453168307892, 0.3666453168307892, 0.6600299948496531, 0.6600299948496531, 0.6600299948496531, 0.6600299948496531, 0.6600299948496531, 0.6600299948496531, 0.6600299948496531, 0.6600299948496531, 0.6600299948496531, 0.6600299948496531, 0.6600299948496531, 0.6600299948496531, 0.6600299948496531]}], \"recall_score_weighted\": [{\"categories\": [\"4\", \"5\", \"6\", \"7\", \"8\", \"9\", \"10\", \"11\", \"12\", \"13\", \"14\", \"15\", \"17\", \"18\", \"19\", \"21\", \"22\", \"23\"], \"mode\": \"markers\", \"name\": \"recall_score_weighted\", \"stepped\": false, \"type\": \"scatter\", \"data\": [0.449844814053732, 0.7417758050942499, 0.7336931427363764, 0.7022798434667772, 0.7589650474869806, 0.8619582125035604, 0.7022798434667772, 0.7306577780053345, 0.7051388538781787, 0.7352108749318187, 0.8487929667059513, 0.8504518110093106, 0.49820022422218757, 0.8490753715552499, 0.7029504919178671, 0.47822204474465313, 0.5800510769149124, 0.8632642235928356]}, {\"categories\": [\"4\", \"5\", \"6\", \"7\", \"8\", \"9\", \"10\", \"11\", \"12\", \"13\", \"14\", \"15\", \"17\", \"18\", \"19\", \"21\", \"22\", \"23\"], \"mode\": \"lines\", \"name\": \"recall_score_weighted_max\", \"stepped\": true, \"type\": \"scatter\", \"data\": [0.449844814053732, 0.7417758050942499, 0.7417758050942499, 0.7417758050942499, 0.7589650474869806, 0.8619582125035604, 0.8619582125035604, 0.8619582125035604, 0.8619582125035604, 0.8619582125035604, 0.8619582125035604, 0.8619582125035604, 0.8619582125035604, 0.8619582125035604, 0.8619582125035604, 0.8619582125035604, 0.8619582125035604, 0.8632642235928356]}], \"norm_macro_recall\": [{\"categories\": [\"4\", \"5\", \"6\", \"7\", \"8\", \"9\", \"10\", \"11\", \"12\", \"13\", \"14\", \"15\", \"17\", \"18\", \"19\", \"21\", \"22\", \"23\"], \"mode\": \"markers\", \"name\": \"norm_macro_recall\", \"stepped\": false, \"type\": \"scatter\", \"data\": [0.20830664603848645, 0.1587945724782774, 0.11017822633412004, 0.0, 0.2068871951094251, 0.5750374935620662, 0.0, 0.1020261557733008, 0.004603874990064358, 0.11963916540541279, 0.5697147155212384, 0.5713394770096487, 0.28835272802297995, 0.571490340897488, 0.0011547252048208154, 0.2866235077734739, 0.4773074244357883, 0.5680612436501264]}, {\"categories\": [\"4\", \"5\", \"6\", \"7\", \"8\", \"9\", \"10\", \"11\", \"12\", \"13\", \"14\", \"15\", \"17\", \"18\", \"19\", \"21\", \"22\", \"23\"], \"mode\": \"lines\", \"name\": \"norm_macro_recall_max\", \"stepped\": true, \"type\": \"scatter\", \"data\": [0.20830664603848645, 0.20830664603848645, 0.20830664603848645, 0.20830664603848645, 0.20830664603848645, 0.5750374935620662, 0.5750374935620662, 0.5750374935620662, 0.5750374935620662, 0.5750374935620662, 0.5750374935620662, 0.5750374935620662, 0.5750374935620662, 0.5750374935620662, 0.5750374935620662, 0.5750374935620662, 0.5750374935620662, 0.5750374935620662]}], \"average_precision_score_weighted\": [{\"categories\": [\"4\", \"5\", \"6\", \"7\", \"8\", \"9\", \"10\", \"11\", \"12\", \"13\", \"14\", \"15\", \"17\", \"18\", \"19\", \"21\", \"22\", \"23\"], \"mode\": \"markers\", \"name\": \"average_precision_score_weighted\", \"stepped\": false, \"type\": \"scatter\", \"data\": [0.6244694687636356, 0.7487120878757025, 0.7649861108744729, 0.7182810281701977, 0.7902518757941911, 0.8896601041882208, 0.6869404798546079, 0.7363166618686977, 0.6971503118151631, 0.7385992675167137, 0.8689926450483508, 0.8728627080134805, 0.6358813149092354, 0.8717339359772319, 0.7011901542364072, 0.6356539846772143, 0.6829466899286443, 0.8938602794391416]}, {\"categories\": [\"4\", \"5\", \"6\", \"7\", \"8\", \"9\", \"10\", \"11\", \"12\", \"13\", \"14\", \"15\", \"17\", \"18\", \"19\", \"21\", \"22\", \"23\"], \"mode\": \"lines\", \"name\": \"average_precision_score_weighted_max\", \"stepped\": true, \"type\": \"scatter\", \"data\": [0.6244694687636356, 0.7487120878757025, 0.7649861108744729, 0.7649861108744729, 0.7902518757941911, 0.8896601041882208, 0.8896601041882208, 0.8896601041882208, 0.8896601041882208, 0.8896601041882208, 0.8896601041882208, 0.8896601041882208, 0.8896601041882208, 0.8896601041882208, 0.8896601041882208, 0.8896601041882208, 0.8896601041882208, 0.8938602794391416]}], \"precision_score_macro\": [{\"categories\": [\"4\", \"5\", \"6\", \"7\", \"8\", \"9\", \"10\", \"11\", \"12\", \"13\", \"14\", \"15\", \"17\", \"18\", \"19\", \"21\", \"22\", \"23\"], \"mode\": \"markers\", \"name\": \"precision_score_macro\", \"stepped\": false, \"type\": \"scatter\", \"data\": [0.2800924212076884, 0.6849484911112139, 0.686047399685315, 0.14045596869335547, 0.745231839888281, 0.7928285210963109, 0.14045596869335547, 0.6705012344739658, 0.27358861599505147, 0.6729280020615971, 0.7538460146048795, 0.765839467890908, 0.3165870924836036, 0.7691916295150435, 0.24997980139742979, 0.3041814651624436, 0.4042746709353433, 0.8097062979920221]}, {\"categories\": [\"4\", \"5\", \"6\", \"7\", \"8\", \"9\", \"10\", \"11\", \"12\", \"13\", \"14\", \"15\", \"17\", \"18\", \"19\", \"21\", \"22\", \"23\"], \"mode\": \"lines\", \"name\": \"precision_score_macro_max\", \"stepped\": true, \"type\": \"scatter\", \"data\": [0.2800924212076884, 0.6849484911112139, 0.686047399685315, 0.686047399685315, 0.745231839888281, 0.7928285210963109, 0.7928285210963109, 0.7928285210963109, 0.7928285210963109, 0.7928285210963109, 0.7928285210963109, 0.7928285210963109, 0.7928285210963109, 0.7928285210963109, 0.7928285210963109, 0.7928285210963109, 0.7928285210963109, 0.8097062979920221]}], \"log_loss\": [{\"categories\": [\"4\", \"5\", \"6\", \"7\", \"8\", \"9\", \"10\", \"11\", \"12\", \"13\", \"14\", \"15\", \"17\", \"18\", \"19\", \"21\", \"22\", \"23\"], \"mode\": \"markers\", \"name\": \"log_loss\", \"stepped\": false, \"type\": \"scatter\", \"data\": [1.588508664798766, 0.9787919710368052, 0.7016647503628497, 0.8096869594166239, 0.949976754270088, 0.4470516766802703, 0.8098921168187303, 0.9934390645454311, 0.7913286410148472, 0.9899941688806383, 1.5618783031407033, 1.902695731670639, 1.4753496370389374, 0.5031526133001745, 0.7650785723827079, 1.4444512005134917, 1.3543814186254806, 0.7179948554268567]}, {\"categories\": [\"4\", \"5\", \"6\", \"7\", \"8\", \"9\", \"10\", \"11\", \"12\", \"13\", \"14\", \"15\", \"17\", \"18\", \"19\", \"21\", \"22\", \"23\"], \"mode\": \"lines\", \"name\": \"log_loss_min\", \"stepped\": true, \"type\": \"scatter\", \"data\": [1.588508664798766, 0.9787919710368052, 0.7016647503628497, 0.7016647503628497, 0.7016647503628497, 0.4470516766802703, 0.4470516766802703, 0.4470516766802703, 0.4470516766802703, 0.4470516766802703, 0.4470516766802703, 0.4470516766802703, 0.4470516766802703, 0.4470516766802703, 0.4470516766802703, 0.4470516766802703, 0.4470516766802703, 0.4470516766802703]}], \"AUC_macro\": [{\"categories\": [\"4\", \"5\", \"6\", \"7\", \"8\", \"9\", \"10\", \"11\", \"12\", \"13\", \"14\", \"15\", \"17\", \"18\", \"19\", \"21\", \"22\", \"23\"], \"mode\": \"markers\", \"name\": \"AUC_macro\", \"stepped\": false, \"type\": \"scatter\", \"data\": [0.7043791383599073, 0.8239655909742531, 0.8604007234912189, 0.8134413741376753, 0.8555955706582283, 0.9372633761641105, 0.7977989153035334, 0.8169277007392678, 0.796593945454988, 0.8162473757020894, 0.9169132460679524, 0.8809789666761452, 0.7432465457406593, 0.9252561484215803, 0.8146686219395163, 0.7403281378116068, 0.8036991671399945, 0.935963642804906]}, {\"categories\": [\"4\", \"5\", \"6\", \"7\", \"8\", \"9\", \"10\", \"11\", \"12\", \"13\", \"14\", \"15\", \"17\", \"18\", \"19\", \"21\", \"22\", \"23\"], \"mode\": \"lines\", \"name\": \"AUC_macro_max\", \"stepped\": true, \"type\": \"scatter\", \"data\": [0.7043791383599073, 0.8239655909742531, 0.8604007234912189, 0.8604007234912189, 0.8604007234912189, 0.9372633761641105, 0.9372633761641105, 0.9372633761641105, 0.9372633761641105, 0.9372633761641105, 0.9372633761641105, 0.9372633761641105, 0.9372633761641105, 0.9372633761641105, 0.9372633761641105, 0.9372633761641105, 0.9372633761641105, 0.9372633761641105]}], \"precision_score_weighted\": [{\"categories\": [\"4\", \"5\", \"6\", \"7\", \"8\", \"9\", \"10\", \"11\", \"12\", \"13\", \"14\", \"15\", \"17\", \"18\", \"19\", \"21\", \"22\", \"23\"], \"mode\": \"markers\", \"name\": \"precision_score_weighted\", \"stepped\": false, \"type\": \"scatter\", \"data\": [0.6344846877943656, 0.7232694133365484, 0.7225662294240236, 0.49322607365769383, 0.7554032792013212, 0.8554784417704916, 0.49322607365769383, 0.7170973594598495, 0.6275479916321298, 0.7203081740485151, 0.8419456159730518, 0.8442560133555324, 0.6518560024579102, 0.8413064994643851, 0.6028857745879244, 0.6549554150737414, 0.710747725499407, 0.8578391060862256]}, {\"categories\": [\"4\", \"5\", \"6\", \"7\", \"8\", \"9\", \"10\", \"11\", \"12\", \"13\", \"14\", \"15\", \"17\", \"18\", \"19\", \"21\", \"22\", \"23\"], \"mode\": \"lines\", \"name\": \"precision_score_weighted_max\", \"stepped\": true, \"type\": \"scatter\", \"data\": [0.6344846877943656, 0.7232694133365484, 0.7232694133365484, 0.7232694133365484, 0.7554032792013212, 0.8554784417704916, 0.8554784417704916, 0.8554784417704916, 0.8554784417704916, 0.8554784417704916, 0.8554784417704916, 0.8554784417704916, 0.8554784417704916, 0.8554784417704916, 0.8554784417704916, 0.8554784417704916, 0.8554784417704916, 0.8578391060862256]}], \"f1_score_macro\": [{\"categories\": [\"4\", \"5\", \"6\", \"7\", \"8\", \"9\", \"10\", \"11\", \"12\", \"13\", \"14\", \"15\", \"17\", \"18\", \"19\", \"21\", \"22\", \"23\"], \"mode\": \"markers\", \"name\": \"f1_score_macro\", \"stepped\": false, \"type\": \"scatter\", \"data\": [0.2733138914940251, 0.37611999116265293, 0.3178707480826925, 0.1650186524300635, 0.4300054068468902, 0.7134944966959288, 0.1650186524300635, 0.30999432480356626, 0.17311926546380824, 0.33207632418266375, 0.6967316929336489, 0.7022379286699592, 0.3225967285702388, 0.7036435648535914, 0.16710923170482786, 0.31175852177228175, 0.44096820137265286, 0.7150469220015921]}, {\"categories\": [\"4\", \"5\", \"6\", \"7\", \"8\", \"9\", \"10\", \"11\", \"12\", \"13\", \"14\", \"15\", \"17\", \"18\", \"19\", \"21\", \"22\", \"23\"], \"mode\": \"lines\", \"name\": \"f1_score_macro_max\", \"stepped\": true, \"type\": \"scatter\", \"data\": [0.2733138914940251, 0.37611999116265293, 0.37611999116265293, 0.37611999116265293, 0.4300054068468902, 0.7134944966959288, 0.7134944966959288, 0.7134944966959288, 0.7134944966959288, 0.7134944966959288, 0.7134944966959288, 0.7134944966959288, 0.7134944966959288, 0.7134944966959288, 0.7134944966959288, 0.7134944966959288, 0.7134944966959288, 0.7150469220015921]}], \"weighted_accuracy\": [{\"categories\": [\"4\", \"5\", \"6\", \"7\", \"8\", \"9\", \"10\", \"11\", \"12\", \"13\", \"14\", \"15\", \"17\", \"18\", \"19\", \"21\", \"22\", \"23\"], \"mode\": \"markers\", \"name\": \"weighted_accuracy\", \"stepped\": false, \"type\": \"scatter\", \"data\": [0.4740019641770665, 0.9214931602126246, 0.9232870072779489, 0.9193984258379373, 0.9274660207829168, 0.9364220374522343, 0.9193984258379373, 0.9219487495436874, 0.9194066934308017, 0.9223670675784431, 0.9188711967995445, 0.9177569235163336, 0.5239658688303082, 0.9243213366636926, 0.9193410802584486, 0.49921872383598176, 0.5864223711611718, 0.9424170320485477]}, {\"categories\": [\"4\", \"5\", \"6\", \"7\", \"8\", \"9\", \"10\", \"11\", \"12\", \"13\", \"14\", \"15\", \"17\", \"18\", \"19\", \"21\", \"22\", \"23\"], \"mode\": \"lines\", \"name\": \"weighted_accuracy_max\", \"stepped\": true, \"type\": \"scatter\", \"data\": [0.4740019641770665, 0.9214931602126246, 0.9232870072779489, 0.9232870072779489, 0.9274660207829168, 0.9364220374522343, 0.9364220374522343, 0.9364220374522343, 0.9364220374522343, 0.9364220374522343, 0.9364220374522343, 0.9364220374522343, 0.9364220374522343, 0.9364220374522343, 0.9364220374522343, 0.9364220374522343, 0.9364220374522343, 0.9424170320485477]}], \"recall_score_micro\": [{\"categories\": [\"4\", \"5\", \"6\", \"7\", \"8\", \"9\", \"10\", \"11\", \"12\", \"13\", \"14\", \"15\", \"17\", \"18\", \"19\", \"21\", \"22\", \"23\"], \"mode\": \"markers\", \"name\": \"recall_score_micro\", \"stepped\": false, \"type\": \"scatter\", \"data\": [0.449844814053732, 0.7417758050942499, 0.7336931427363764, 0.7022798434667772, 0.7589650474869806, 0.8619582125035604, 0.7022798434667772, 0.7306577780053345, 0.7051388538781787, 0.7352108749318187, 0.8487929667059513, 0.8504518110093106, 0.49820022422218757, 0.8490753715552499, 0.7029504919178671, 0.47822204474465313, 0.5800510769149124, 0.8632642235928356]}, {\"categories\": [\"4\", \"5\", \"6\", \"7\", \"8\", \"9\", \"10\", \"11\", \"12\", \"13\", \"14\", \"15\", \"17\", \"18\", \"19\", \"21\", \"22\", \"23\"], \"mode\": \"lines\", \"name\": \"recall_score_micro_max\", \"stepped\": true, \"type\": \"scatter\", \"data\": [0.449844814053732, 0.7417758050942499, 0.7417758050942499, 0.7417758050942499, 0.7589650474869806, 0.8619582125035604, 0.8619582125035604, 0.8619582125035604, 0.8619582125035604, 0.8619582125035604, 0.8619582125035604, 0.8619582125035604, 0.8619582125035604, 0.8619582125035604, 0.8619582125035604, 0.8619582125035604, 0.8619582125035604, 0.8632642235928356]}], \"average_precision_score_micro\": [{\"categories\": [\"4\", \"5\", \"6\", \"7\", \"8\", \"9\", \"10\", \"11\", \"12\", \"13\", \"14\", \"15\", \"17\", \"18\", \"19\", \"21\", \"22\", \"23\"], \"mode\": \"markers\", \"name\": \"average_precision_score_micro\", \"stepped\": false, \"type\": \"scatter\", \"data\": [0.4388949797190113, 0.7952400733988595, 0.8069348176677591, 0.7702153032269401, 0.8220638307229173, 0.9083745569963056, 0.7555557601396696, 0.7845848500414142, 0.7626800916287546, 0.7868711003303289, 0.8878316424402369, 0.8835618966474209, 0.49070623483195985, 0.8948336930557389, 0.7699801123513416, 0.49210321122852907, 0.5815726174919231, 0.9065873039849006]}, {\"categories\": [\"4\", \"5\", \"6\", \"7\", \"8\", \"9\", \"10\", \"11\", \"12\", \"13\", \"14\", \"15\", \"17\", \"18\", \"19\", \"21\", \"22\", \"23\"], \"mode\": \"lines\", \"name\": \"average_precision_score_micro_max\", \"stepped\": true, \"type\": \"scatter\", \"data\": [0.4388949797190113, 0.7952400733988595, 0.8069348176677591, 0.8069348176677591, 0.8220638307229173, 0.9083745569963056, 0.9083745569963056, 0.9083745569963056, 0.9083745569963056, 0.9083745569963056, 0.9083745569963056, 0.9083745569963056, 0.9083745569963056, 0.9083745569963056, 0.9083745569963056, 0.9083745569963056, 0.9083745569963056, 0.9083745569963056]}]}, \"metricName\": null, \"primaryMetricName\": \"accuracy\", \"showLegend\": false}, \"run_metrics\": [{\"name\": \"experiment_status\", \"run_id\": \"AutoML_41b227b8-6de8-4d19-9b0f-0463a621bc87\", \"categories\": [0, 1, 2, 3, 4, 5, 6, 7, 8, 9, 10, 11, 12, 13, 14], \"series\": [{\"data\": [\"DatasetEvaluation\", \"FeaturesGeneration\", \"DatasetFeaturization\", \"DatasetFeaturizationCompleted\", \"DatasetBalancing\", \"DatasetCrossValidationSplit\", \"ModelSelection\", \"BestRunExplainModel\", \"ModelExplanationDataSetSetup\", \"PickSurrogateModel\", \"EngineeredFeatureExplanations\", \"EngineeredFeatureExplanations\", \"RawFeaturesExplanations\", \"RawFeaturesExplanations\", \"BestRunExplainModel\"]}]}, {\"name\": \"experiment_status_description\", \"run_id\": \"AutoML_41b227b8-6de8-4d19-9b0f-0463a621bc87\", \"categories\": [0, 1, 2, 3, 4, 5, 6, 7, 8, 9, 10, 11, 12, 13, 14], \"series\": [{\"data\": [\"Gathering dataset statistics.\", \"Generating features for the dataset.\", \"Beginning to fit featurizers and featurize the dataset.\", \"Completed fit featurizers and featurizing the dataset.\", \"Performing class balancing sweeping\", \"Generating individually featurized CV splits.\", \"Beginning model selection.\", \"Best run model explanations started\", \"Model explanations data setup completed\", \"Choosing LinearModel as the surrogate model for explanations\", \"Computation of engineered features started\", \"Computation of engineered features completed\", \"Computation of raw features started\", \"Computation of raw features completed\", \"Best run model explanations completed\"]}]}, {\"name\": \"recall_score_weighted\", \"run_id\": \"AutoML_41b227b8-6de8-4d19-9b0f-0463a621bc87\", \"categories\": [0], \"series\": [{\"data\": [0.8632642235928356]}]}, {\"name\": \"average_precision_score_micro\", \"run_id\": \"AutoML_41b227b8-6de8-4d19-9b0f-0463a621bc87\", \"categories\": [0], \"series\": [{\"data\": [0.9065873039849006]}]}, {\"name\": \"matthews_correlation\", \"run_id\": \"AutoML_41b227b8-6de8-4d19-9b0f-0463a621bc87\", \"categories\": [0], \"series\": [{\"data\": [0.6863729574559121]}]}, {\"name\": \"average_precision_score_macro\", \"run_id\": \"AutoML_41b227b8-6de8-4d19-9b0f-0463a621bc87\", \"categories\": [0], \"series\": [{\"data\": [0.7765947785991244]}]}, {\"name\": \"accuracy\", \"run_id\": \"AutoML_41b227b8-6de8-4d19-9b0f-0463a621bc87\", \"categories\": [0], \"series\": [{\"data\": [0.8632642235928356]}]}, {\"name\": \"precision_score_micro\", \"run_id\": \"AutoML_41b227b8-6de8-4d19-9b0f-0463a621bc87\", \"categories\": [0], \"series\": [{\"data\": [0.8632642235928356]}]}, {\"name\": \"AUC_micro\", \"run_id\": \"AutoML_41b227b8-6de8-4d19-9b0f-0463a621bc87\", \"categories\": [0], \"series\": [{\"data\": [0.9723718930423348]}]}, {\"name\": \"f1_score_weighted\", \"run_id\": \"AutoML_41b227b8-6de8-4d19-9b0f-0463a621bc87\", \"categories\": [0], \"series\": [{\"data\": [0.8544855853795081]}]}, {\"name\": \"weighted_accuracy\", \"run_id\": \"AutoML_41b227b8-6de8-4d19-9b0f-0463a621bc87\", \"categories\": [0], \"series\": [{\"data\": [0.9424170320485477]}]}, {\"name\": \"balanced_accuracy\", \"run_id\": \"AutoML_41b227b8-6de8-4d19-9b0f-0463a621bc87\", \"categories\": [0], \"series\": [{\"data\": [0.6544489949201011]}]}, {\"name\": \"average_precision_score_weighted\", \"run_id\": \"AutoML_41b227b8-6de8-4d19-9b0f-0463a621bc87\", \"categories\": [0], \"series\": [{\"data\": [0.8938602794391416]}]}, {\"name\": \"f1_score_micro\", \"run_id\": \"AutoML_41b227b8-6de8-4d19-9b0f-0463a621bc87\", \"categories\": [0], \"series\": [{\"data\": [0.8632642235928356]}]}, {\"name\": \"log_loss\", \"run_id\": \"AutoML_41b227b8-6de8-4d19-9b0f-0463a621bc87\", \"categories\": [0], \"series\": [{\"data\": [0.7179948554268567]}]}, {\"name\": \"norm_macro_recall\", \"run_id\": \"AutoML_41b227b8-6de8-4d19-9b0f-0463a621bc87\", \"categories\": [0], \"series\": [{\"data\": [0.5680612436501264]}]}, {\"name\": \"recall_score_micro\", \"run_id\": \"AutoML_41b227b8-6de8-4d19-9b0f-0463a621bc87\", \"categories\": [0], \"series\": [{\"data\": [0.8632642235928356]}]}, {\"name\": \"AUC_macro\", \"run_id\": \"AutoML_41b227b8-6de8-4d19-9b0f-0463a621bc87\", \"categories\": [0], \"series\": [{\"data\": [0.935963642804906]}]}, {\"name\": \"AUC_weighted\", \"run_id\": \"AutoML_41b227b8-6de8-4d19-9b0f-0463a621bc87\", \"categories\": [0], \"series\": [{\"data\": [0.915186633824729]}]}, {\"name\": \"recall_score_macro\", \"run_id\": \"AutoML_41b227b8-6de8-4d19-9b0f-0463a621bc87\", \"categories\": [0], \"series\": [{\"data\": [0.6544489949201011]}]}, {\"name\": \"f1_score_macro\", \"run_id\": \"AutoML_41b227b8-6de8-4d19-9b0f-0463a621bc87\", \"categories\": [0], \"series\": [{\"data\": [0.7150469220015921]}]}, {\"name\": \"precision_score_macro\", \"run_id\": \"AutoML_41b227b8-6de8-4d19-9b0f-0463a621bc87\", \"categories\": [0], \"series\": [{\"data\": [0.8097062979920221]}]}, {\"name\": \"precision_score_weighted\", \"run_id\": \"AutoML_41b227b8-6de8-4d19-9b0f-0463a621bc87\", \"categories\": [0], \"series\": [{\"data\": [0.8578391060862256]}]}], \"run_logs\": \"\\nRun is completed.\", \"graph\": {}, \"widget_settings\": {\"childWidgetDisplay\": \"popup\", \"send_telemetry\": false, \"log_level\": \"INFO\", \"sdk_version\": \"1.32.0\"}, \"loading\": false}"
     },
     "metadata": {}
    },
    {
     "output_type": "execute_result",
     "data": {
      "text/plain": [
       "{'runId': 'AutoML_41b227b8-6de8-4d19-9b0f-0463a621bc87',\n",
       " 'target': 'compute-cluster',\n",
       " 'status': 'Completed',\n",
       " 'startTimeUtc': '2021-08-15T14:19:22.091836Z',\n",
       " 'endTimeUtc': '2021-08-15T14:59:41.172059Z',\n",
       " 'properties': {'num_iterations': '25',\n",
       "  'training_type': 'TrainFull',\n",
       "  'acquisition_function': 'EI',\n",
       "  'primary_metric': 'accuracy',\n",
       "  'train_split': '0',\n",
       "  'acquisition_parameter': '0',\n",
       "  'num_cross_validation': '5',\n",
       "  'target': 'compute-cluster',\n",
       "  'AMLSettingsJsonString': '{\"path\":null,\"name\":\"AutoML-Exp-P3\",\"subscription_id\":\"9a7511b8-150f-4a58-8528-3e7d50216c31\",\"resource_group\":\"aml-quickstarts-154595\",\"workspace_name\":\"quick-starts-ws-154595\",\"region\":\"southcentralus\",\"compute_target\":\"compute-cluster\",\"spark_service\":null,\"azure_service\":\"remote\",\"many_models\":false,\"pipeline_fetch_max_batch_size\":1,\"enable_batch_run\":false,\"enable_run_restructure\":false,\"start_auxiliary_runs_before_parent_complete\":false,\"enable_code_generation\":false,\"iterations\":25,\"primary_metric\":\"accuracy\",\"task_type\":\"classification\",\"data_script\":null,\"test_size\":0.0,\"validation_size\":0.0,\"n_cross_validations\":5,\"y_min\":null,\"y_max\":null,\"num_classes\":null,\"featurization\":\"auto\",\"_ignore_package_version_incompatibilities\":false,\"is_timeseries\":false,\"max_cores_per_iteration\":1,\"max_concurrent_iterations\":4,\"iteration_timeout_minutes\":5,\"mem_in_mb\":null,\"enforce_time_on_windows\":false,\"experiment_timeout_minutes\":30,\"experiment_exit_score\":null,\"whitelist_models\":null,\"blacklist_algos\":[\"TensorFlowLinearClassifier\",\"TensorFlowDNN\"],\"supported_models\":[\"ExtremeRandomTrees\",\"MultinomialNaiveBayes\",\"XGBoostClassifier\",\"SGD\",\"BernoulliNaiveBayes\",\"LinearSVM\",\"LightGBM\",\"TensorFlowDNN\",\"DecisionTree\",\"AveragedPerceptronClassifier\",\"KNN\",\"GradientBoosting\",\"RandomForest\",\"TensorFlowLinearClassifier\",\"LogisticRegression\",\"SVM\"],\"private_models\":[],\"auto_blacklist\":true,\"blacklist_samples_reached\":false,\"exclude_nan_labels\":true,\"verbosity\":20,\"_debug_log\":\"azureml_automl.log\",\"show_warnings\":false,\"model_explainability\":true,\"service_url\":null,\"sdk_url\":null,\"sdk_packages\":null,\"enable_onnx_compatible_models\":false,\"enable_split_onnx_featurizer_estimator_models\":false,\"vm_type\":\"STANDARD_DS12_V2\",\"telemetry_verbosity\":20,\"send_telemetry\":true,\"enable_dnn\":false,\"scenario\":\"SDK-1.13.0\",\"environment_label\":null,\"save_mlflow\":false,\"force_text_dnn\":false,\"enable_feature_sweeping\":true,\"enable_early_stopping\":false,\"early_stopping_n_iters\":10,\"metrics\":null,\"enable_metric_confidence\":false,\"enable_ensembling\":true,\"enable_stack_ensembling\":true,\"ensemble_iterations\":15,\"enable_tf\":false,\"enable_subsampling\":false,\"subsample_seed\":null,\"enable_nimbusml\":false,\"enable_streaming\":false,\"force_streaming\":false,\"track_child_runs\":true,\"allowed_private_models\":[],\"label_column_name\":\"rating\",\"weight_column_name\":null,\"cv_split_column_names\":null,\"enable_local_managed\":false,\"_local_managed_run_id\":null,\"cost_mode\":1,\"lag_length\":0,\"metric_operation\":\"maximize\",\"preprocess\":true}',\n",
       "  'DataPrepJsonString': '{\\\\\"training_data\\\\\": {\\\\\"datasetId\\\\\": \\\\\"45537c85-b7e7-4f0f-a018-7eb7de8951db\\\\\"}, \\\\\"datasets\\\\\": 0}',\n",
       "  'EnableSubsampling': 'False',\n",
       "  'runTemplate': 'AutoML',\n",
       "  'azureml.runsource': 'automl',\n",
       "  'display_task_type': 'classification',\n",
       "  'dependencies_versions': '{\"azureml-widgets\": \"1.32.0\", \"azureml-train\": \"1.32.0\", \"azureml-train-restclients-hyperdrive\": \"1.32.0\", \"azureml-train-core\": \"1.32.0\", \"azureml-train-automl\": \"1.32.0\", \"azureml-train-automl-runtime\": \"1.32.0\", \"azureml-train-automl-client\": \"1.32.0\", \"azureml-tensorboard\": \"1.32.0\", \"azureml-telemetry\": \"1.32.0\", \"azureml-sdk\": \"1.32.0\", \"azureml-samples\": \"0+unknown\", \"azureml-responsibleai\": \"1.32.0\", \"azureml-pipeline\": \"1.32.0\", \"azureml-pipeline-steps\": \"1.32.0\", \"azureml-pipeline-core\": \"1.32.0\", \"azureml-opendatasets\": \"1.32.0\", \"azureml-model-management-sdk\": \"1.0.1b6.post1\", \"azureml-mlflow\": \"1.32.0\", \"azureml-interpret\": \"1.32.0\", \"azureml-explain-model\": \"1.32.0\", \"azureml-defaults\": \"1.32.0\", \"azureml-dataset-runtime\": \"1.32.0\", \"azureml-dataprep\": \"2.18.0\", \"azureml-dataprep-rslex\": \"1.16.1\", \"azureml-dataprep-native\": \"36.0.0\", \"azureml-datadrift\": \"1.32.0\", \"azureml-core\": \"1.32.0\", \"azureml-contrib-services\": \"1.32.0\", \"azureml-contrib-server\": \"1.32.0\", \"azureml-contrib-reinforcementlearning\": \"1.32.0\", \"azureml-contrib-pipeline-steps\": \"1.32.0\", \"azureml-contrib-notebook\": \"1.32.0\", \"azureml-contrib-fairness\": \"1.32.0\", \"azureml-contrib-dataset\": \"1.32.0\", \"azureml-cli-common\": \"1.32.0\", \"azureml-automl-runtime\": \"1.32.0\", \"azureml-automl-dnn-nlp\": \"1.32.0\", \"azureml-automl-core\": \"1.32.0\", \"azureml-accel-models\": \"1.32.0\"}',\n",
       "  '_aml_system_scenario_identification': 'Remote.Parent',\n",
       "  'ClientType': 'SDK',\n",
       "  'environment_cpu_name': 'AzureML-AutoML',\n",
       "  'environment_cpu_label': 'prod',\n",
       "  'environment_gpu_name': 'AzureML-AutoML-GPU',\n",
       "  'environment_gpu_label': 'prod',\n",
       "  'root_attribution': 'automl',\n",
       "  'attribution': 'AutoML',\n",
       "  'Orchestrator': 'AutoML',\n",
       "  'CancelUri': 'https://southcentralus.api.azureml.ms/jasmine/v1.0/subscriptions/9a7511b8-150f-4a58-8528-3e7d50216c31/resourceGroups/aml-quickstarts-154595/providers/Microsoft.MachineLearningServices/workspaces/quick-starts-ws-154595/experimentids/cbe97122-7a8d-40c9-b176-4ba133ddb327/cancel/AutoML_41b227b8-6de8-4d19-9b0f-0463a621bc87',\n",
       "  'azureml.git.repository_uri': 'https://github.com/iolucas/AMLE_P3.git',\n",
       "  'mlflow.source.git.repoURL': 'https://github.com/iolucas/AMLE_P3.git',\n",
       "  'azureml.git.branch': 'main',\n",
       "  'mlflow.source.git.branch': 'main',\n",
       "  'azureml.git.commit': '919f6e3738810ea6e7fc409605e498992e36170f',\n",
       "  'mlflow.source.git.commit': '919f6e3738810ea6e7fc409605e498992e36170f',\n",
       "  'azureml.git.dirty': 'True',\n",
       "  'ClientSdkVersion': '1.33.0',\n",
       "  'snapshotId': '00000000-0000-0000-0000-000000000000',\n",
       "  'SetupRunId': 'AutoML_41b227b8-6de8-4d19-9b0f-0463a621bc87_setup',\n",
       "  'SetupRunContainerId': 'dcid.AutoML_41b227b8-6de8-4d19-9b0f-0463a621bc87_setup',\n",
       "  'FeaturizationRunJsonPath': 'featurizer_container.json',\n",
       "  'FeaturizationRunId': 'AutoML_41b227b8-6de8-4d19-9b0f-0463a621bc87_featurize',\n",
       "  'ProblemInfoJsonString': '{\"dataset_num_categorical\": 0, \"is_sparse\": true, \"subsampling\": false, \"has_extra_col\": true, \"dataset_classes\": 5, \"dataset_features\": 141997, \"dataset_samples\": 28332, \"single_frequency_class_detected\": false}',\n",
       "  'ModelExplainRunId': 'AutoML_41b227b8-6de8-4d19-9b0f-0463a621bc87_ModelExplain'},\n",
       " 'inputDatasets': [{'dataset': {'id': '45537c85-b7e7-4f0f-a018-7eb7de8951db'}, 'consumptionDetails': {'type': 'RunInput', 'inputName': 'training_data', 'mechanism': 'Direct'}}],\n",
       " 'outputDatasets': [],\n",
       " 'logFiles': {},\n",
       " 'submittedBy': 'ODL_User 154595'}"
      ]
     },
     "metadata": {},
     "execution_count": 22
    }
   ],
   "metadata": {
    "gather": {
     "logged": 1598431121770
    },
    "jupyter": {
     "outputs_hidden": false,
     "source_hidden": false
    },
    "nteract": {
     "transient": {
      "deleting": false
     }
    }
   }
  },
  {
   "cell_type": "markdown",
   "source": [
    "## Best Model\n",
    "\n",
    "In the cell below, get the best model from the automl experiments and display all the properties of the model.\n",
    "\n"
   ],
   "metadata": {}
  },
  {
   "cell_type": "code",
   "execution_count": 54,
   "source": [
    "best_run = remote_run.get_best_child()\r\n",
    "best_run_metrics = best_run.get_metrics()\r\n",
    "\r\n",
    "print('Best Run Id: ', best_run.id)\r\n",
    "\r\n",
    "print('\\n Accuracy:', best_run_metrics['accuracy'])"
   ],
   "outputs": [
    {
     "output_type": "stream",
     "name": "stdout",
     "text": [
      "Best Run Id:  AutoML_41b227b8-6de8-4d19-9b0f-0463a621bc87_23\n",
      "\n",
      " Accuracy: 0.8632642235928356\n"
     ]
    }
   ],
   "metadata": {}
  },
  {
   "cell_type": "code",
   "execution_count": 112,
   "source": [
    "model_obj = remote_run.get_output()[1]"
   ],
   "outputs": [
    {
     "output_type": "stream",
     "name": "stderr",
     "text": [
      "WARNING:root:The version of the SDK does not match the version the model was trained on.\n",
      "WARNING:root:The consistency in the result may not be guaranteed.\n",
      "WARNING:root:Package:azureml-automl-core, training version:1.33.0, current version:1.32.0\n",
      "Package:azureml-automl-runtime, training version:1.33.0, current version:1.32.0\n",
      "Package:azureml-core, training version:1.33.0, current version:1.32.0\n",
      "Package:azureml-dataprep, training version:2.20.1, current version:2.18.0\n",
      "Package:azureml-dataprep-native, training version:38.0.0, current version:36.0.0\n",
      "Package:azureml-dataprep-rslex, training version:1.18.0, current version:1.16.1\n",
      "Package:azureml-dataset-runtime, training version:1.33.0, current version:1.32.0\n",
      "Package:azureml-defaults, training version:1.33.0, current version:1.32.0\n",
      "Package:azureml-interpret, training version:1.33.0, current version:1.32.0\n",
      "Package:azureml-mlflow, training version:1.33.0, current version:1.32.0\n",
      "Package:azureml-pipeline-core, training version:1.33.0, current version:1.32.0\n",
      "Package:azureml-responsibleai, training version:1.33.0, current version:1.32.0\n",
      "Package:azureml-telemetry, training version:1.33.0, current version:1.32.0\n",
      "Package:azureml-train-automl-client, training version:1.33.0, current version:1.32.0\n",
      "Package:azureml-train-automl-runtime, training version:1.33.0, current version:1.32.0\n",
      "WARNING:root:Please ensure the version of your local conda dependencies match the version on which your model was trained in order to properly retrieve your model.\n"
     ]
    }
   ],
   "metadata": {}
  },
  {
   "cell_type": "code",
   "execution_count": 113,
   "source": [
    "from pprint import pprint\r\n",
    "\r\n",
    "def print_model(model, prefix=\"\"):\r\n",
    "    for step in model.steps:\r\n",
    "        print(prefix + step[0])\r\n",
    "        if hasattr(step[1], 'estimators') and hasattr(step[1], 'weights'):\r\n",
    "            pprint({'estimators': list(\r\n",
    "                e[0] for e in step[1].estimators), 'weights': step[1].weights})\r\n",
    "            print()\r\n",
    "            for estimator in step[1].estimators:\r\n",
    "                print_model(estimator[1], estimator[0] + ' - ')\r\n",
    "        else:\r\n",
    "            pprint(step[1].get_params())\r\n",
    "            print()\r\n",
    "\r\n",
    "print_model(model_obj)"
   ],
   "outputs": [
    {
     "output_type": "stream",
     "name": "stdout",
     "text": [
      "datatransformer\n",
      "{'enable_dnn': False,\n",
      " 'enable_feature_sweeping': True,\n",
      " 'feature_sweeping_config': {},\n",
      " 'feature_sweeping_timeout': 86400,\n",
      " 'featurization_config': None,\n",
      " 'force_text_dnn': False,\n",
      " 'is_cross_validation': True,\n",
      " 'is_onnx_compatible': False,\n",
      " 'observer': None,\n",
      " 'task': 'classification',\n",
      " 'working_dir': '/mnt/batch/tasks/shared/LS_root/mounts/clusters/notebook154595/code/AMLE_P3'}\n",
      "\n",
      "prefittedsoftvotingclassifier\n",
      "{'estimators': ['9', '15', '18', '14', '8', '13', '6', '22', '17', '4'],\n",
      " 'weights': [0.2,\n",
      "             0.06666666666666667,\n",
      "             0.06666666666666667,\n",
      "             0.06666666666666667,\n",
      "             0.06666666666666667,\n",
      "             0.13333333333333333,\n",
      "             0.06666666666666667,\n",
      "             0.13333333333333333,\n",
      "             0.06666666666666667,\n",
      "             0.13333333333333333]}\n",
      "\n",
      "9 - maxabsscaler\n",
      "{'copy': True}\n",
      "\n",
      "9 - logisticregression\n",
      "{'C': 1.7575106248547894,\n",
      " 'class_weight': None,\n",
      " 'dual': False,\n",
      " 'fit_intercept': True,\n",
      " 'intercept_scaling': 1,\n",
      " 'l1_ratio': None,\n",
      " 'max_iter': 100,\n",
      " 'multi_class': 'multinomial',\n",
      " 'n_jobs': 1,\n",
      " 'penalty': 'l2',\n",
      " 'random_state': None,\n",
      " 'solver': 'lbfgs',\n",
      " 'tol': 0.0001,\n",
      " 'verbose': 0,\n",
      " 'warm_start': False}\n",
      "\n",
      "15 - maxabsscaler\n",
      "{'copy': True}\n",
      "\n",
      "15 - sgdclassifierwrapper\n",
      "{'alpha': 7.5510448979591835,\n",
      " 'class_weight': 'balanced',\n",
      " 'eta0': 0.001,\n",
      " 'fit_intercept': True,\n",
      " 'l1_ratio': 0.42857142857142855,\n",
      " 'learning_rate': 'constant',\n",
      " 'loss': 'modified_huber',\n",
      " 'max_iter': 1000,\n",
      " 'n_jobs': 1,\n",
      " 'penalty': 'none',\n",
      " 'power_t': 0.7777777777777777,\n",
      " 'random_state': None,\n",
      " 'tol': 0.0001}\n",
      "\n",
      "18 - standardscalerwrapper\n",
      "{'class_name': 'StandardScaler',\n",
      " 'copy': True,\n",
      " 'module_name': 'sklearn.preprocessing._data',\n",
      " 'with_mean': False,\n",
      " 'with_std': False}\n",
      "\n",
      "18 - logisticregression\n",
      "{'C': 51.79474679231202,\n",
      " 'class_weight': None,\n",
      " 'dual': False,\n",
      " 'fit_intercept': True,\n",
      " 'intercept_scaling': 1,\n",
      " 'l1_ratio': None,\n",
      " 'max_iter': 100,\n",
      " 'multi_class': 'ovr',\n",
      " 'n_jobs': 1,\n",
      " 'penalty': 'l2',\n",
      " 'random_state': None,\n",
      " 'solver': 'lbfgs',\n",
      " 'tol': 0.0001,\n",
      " 'verbose': 0,\n",
      " 'warm_start': False}\n",
      "\n",
      "14 - maxabsscaler\n",
      "{'copy': True}\n",
      "\n",
      "14 - logisticregression\n",
      "{'C': 719.6856730011514,\n",
      " 'class_weight': None,\n",
      " 'dual': False,\n",
      " 'fit_intercept': True,\n",
      " 'intercept_scaling': 1,\n",
      " 'l1_ratio': None,\n",
      " 'max_iter': 100,\n",
      " 'multi_class': 'multinomial',\n",
      " 'n_jobs': 1,\n",
      " 'penalty': 'l2',\n",
      " 'random_state': None,\n",
      " 'solver': 'lbfgs',\n",
      " 'tol': 0.0001,\n",
      " 'verbose': 0,\n",
      " 'warm_start': False}\n",
      "\n",
      "8 - standardscalerwrapper\n",
      "{'class_name': 'StandardScaler',\n",
      " 'copy': True,\n",
      " 'module_name': 'sklearn.preprocessing._data',\n",
      " 'with_mean': False,\n",
      " 'with_std': False}\n",
      "\n",
      "8 - xgboostclassifier\n",
      "{'base_score': 0.5,\n",
      " 'booster': 'gbtree',\n",
      " 'colsample_bylevel': 1,\n",
      " 'colsample_bynode': 1,\n",
      " 'colsample_bytree': 0.5,\n",
      " 'eta': 0.3,\n",
      " 'gamma': 0,\n",
      " 'learning_rate': 0.1,\n",
      " 'max_delta_step': 0,\n",
      " 'max_depth': 10,\n",
      " 'max_leaves': 255,\n",
      " 'min_child_weight': 1,\n",
      " 'missing': nan,\n",
      " 'n_estimators': 10,\n",
      " 'n_jobs': 1,\n",
      " 'nthread': None,\n",
      " 'objective': 'multi:softprob',\n",
      " 'random_state': 0,\n",
      " 'reg_alpha': 0,\n",
      " 'reg_lambda': 0.10416666666666667,\n",
      " 'scale_pos_weight': 1,\n",
      " 'seed': None,\n",
      " 'silent': None,\n",
      " 'subsample': 0.7,\n",
      " 'tree_method': 'auto',\n",
      " 'verbose': -10,\n",
      " 'verbosity': 0}\n",
      "\n",
      "13 - standardscalerwrapper\n",
      "{'class_name': 'StandardScaler',\n",
      " 'copy': True,\n",
      " 'module_name': 'sklearn.preprocessing._data',\n",
      " 'with_mean': False,\n",
      " 'with_std': False}\n",
      "\n",
      "13 - xgboostclassifier\n",
      "{'base_score': 0.5,\n",
      " 'booster': 'gbtree',\n",
      " 'colsample_bylevel': 1,\n",
      " 'colsample_bynode': 1,\n",
      " 'colsample_bytree': 0.6,\n",
      " 'eta': 0.3,\n",
      " 'gamma': 0,\n",
      " 'learning_rate': 0.1,\n",
      " 'max_delta_step': 0,\n",
      " 'max_depth': 6,\n",
      " 'max_leaves': 0,\n",
      " 'min_child_weight': 1,\n",
      " 'missing': nan,\n",
      " 'n_estimators': 10,\n",
      " 'n_jobs': 1,\n",
      " 'nthread': None,\n",
      " 'objective': 'multi:softprob',\n",
      " 'random_state': 0,\n",
      " 'reg_alpha': 0.3125,\n",
      " 'reg_lambda': 2.3958333333333335,\n",
      " 'scale_pos_weight': 1,\n",
      " 'seed': None,\n",
      " 'silent': None,\n",
      " 'subsample': 1,\n",
      " 'tree_method': 'auto',\n",
      " 'verbose': -10,\n",
      " 'verbosity': 0}\n",
      "\n",
      "6 - maxabsscaler\n",
      "{'copy': True}\n",
      "\n",
      "6 - lightgbmclassifier\n",
      "{'boosting_type': 'gbdt',\n",
      " 'colsample_bytree': 0.6933333333333332,\n",
      " 'learning_rate': 0.09473736842105263,\n",
      " 'max_bin': 110,\n",
      " 'max_depth': 8,\n",
      " 'min_child_weight': 6,\n",
      " 'min_data_in_leaf': 0.003457931034482759,\n",
      " 'min_split_gain': 1,\n",
      " 'n_estimators': 25,\n",
      " 'n_jobs': 1,\n",
      " 'num_leaves': 227,\n",
      " 'problem_info': ProblemInfo(\n",
      "    dataset_samples=28332,\n",
      "    dataset_features=141997,\n",
      "    dataset_classes=None,\n",
      "    dataset_num_categorical=0,\n",
      "    dataset_categoricals=None,\n",
      "    pipeline_categoricals=None,\n",
      "    dataset_y_std=None,\n",
      "    dataset_uid=None,\n",
      "    subsampling=False,\n",
      "    task='classification',\n",
      "    metric=None,\n",
      "    num_threads=1,\n",
      "    pipeline_profile='none',\n",
      "    is_sparse=True,\n",
      "    runtime_constraints={'mem_in_mb': None, 'wall_time_in_s': 300, 'total_wall_time_in_s': 31449600, 'cpu_time_in_s': None, 'num_processes': None, 'grace_period_in_s': None},\n",
      "    constraint_mode=1,\n",
      "    cost_mode=1,\n",
      "    training_percent=100,\n",
      "    num_recommendations=1,\n",
      "    model_names_whitelisted=None,\n",
      "    model_names_blacklisted=None,\n",
      "    kernel='linear',\n",
      "    subsampling_treatment='linear',\n",
      "    subsampling_schedule='hyperband_clip',\n",
      "    cost_mode_param=None,\n",
      "    iteration_timeout_mode=0,\n",
      "    iteration_timeout_param=None,\n",
      "    feature_column_names=None,\n",
      "    label_column_name=None,\n",
      "    weight_column_name=None,\n",
      "    cv_split_column_names=None,\n",
      "    enable_streaming=None,\n",
      "    timeseries_param_dict=None,\n",
      "    gpu_training_param_dict={'processing_unit_type': 'cpu'}\n",
      "),\n",
      " 'random_state': None,\n",
      " 'reg_alpha': 0.9473684210526315,\n",
      " 'reg_lambda': 0.42105263157894735,\n",
      " 'subsample': 0.49526315789473685}\n",
      "\n",
      "22 - truncatedsvdwrapper\n",
      "{'n_components': 0.7026315789473684, 'random_state': None}\n",
      "\n",
      "22 - randomforestclassifier\n",
      "{'bootstrap': False,\n",
      " 'ccp_alpha': 0.0,\n",
      " 'class_weight': 'balanced',\n",
      " 'criterion': 'gini',\n",
      " 'max_depth': None,\n",
      " 'max_features': 'log2',\n",
      " 'max_leaf_nodes': None,\n",
      " 'max_samples': None,\n",
      " 'min_impurity_decrease': 0.0,\n",
      " 'min_impurity_split': None,\n",
      " 'min_samples_leaf': 0.01,\n",
      " 'min_samples_split': 0.01,\n",
      " 'min_weight_fraction_leaf': 0.0,\n",
      " 'n_estimators': 200,\n",
      " 'n_jobs': 1,\n",
      " 'oob_score': False,\n",
      " 'random_state': None,\n",
      " 'verbose': 0,\n",
      " 'warm_start': False}\n",
      "\n",
      "17 - sparsenormalizer\n",
      "{'copy': True, 'norm': 'l2'}\n",
      "\n",
      "17 - randomforestclassifier\n",
      "{'bootstrap': True,\n",
      " 'ccp_alpha': 0.0,\n",
      " 'class_weight': 'balanced',\n",
      " 'criterion': 'gini',\n",
      " 'max_depth': None,\n",
      " 'max_features': 'sqrt',\n",
      " 'max_leaf_nodes': None,\n",
      " 'max_samples': None,\n",
      " 'min_impurity_decrease': 0.0,\n",
      " 'min_impurity_split': None,\n",
      " 'min_samples_leaf': 0.01,\n",
      " 'min_samples_split': 0.01,\n",
      " 'min_weight_fraction_leaf': 0.0,\n",
      " 'n_estimators': 100,\n",
      " 'n_jobs': 1,\n",
      " 'oob_score': True,\n",
      " 'random_state': None,\n",
      " 'verbose': 0,\n",
      " 'warm_start': False}\n",
      "\n",
      "4 - maxabsscaler\n",
      "{'copy': True}\n",
      "\n",
      "4 - extratreesclassifier\n",
      "{'bootstrap': True,\n",
      " 'ccp_alpha': 0.0,\n",
      " 'class_weight': 'balanced',\n",
      " 'criterion': 'gini',\n",
      " 'max_depth': None,\n",
      " 'max_features': 'sqrt',\n",
      " 'max_leaf_nodes': None,\n",
      " 'max_samples': None,\n",
      " 'min_impurity_decrease': 0.0,\n",
      " 'min_impurity_split': None,\n",
      " 'min_samples_leaf': 0.01,\n",
      " 'min_samples_split': 0.15052631578947367,\n",
      " 'min_weight_fraction_leaf': 0.0,\n",
      " 'n_estimators': 100,\n",
      " 'n_jobs': 1,\n",
      " 'oob_score': True,\n",
      " 'random_state': None,\n",
      " 'verbose': 0,\n",
      " 'warm_start': False}\n",
      "\n"
     ]
    }
   ],
   "metadata": {}
  },
  {
   "cell_type": "code",
   "execution_count": 100,
   "source": [
    "#asdas = remote_run.get_output()"
   ],
   "outputs": [],
   "metadata": {}
  },
  {
   "cell_type": "code",
   "execution_count": 101,
   "source": [
    "test_df = pd.DataFrame()\r\n",
    "test_df[\"review\"] = [\"awful experience\"]\r\n",
    "asdas[1].predict(test_df)"
   ],
   "outputs": [
    {
     "output_type": "execute_result",
     "data": {
      "text/plain": [
       "array([5])"
      ]
     },
     "metadata": {},
     "execution_count": 101
    }
   ],
   "metadata": {}
  },
  {
   "cell_type": "markdown",
   "source": [
    "## Model Deployment\n",
    "\n",
    "Remember you have to deploy only one of the two models you trained.. Perform the steps in the rest of this notebook only if you wish to deploy this model.\n",
    "\n",
    "In the cell below, register the model, create an inference config and deploy the model as a web service."
   ],
   "metadata": {}
  },
  {
   "cell_type": "code",
   "execution_count": 67,
   "source": [
    "best_run.download_file(\"outputs/model.pkl\")"
   ],
   "outputs": [],
   "metadata": {}
  },
  {
   "cell_type": "code",
   "execution_count": 68,
   "source": [
    "model = Model.register(workspace=ws,\r\n",
    "                       model_name='best_model_automl',                # Name of the registered model in your workspace.\r\n",
    "                       model_path='./model.pkl',  # Local file to upload and register as a model.\r\n",
    "                      )"
   ],
   "outputs": [
    {
     "output_type": "stream",
     "name": "stdout",
     "text": [
      "Registering model best_model_automl\n"
     ]
    }
   ],
   "metadata": {
    "gather": {
     "logged": 1598431435189
    },
    "jupyter": {
     "outputs_hidden": false,
     "source_hidden": false
    },
    "nteract": {
     "transient": {
      "deleting": false
     }
    }
   }
  },
  {
   "cell_type": "code",
   "execution_count": 115,
   "source": [
    "automl_env = Environment.get(ws, \"AzureML-AutoML\")\r\n",
    "inference_config = InferenceConfig(source_directory=\".\", entry_script=\"score_automl.py\", environment=automl_env)\r\n",
    "aci_config = AciWebservice.deploy_configuration(cpu_cores=2, memory_gb=2)\r\n",
    "\r\n",
    "service_name = 'automl-model'\r\n",
    "\r\n",
    "service = model.deploy(ws, service_name, [model], overwrite=True, inference_config=inference_config, deployment_config=aci_config)\r\n",
    "service.wait_for_deployment(show_output=True)"
   ],
   "outputs": [
    {
     "output_type": "stream",
     "name": "stdout",
     "text": [
      "Tips: You can try get_logs(): https://aka.ms/debugimage#dockerlog or local deployment: https://aka.ms/debugimage#debug-locally to debug if deployment takes longer than 10 minutes.\n",
      "Running\n",
      "2021-08-15 17:10:39+00:00 Creating Container Registry if not exists.\n",
      "2021-08-15 17:10:39+00:00 Registering the environment.\n",
      "2021-08-15 17:10:40+00:00 Use the existing image.\n",
      "2021-08-15 17:10:41+00:00 Generating deployment configuration.\n",
      "2021-08-15 17:10:41+00:00 Submitting deployment to compute..\n",
      "2021-08-15 17:10:45+00:00 Checking the status of deployment automl-model..\n",
      "2021-08-15 17:23:32+00:00 Checking the status of inference endpoint automl-model.\n",
      "Succeeded\n",
      "ACI service creation operation finished, operation \"Succeeded\"\n"
     ]
    }
   ],
   "metadata": {}
  },
  {
   "cell_type": "markdown",
   "source": [
    "In the cell below, send a request to the web service you deployed to test it."
   ],
   "metadata": {
    "collapsed": true,
    "gather": {
     "logged": 1598431657736
    },
    "jupyter": {
     "outputs_hidden": false,
     "source_hidden": false
    },
    "nteract": {
     "transient": {
      "deleting": false
     }
    }
   }
  },
  {
   "cell_type": "code",
   "execution_count": 119,
   "source": [
    "print(service.scoring_uri)"
   ],
   "outputs": [
    {
     "output_type": "stream",
     "name": "stdout",
     "text": [
      "http://719fc540-7e77-46db-b677-7a512a1ccfbe.southcentralus.azurecontainer.io/score\n"
     ]
    }
   ],
   "metadata": {}
  },
  {
   "cell_type": "code",
   "execution_count": 124,
   "source": [
    "reviews = [\r\n",
    "    \"i loved it\", \r\n",
    "    \"fine product\",\r\n",
    "    \"I hate it\",\r\n",
    "    \"awful\"\r\n",
    "]\r\n",
    "\r\n",
    "predictions = requests.post(\"http://719fc540-7e77-46db-b677-7a512a1ccfbe.southcentralus.azurecontainer.io/score\", json={\r\n",
    "    \"data\": reviews\r\n",
    "}).json()\r\n",
    "\r\n",
    "pd.DataFrame(data={\"Review\":reviews, \"Predicted Rating\":predictions})"
   ],
   "outputs": [
    {
     "output_type": "execute_result",
     "data": {
      "text/plain": [
       "         Review  Predicted Rating\n",
       "0    i loved it                 5\n",
       "1  fine product                 5\n",
       "2     I hate it                 3\n",
       "3         awful                 1"
      ],
      "text/html": [
       "<div>\n",
       "<style scoped>\n",
       "    .dataframe tbody tr th:only-of-type {\n",
       "        vertical-align: middle;\n",
       "    }\n",
       "\n",
       "    .dataframe tbody tr th {\n",
       "        vertical-align: top;\n",
       "    }\n",
       "\n",
       "    .dataframe thead th {\n",
       "        text-align: right;\n",
       "    }\n",
       "</style>\n",
       "<table border=\"1\" class=\"dataframe\">\n",
       "  <thead>\n",
       "    <tr style=\"text-align: right;\">\n",
       "      <th></th>\n",
       "      <th>Review</th>\n",
       "      <th>Predicted Rating</th>\n",
       "    </tr>\n",
       "  </thead>\n",
       "  <tbody>\n",
       "    <tr>\n",
       "      <th>0</th>\n",
       "      <td>i loved it</td>\n",
       "      <td>5</td>\n",
       "    </tr>\n",
       "    <tr>\n",
       "      <th>1</th>\n",
       "      <td>fine product</td>\n",
       "      <td>5</td>\n",
       "    </tr>\n",
       "    <tr>\n",
       "      <th>2</th>\n",
       "      <td>I hate it</td>\n",
       "      <td>3</td>\n",
       "    </tr>\n",
       "    <tr>\n",
       "      <th>3</th>\n",
       "      <td>awful</td>\n",
       "      <td>1</td>\n",
       "    </tr>\n",
       "  </tbody>\n",
       "</table>\n",
       "</div>"
      ]
     },
     "metadata": {},
     "execution_count": 124
    }
   ],
   "metadata": {
    "gather": {
     "logged": 1598432707604
    },
    "jupyter": {
     "outputs_hidden": false,
     "source_hidden": false
    },
    "nteract": {
     "transient": {
      "deleting": false
     }
    }
   }
  },
  {
   "cell_type": "code",
   "execution_count": null,
   "source": [],
   "outputs": [],
   "metadata": {}
  },
  {
   "cell_type": "markdown",
   "source": [
    "In the cell below, print the logs of the web service and delete the service"
   ],
   "metadata": {
    "collapsed": true,
    "gather": {
     "logged": 1598432765711
    },
    "jupyter": {
     "outputs_hidden": false,
     "source_hidden": false
    },
    "nteract": {
     "transient": {
      "deleting": false
     }
    }
   }
  },
  {
   "cell_type": "code",
   "execution_count": 118,
   "source": [
    "print(service.get_logs())"
   ],
   "outputs": [
    {
     "output_type": "stream",
     "name": "stdout",
     "text": [
      "2021-08-15T17:22:50,324653900+00:00 - iot-server/run \n",
      "2021-08-15T17:22:50,325340700+00:00 - gunicorn/run \n",
      "2021-08-15T17:22:50,326867900+00:00 - rsyslog/run \n",
      "Dynamic Python package installation is disabled.\n",
      "Starting HTTP server\n",
      "2021-08-15T17:22:50,351371000+00:00 - nginx/run \n",
      "rsyslogd: /azureml-envs/azureml_3489174eb648a475780c9959ff366072/lib/libuuid.so.1: no version information available (required by rsyslogd)\n",
      "EdgeHubConnectionString and IOTEDGE_IOTHUBHOSTNAME are not set. Exiting...\n",
      "2021-08-15T17:22:50,646920100+00:00 - iot-server/finish 1 0\n",
      "2021-08-15T17:22:50,648343800+00:00 - Exit code 1 is normal. Not restarting iot-server.\n",
      "Starting gunicorn 20.1.0\n",
      "Listening at: http://127.0.0.1:31311 (73)\n",
      "Using worker: sync\n",
      "worker timeout is set to 300\n",
      "Booting worker with pid: 102\n",
      "SPARK_HOME not set. Skipping PySpark Initialization.\n",
      "Generating new fontManager, this may take some time...\n",
      "Initializing logger\n",
      "2021-08-15 17:22:52,987 | root | INFO | Starting up app insights client\n",
      "logging socket was found. logging is available.\n",
      "logging socket was found. logging is available.\n",
      "2021-08-15 17:22:52,987 | root | INFO | Starting up request id generator\n",
      "2021-08-15 17:22:52,987 | root | INFO | Starting up app insight hooks\n",
      "2021-08-15 17:22:52,987 | root | INFO | Invoking user's init function\n",
      "2021-08-15 17:23:05,059 | azureml.core | WARNING | Failure while loading azureml_run_type_providers. Failed to load entrypoint automl = azureml.train.automl.run:AutoMLRun._from_run_dto with exception cannot import name 'RunType'.\n",
      "Failure while loading azureml_run_type_providers. Failed to load entrypoint automl = azureml.train.automl.run:AutoMLRun._from_run_dto with exception cannot import name 'RunType'.\n",
      "2021-08-15 17:23:07,705 | root | INFO | Users's init has completed successfully\n",
      "2021-08-15 17:23:07,708 | root | INFO | Skipping middleware: dbg_model_info as it's not enabled.\n",
      "2021-08-15 17:23:07,708 | root | INFO | Skipping middleware: dbg_resource_usage as it's not enabled.\n",
      "2021-08-15 17:23:07,709 | root | INFO | Scoring timeout is found from os.environ: 60000 ms\n",
      "2021-08-15 17:23:32,381 | root | INFO | Swagger file not present\n",
      "2021-08-15 17:23:32,381 | root | INFO | 404\n",
      "127.0.0.1 - - [15/Aug/2021:17:23:32 +0000] \"GET /swagger.json HTTP/1.0\" 404 19 \"-\" \"Go-http-client/1.1\"\n",
      "2021-08-15 17:23:34,033 | root | INFO | Swagger file not present\n",
      "2021-08-15 17:23:34,033 | root | INFO | 404\n",
      "127.0.0.1 - - [15/Aug/2021:17:23:34 +0000] \"GET /swagger.json HTTP/1.0\" 404 19 \"-\" \"Go-http-client/1.1\"\n",
      "2021-08-15 17:23:34,076 | root | INFO | Scoring Timer is set to 60.0 seconds\n",
      "2021-08-15 17:23:34,729 | root | INFO | 200\n",
      "127.0.0.1 - - [15/Aug/2021:17:23:34 +0000] \"POST /score HTTP/1.0\" 200 12 \"-\" \"python-requests/2.25.1\"\n",
      "2021-08-15 17:28:37,217 | root | INFO | Scoring Timer is set to 60.0 seconds\n",
      "2021-08-15 17:28:38,325 | root | INFO | 200\n",
      "127.0.0.1 - - [15/Aug/2021:17:28:38 +0000] \"POST /score HTTP/1.0\" 200 12 \"-\" \"python-requests/2.25.1\"\n",
      "\n"
     ]
    }
   ],
   "metadata": {}
  },
  {
   "cell_type": "code",
   "execution_count": null,
   "source": [
    "service.delete()"
   ],
   "outputs": [],
   "metadata": {
    "jupyter": {
     "outputs_hidden": false,
     "source_hidden": false
    },
    "nteract": {
     "transient": {
      "deleting": false
     }
    }
   }
  }
 ],
 "metadata": {
  "kernel_info": {
   "name": "python3-azureml"
  },
  "kernelspec": {
   "display_name": "Python 3",
   "language": "python",
   "name": "python3"
  },
  "language_info": {
   "codemirror_mode": {
    "name": "ipython",
    "version": 3
   },
   "file_extension": ".py",
   "mimetype": "text/x-python",
   "name": "python",
   "nbconvert_exporter": "python",
   "pygments_lexer": "ipython3",
   "version": "3.6.9"
  },
  "nteract": {
   "version": "nteract-front-end@1.0.0"
  }
 },
 "nbformat": 4,
 "nbformat_minor": 2
}