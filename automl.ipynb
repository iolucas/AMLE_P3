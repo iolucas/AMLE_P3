{
 "cells": [
  {
   "cell_type": "markdown",
   "metadata": {},
   "source": [
    "# Automated ML\n",
    "\n",
    "Import Dependencies. In the cell below, import all the dependencies that you will need to complete the project."
   ]
  },
  {
   "cell_type": "code",
   "execution_count": 75,
   "metadata": {
    "gather": {
     "logged": 1598423888013
    },
    "jupyter": {
     "outputs_hidden": false,
     "source_hidden": false
    },
    "nteract": {
     "transient": {
      "deleting": false
     }
    }
   },
   "outputs": [],
   "source": [
    "from azureml.core import Workspace, Experiment\n",
    "from azureml.train.automl import AutoMLConfig\n",
    "\n",
    "from azureml.core.compute import AmlCompute\n",
    "from azureml.core.compute import ComputeTarget\n",
    "from azureml.core.compute_target import ComputeTargetException\n",
    "from azureml.widgets import RunDetails\n",
    "\n",
    "from azureml.core.model import InferenceConfig\n",
    "from azureml.core.webservice import AciWebservice\n",
    "from azureml.core import Environment\n",
    "\n",
    "import joblib\n",
    "\n",
    "import requests"
   ]
  },
  {
   "cell_type": "markdown",
   "metadata": {},
   "source": [
    "## Dataset\n",
    "\n",
    "### Overview\n",
    "TODO: In this markdown cell, give an overview of the dataset you are using. Also mention the task you will be performing.\n",
    "\n",
    "\n",
    "Get data. In the cell below, write code to access the data you will be using in this project. Remember that the dataset needs to be external."
   ]
  },
  {
   "cell_type": "code",
   "execution_count": 4,
   "metadata": {
    "gather": {
     "logged": 1598423890461
    },
    "jupyter": {
     "outputs_hidden": false,
     "source_hidden": false
    },
    "nteract": {
     "transient": {
      "deleting": false
     }
    }
   },
   "outputs": [],
   "source": [
    "ws = Workspace.from_config()\n",
    "\n",
    "# choose a name for experiment\n",
    "experiment_name = 'amazon_review_prediction_automl'\n",
    "\n",
    "experiment=Experiment(ws, experiment_name)\n",
    "\n",
    "found = False\n",
    "dataset_name = \"Amazon Reviews\"\n",
    "dataset_descriptions = \"Set of Amazon products text reviews together with their rating value ranging from 1 to 5.\"\n",
    "\n",
    "if dataset_name in ws.datasets.keys(): \n",
    "        found = True\n",
    "        dataset = ws.datasets[dataset_name] \n",
    "\n",
    "if not found:\n",
    "        dataset = TabularDatasetFactory.from_delimited_files(path=\"https://github.com/iolucas/AMLE_P3/raw/main/amazon_reviews.csv\") \n",
    "        dataset = ds.register(workspace=ws, name=dataset_name, description=dataset_descriptions)"
   ]
  },
  {
   "cell_type": "code",
   "execution_count": 11,
   "metadata": {},
   "outputs": [
    {
     "name": "stdout",
     "output_type": "stream",
     "text": [
      "Found existing cluster, use it.\n"
     ]
    }
   ],
   "source": [
    "amlcompute_cluster_name = \"compute-cluster\"\n",
    "\n",
    "# Verify that cluster does not exist already\n",
    "try:\n",
    "    compute_target = ComputeTarget(workspace=ws, name=amlcompute_cluster_name)\n",
    "    print('Found existing cluster, use it.')\n",
    "except ComputeTargetException:\n",
    "    compute_config = AmlCompute.provisioning_configuration(vm_size='Standard_DS12_v2',# for GPU, use \"STANDARD_NC6\"\n",
    "                                                           #vm_priority = 'lowpriority', # optional\n",
    "                                                           max_nodes=4)\n",
    "    compute_target = ComputeTarget.create(ws, amlcompute_cluster_name, compute_config)"
   ]
  },
  {
   "cell_type": "markdown",
   "metadata": {},
   "source": [
    "## AutoML Configuration\n",
    "\n",
    "TODO: Explain why you chose the automl settings and cofiguration you used below."
   ]
  },
  {
   "cell_type": "code",
   "execution_count": 17,
   "metadata": {
    "gather": {
     "logged": 1598429217746
    },
    "jupyter": {
     "outputs_hidden": false,
     "source_hidden": false
    },
    "nteract": {
     "transient": {
      "deleting": false
     }
    }
   },
   "outputs": [],
   "source": [
    "automl_settings = {\n",
    "    \"experiment_timeout_minutes\": 30,\n",
    "    \"task\": \"classification\",\n",
    "    \"primary_metric\": \"accuracy\",\n",
    "    \"training_data\": dataset,\n",
    "    \"label_column_name\": \"rating\",\n",
    "    \"n_cross_validations\":5,\n",
    "    \"compute_target\": compute_target,\n",
    "    \"max_concurrent_iterations\": 4,\n",
    "    \"iteration_timeout_minutes\": 5,\n",
    "    \"iterations\": 25    \n",
    "}\n",
    "\n",
    "automl_config = AutoMLConfig(**automl_settings)"
   ]
  },
  {
   "cell_type": "code",
   "execution_count": 18,
   "metadata": {
    "gather": {
     "logged": 1598431107951
    },
    "jupyter": {
     "outputs_hidden": false,
     "source_hidden": false
    },
    "nteract": {
     "transient": {
      "deleting": false
     }
    }
   },
   "outputs": [
    {
     "name": "stdout",
     "output_type": "stream",
     "text": [
      "Submitting remote run.\n"
     ]
    },
    {
     "data": {
      "text/html": [
       "<table style=\"width:100%\"><tr><th>Experiment</th><th>Id</th><th>Type</th><th>Status</th><th>Details Page</th><th>Docs Page</th></tr><tr><td>AutoML-Exp-P3</td><td>AutoML_41b227b8-6de8-4d19-9b0f-0463a621bc87</td><td>automl</td><td>NotStarted</td><td><a href=\"https://ml.azure.com/runs/AutoML_41b227b8-6de8-4d19-9b0f-0463a621bc87?wsid=/subscriptions/9a7511b8-150f-4a58-8528-3e7d50216c31/resourcegroups/aml-quickstarts-154595/workspaces/quick-starts-ws-154595&amp;tid=660b3398-b80e-49d2-bc5b-ac1dc93b5254\" target=\"_blank\" rel=\"noopener\">Link to Azure Machine Learning studio</a></td><td><a href=\"https://docs.microsoft.com/en-us/python/api/overview/azure/ml/intro?view=azure-ml-py\" target=\"_blank\" rel=\"noopener\">Link to Documentation</a></td></tr></table>"
      ],
      "text/plain": [
       "<IPython.core.display.HTML object>"
      ]
     },
     "metadata": {},
     "output_type": "display_data"
    }
   ],
   "source": [
    "remote_run = experiment.submit(automl_config)"
   ]
  },
  {
   "cell_type": "markdown",
   "metadata": {},
   "source": [
    "## Run Details\n",
    "\n",
    "OPTIONAL: Write about the different models trained and their performance. Why do you think some models did better than others?\n",
    "\n",
    "TODO: In the cell below, use the `RunDetails` widget to show the different experiments."
   ]
  },
  {
   "cell_type": "code",
   "execution_count": 22,
   "metadata": {
    "gather": {
     "logged": 1598431121770
    },
    "jupyter": {
     "outputs_hidden": false,
     "source_hidden": false
    },
    "nteract": {
     "transient": {
      "deleting": false
     }
    }
   },
   "outputs": [
    {
     "data": {
      "application/vnd.jupyter.widget-view+json": {
       "model_id": "e6fb86fd33c74847afd1d840330965fc",
       "version_major": 2,
       "version_minor": 0
      },
      "text/plain": [
       "_AutoMLWidget(widget_settings={'childWidgetDisplay': 'popup', 'send_telemetry': False, 'log_level': 'INFO', 's…"
      ]
     },
     "metadata": {},
     "output_type": "display_data"
    },
    {
     "data": {
      "application/aml.mini.widget.v1": "{\"status\": \"Completed\", \"workbench_run_details_uri\": \"https://ml.azure.com/runs/AutoML_41b227b8-6de8-4d19-9b0f-0463a621bc87?wsid=/subscriptions/9a7511b8-150f-4a58-8528-3e7d50216c31/resourcegroups/aml-quickstarts-154595/workspaces/quick-starts-ws-154595&tid=660b3398-b80e-49d2-bc5b-ac1dc93b5254\", \"run_id\": \"AutoML_41b227b8-6de8-4d19-9b0f-0463a621bc87\", \"run_properties\": {\"run_id\": \"AutoML_41b227b8-6de8-4d19-9b0f-0463a621bc87\", \"created_utc\": \"2021-08-15T14:19:08.218876Z\", \"properties\": {\"num_iterations\": \"25\", \"training_type\": \"TrainFull\", \"acquisition_function\": \"EI\", \"primary_metric\": \"accuracy\", \"train_split\": \"0\", \"acquisition_parameter\": \"0\", \"num_cross_validation\": \"5\", \"target\": \"compute-cluster\", \"AMLSettingsJsonString\": \"{\\\"path\\\":null,\\\"name\\\":\\\"AutoML-Exp-P3\\\",\\\"subscription_id\\\":\\\"9a7511b8-150f-4a58-8528-3e7d50216c31\\\",\\\"resource_group\\\":\\\"aml-quickstarts-154595\\\",\\\"workspace_name\\\":\\\"quick-starts-ws-154595\\\",\\\"region\\\":\\\"southcentralus\\\",\\\"compute_target\\\":\\\"compute-cluster\\\",\\\"spark_service\\\":null,\\\"azure_service\\\":\\\"remote\\\",\\\"many_models\\\":false,\\\"pipeline_fetch_max_batch_size\\\":1,\\\"enable_batch_run\\\":false,\\\"enable_run_restructure\\\":false,\\\"start_auxiliary_runs_before_parent_complete\\\":false,\\\"enable_code_generation\\\":false,\\\"iterations\\\":25,\\\"primary_metric\\\":\\\"accuracy\\\",\\\"task_type\\\":\\\"classification\\\",\\\"data_script\\\":null,\\\"test_size\\\":0.0,\\\"validation_size\\\":0.0,\\\"n_cross_validations\\\":5,\\\"y_min\\\":null,\\\"y_max\\\":null,\\\"num_classes\\\":null,\\\"featurization\\\":\\\"auto\\\",\\\"_ignore_package_version_incompatibilities\\\":false,\\\"is_timeseries\\\":false,\\\"max_cores_per_iteration\\\":1,\\\"max_concurrent_iterations\\\":4,\\\"iteration_timeout_minutes\\\":5,\\\"mem_in_mb\\\":null,\\\"enforce_time_on_windows\\\":false,\\\"experiment_timeout_minutes\\\":30,\\\"experiment_exit_score\\\":null,\\\"whitelist_models\\\":null,\\\"blacklist_algos\\\":[\\\"TensorFlowLinearClassifier\\\",\\\"TensorFlowDNN\\\"],\\\"supported_models\\\":[\\\"ExtremeRandomTrees\\\",\\\"MultinomialNaiveBayes\\\",\\\"XGBoostClassifier\\\",\\\"SGD\\\",\\\"BernoulliNaiveBayes\\\",\\\"LinearSVM\\\",\\\"LightGBM\\\",\\\"TensorFlowDNN\\\",\\\"DecisionTree\\\",\\\"AveragedPerceptronClassifier\\\",\\\"KNN\\\",\\\"GradientBoosting\\\",\\\"RandomForest\\\",\\\"TensorFlowLinearClassifier\\\",\\\"LogisticRegression\\\",\\\"SVM\\\"],\\\"private_models\\\":[],\\\"auto_blacklist\\\":true,\\\"blacklist_samples_reached\\\":false,\\\"exclude_nan_labels\\\":true,\\\"verbosity\\\":20,\\\"_debug_log\\\":\\\"azureml_automl.log\\\",\\\"show_warnings\\\":false,\\\"model_explainability\\\":true,\\\"service_url\\\":null,\\\"sdk_url\\\":null,\\\"sdk_packages\\\":null,\\\"enable_onnx_compatible_models\\\":false,\\\"enable_split_onnx_featurizer_estimator_models\\\":false,\\\"vm_type\\\":\\\"STANDARD_DS12_V2\\\",\\\"telemetry_verbosity\\\":20,\\\"send_telemetry\\\":true,\\\"enable_dnn\\\":false,\\\"scenario\\\":\\\"SDK-1.13.0\\\",\\\"environment_label\\\":null,\\\"save_mlflow\\\":false,\\\"force_text_dnn\\\":false,\\\"enable_feature_sweeping\\\":true,\\\"enable_early_stopping\\\":false,\\\"early_stopping_n_iters\\\":10,\\\"metrics\\\":null,\\\"enable_metric_confidence\\\":false,\\\"enable_ensembling\\\":true,\\\"enable_stack_ensembling\\\":true,\\\"ensemble_iterations\\\":15,\\\"enable_tf\\\":false,\\\"enable_subsampling\\\":false,\\\"subsample_seed\\\":null,\\\"enable_nimbusml\\\":false,\\\"enable_streaming\\\":false,\\\"force_streaming\\\":false,\\\"track_child_runs\\\":true,\\\"allowed_private_models\\\":[],\\\"label_column_name\\\":\\\"rating\\\",\\\"weight_column_name\\\":null,\\\"cv_split_column_names\\\":null,\\\"enable_local_managed\\\":false,\\\"_local_managed_run_id\\\":null,\\\"cost_mode\\\":1,\\\"lag_length\\\":0,\\\"metric_operation\\\":\\\"maximize\\\",\\\"preprocess\\\":true}\", \"DataPrepJsonString\": \"{\\\\\\\"training_data\\\\\\\": {\\\\\\\"datasetId\\\\\\\": \\\\\\\"45537c85-b7e7-4f0f-a018-7eb7de8951db\\\\\\\"}, \\\\\\\"datasets\\\\\\\": 0}\", \"EnableSubsampling\": \"False\", \"runTemplate\": \"AutoML\", \"azureml.runsource\": \"automl\", \"display_task_type\": \"classification\", \"dependencies_versions\": \"{\\\"azureml-widgets\\\": \\\"1.32.0\\\", \\\"azureml-train\\\": \\\"1.32.0\\\", \\\"azureml-train-restclients-hyperdrive\\\": \\\"1.32.0\\\", \\\"azureml-train-core\\\": \\\"1.32.0\\\", \\\"azureml-train-automl\\\": \\\"1.32.0\\\", \\\"azureml-train-automl-runtime\\\": \\\"1.32.0\\\", \\\"azureml-train-automl-client\\\": \\\"1.32.0\\\", \\\"azureml-tensorboard\\\": \\\"1.32.0\\\", \\\"azureml-telemetry\\\": \\\"1.32.0\\\", \\\"azureml-sdk\\\": \\\"1.32.0\\\", \\\"azureml-samples\\\": \\\"0+unknown\\\", \\\"azureml-responsibleai\\\": \\\"1.32.0\\\", \\\"azureml-pipeline\\\": \\\"1.32.0\\\", \\\"azureml-pipeline-steps\\\": \\\"1.32.0\\\", \\\"azureml-pipeline-core\\\": \\\"1.32.0\\\", \\\"azureml-opendatasets\\\": \\\"1.32.0\\\", \\\"azureml-model-management-sdk\\\": \\\"1.0.1b6.post1\\\", \\\"azureml-mlflow\\\": \\\"1.32.0\\\", \\\"azureml-interpret\\\": \\\"1.32.0\\\", \\\"azureml-explain-model\\\": \\\"1.32.0\\\", \\\"azureml-defaults\\\": \\\"1.32.0\\\", \\\"azureml-dataset-runtime\\\": \\\"1.32.0\\\", \\\"azureml-dataprep\\\": \\\"2.18.0\\\", \\\"azureml-dataprep-rslex\\\": \\\"1.16.1\\\", \\\"azureml-dataprep-native\\\": \\\"36.0.0\\\", \\\"azureml-datadrift\\\": \\\"1.32.0\\\", \\\"azureml-core\\\": \\\"1.32.0\\\", \\\"azureml-contrib-services\\\": \\\"1.32.0\\\", \\\"azureml-contrib-server\\\": \\\"1.32.0\\\", \\\"azureml-contrib-reinforcementlearning\\\": \\\"1.32.0\\\", \\\"azureml-contrib-pipeline-steps\\\": \\\"1.32.0\\\", \\\"azureml-contrib-notebook\\\": \\\"1.32.0\\\", \\\"azureml-contrib-fairness\\\": \\\"1.32.0\\\", \\\"azureml-contrib-dataset\\\": \\\"1.32.0\\\", \\\"azureml-cli-common\\\": \\\"1.32.0\\\", \\\"azureml-automl-runtime\\\": \\\"1.32.0\\\", \\\"azureml-automl-dnn-nlp\\\": \\\"1.32.0\\\", \\\"azureml-automl-core\\\": \\\"1.32.0\\\", \\\"azureml-accel-models\\\": \\\"1.32.0\\\"}\", \"_aml_system_scenario_identification\": \"Remote.Parent\", \"ClientType\": \"SDK\", \"environment_cpu_name\": \"AzureML-AutoML\", \"environment_cpu_label\": \"prod\", \"environment_gpu_name\": \"AzureML-AutoML-GPU\", \"environment_gpu_label\": \"prod\", \"root_attribution\": \"automl\", \"attribution\": \"AutoML\", \"Orchestrator\": \"AutoML\", \"CancelUri\": \"https://southcentralus.api.azureml.ms/jasmine/v1.0/subscriptions/9a7511b8-150f-4a58-8528-3e7d50216c31/resourceGroups/aml-quickstarts-154595/providers/Microsoft.MachineLearningServices/workspaces/quick-starts-ws-154595/experimentids/cbe97122-7a8d-40c9-b176-4ba133ddb327/cancel/AutoML_41b227b8-6de8-4d19-9b0f-0463a621bc87\", \"azureml.git.repository_uri\": \"https://github.com/iolucas/AMLE_P3.git\", \"mlflow.source.git.repoURL\": \"https://github.com/iolucas/AMLE_P3.git\", \"azureml.git.branch\": \"main\", \"mlflow.source.git.branch\": \"main\", \"azureml.git.commit\": \"919f6e3738810ea6e7fc409605e498992e36170f\", \"mlflow.source.git.commit\": \"919f6e3738810ea6e7fc409605e498992e36170f\", \"azureml.git.dirty\": \"True\", \"ClientSdkVersion\": \"1.33.0\", \"snapshotId\": \"00000000-0000-0000-0000-000000000000\", \"SetupRunId\": \"AutoML_41b227b8-6de8-4d19-9b0f-0463a621bc87_setup\", \"SetupRunContainerId\": \"dcid.AutoML_41b227b8-6de8-4d19-9b0f-0463a621bc87_setup\", \"FeaturizationRunJsonPath\": \"featurizer_container.json\", \"FeaturizationRunId\": \"AutoML_41b227b8-6de8-4d19-9b0f-0463a621bc87_featurize\", \"ProblemInfoJsonString\": \"{\\\"dataset_num_categorical\\\": 0, \\\"is_sparse\\\": true, \\\"subsampling\\\": false, \\\"has_extra_col\\\": true, \\\"dataset_classes\\\": 5, \\\"dataset_features\\\": 141997, \\\"dataset_samples\\\": 28332, \\\"single_frequency_class_detected\\\": false}\", \"ModelExplainRunId\": \"AutoML_41b227b8-6de8-4d19-9b0f-0463a621bc87_ModelExplain\"}, \"tags\": {\"model_explain_run\": \"best_run\", \"_aml_system_azureml.automlComponent\": \"AutoML\", \"pipeline_id\": \"\", \"score\": \"\", \"predicted_cost\": \"\", \"fit_time\": \"\", \"training_percent\": \"\", \"iteration\": \"\", \"run_preprocessor\": \"\", \"run_algorithm\": \"\", \"automl_best_child_run_id\": \"AutoML_41b227b8-6de8-4d19-9b0f-0463a621bc87_23\", \"model_explain_best_run_child_id\": \"AutoML_41b227b8-6de8-4d19-9b0f-0463a621bc87_23\"}, \"end_time_utc\": \"2021-08-15T14:59:41.172059Z\", \"status\": \"Completed\", \"log_files\": {}, \"log_groups\": [], \"run_duration\": \"0:40:32\", \"run_number\": \"1\", \"run_queued_details\": {\"status\": \"Completed\", \"details\": null}}, \"child_runs\": [{\"run_id\": \"AutoML_41b227b8-6de8-4d19-9b0f-0463a621bc87_0\", \"run_number\": 5, \"metric\": null, \"status\": \"Failed\", \"run_type\": \"azureml.scriptrun\", \"training_percent\": \"100\", \"start_time\": \"2021-08-15T14:26:23.664607Z\", \"end_time\": \"2021-08-15T14:32:03.605818Z\", \"created_time\": \"2021-08-15T14:26:17.729049Z\", \"created_time_dt\": \"2021-08-15T14:26:17.729049Z\", \"duration\": \"0:05:45\", \"iteration\": \"0\", \"goal\": \"accuracy_max\", \"run_name\": \"MaxAbsScaler, LightGBM\", \"run_properties\": null}, {\"run_id\": \"AutoML_41b227b8-6de8-4d19-9b0f-0463a621bc87_3\", \"run_number\": 6, \"metric\": null, \"status\": \"Failed\", \"run_type\": \"azureml.scriptrun\", \"training_percent\": \"100\", \"start_time\": \"2021-08-15T14:26:23.103365Z\", \"end_time\": \"2021-08-15T14:32:45.879777Z\", \"created_time\": \"2021-08-15T14:26:17.792927Z\", \"created_time_dt\": \"2021-08-15T14:26:17.792927Z\", \"duration\": \"0:06:28\", \"iteration\": \"3\", \"goal\": \"accuracy_max\", \"run_name\": \"StandardScalerWrapper, XGBoostClassifier\", \"run_properties\": null}, {\"run_id\": \"AutoML_41b227b8-6de8-4d19-9b0f-0463a621bc87_1\", \"run_number\": 7, \"metric\": null, \"status\": \"Failed\", \"run_type\": \"azureml.scriptrun\", \"training_percent\": \"100\", \"start_time\": \"2021-08-15T14:26:33.033297Z\", \"end_time\": \"2021-08-15T14:32:04.870095Z\", \"created_time\": \"2021-08-15T14:26:17.797906Z\", \"created_time_dt\": \"2021-08-15T14:26:17.797906Z\", \"duration\": \"0:05:47\", \"iteration\": \"1\", \"goal\": \"accuracy_max\", \"run_name\": \"MaxAbsScaler, XGBoostClassifier\", \"run_properties\": null}, {\"run_id\": \"AutoML_41b227b8-6de8-4d19-9b0f-0463a621bc87_2\", \"run_number\": 8, \"metric\": null, \"status\": \"Failed\", \"run_type\": \"azureml.scriptrun\", \"training_percent\": \"100\", \"start_time\": \"2021-08-15T14:28:20.772906Z\", \"end_time\": \"2021-08-15T14:34:55.099189Z\", \"created_time\": \"2021-08-15T14:26:17.86965Z\", \"created_time_dt\": \"2021-08-15T14:26:17.86965Z\", \"duration\": \"0:08:37\", \"iteration\": \"2\", \"goal\": \"accuracy_max\", \"run_name\": \"StandardScalerWrapper, LightGBM\", \"run_properties\": null}, {\"run_id\": \"AutoML_41b227b8-6de8-4d19-9b0f-0463a621bc87_4\", \"run_number\": 9, \"metric\": null, \"status\": \"Completed\", \"run_type\": \"azureml.scriptrun\", \"training_percent\": \"100\", \"start_time\": \"2021-08-15T14:32:20.135825Z\", \"end_time\": \"2021-08-15T14:33:39.933383Z\", \"created_time\": \"2021-08-15T14:32:05.022107Z\", \"created_time_dt\": \"2021-08-15T14:32:05.022107Z\", \"duration\": \"0:01:34\", \"iteration\": \"4\", \"goal\": \"accuracy_max\", \"run_name\": \"MaxAbsScaler, ExtremeRandomTrees\", \"run_properties\": \"copy=True\", \"primary_metric\": 0.44984481, \"best_metric\": 0.44984481}, {\"run_id\": \"AutoML_41b227b8-6de8-4d19-9b0f-0463a621bc87_5\", \"run_number\": 10, \"metric\": null, \"status\": \"Completed\", \"run_type\": \"azureml.scriptrun\", \"training_percent\": \"100\", \"start_time\": \"2021-08-15T14:32:19.956025Z\", \"end_time\": \"2021-08-15T14:38:06.535051Z\", \"created_time\": \"2021-08-15T14:32:08.523125Z\", \"created_time_dt\": \"2021-08-15T14:32:08.523125Z\", \"duration\": \"0:05:58\", \"iteration\": \"5\", \"goal\": \"accuracy_max\", \"run_name\": \"SparseNormalizer, XGBoostClassifier\", \"run_properties\": \"copy=True, norm='l2'\", \"primary_metric\": 0.74177581, \"best_metric\": 0.74177581}, {\"run_id\": \"AutoML_41b227b8-6de8-4d19-9b0f-0463a621bc87_6\", \"run_number\": 11, \"metric\": null, \"status\": \"Completed\", \"run_type\": \"azureml.scriptrun\", \"training_percent\": \"100\", \"start_time\": \"2021-08-15T14:32:59.560591Z\", \"end_time\": \"2021-08-15T14:35:58.072613Z\", \"created_time\": \"2021-08-15T14:32:48.520491Z\", \"created_time_dt\": \"2021-08-15T14:32:48.520491Z\", \"duration\": \"0:03:09\", \"iteration\": \"6\", \"goal\": \"accuracy_max\", \"run_name\": \"MaxAbsScaler, LightGBM\", \"run_properties\": \"copy=True\", \"primary_metric\": 0.73369314, \"best_metric\": 0.74177581}, {\"run_id\": \"AutoML_41b227b8-6de8-4d19-9b0f-0463a621bc87_7\", \"run_number\": 12, \"metric\": null, \"status\": \"Completed\", \"run_type\": \"azureml.scriptrun\", \"training_percent\": \"100\", \"start_time\": \"2021-08-15T14:33:57.032391Z\", \"end_time\": \"2021-08-15T14:35:58.785955Z\", \"created_time\": \"2021-08-15T14:33:42.647081Z\", \"created_time_dt\": \"2021-08-15T14:33:42.647081Z\", \"duration\": \"0:02:16\", \"iteration\": \"7\", \"goal\": \"accuracy_max\", \"run_name\": \"MaxAbsScaler, LightGBM\", \"run_properties\": \"copy=True\", \"primary_metric\": 0.70227984, \"best_metric\": 0.74177581}, {\"run_id\": \"AutoML_41b227b8-6de8-4d19-9b0f-0463a621bc87_8\", \"run_number\": 13, \"metric\": null, \"status\": \"Completed\", \"run_type\": \"azureml.scriptrun\", \"training_percent\": \"100\", \"start_time\": \"2021-08-15T14:35:14.28392Z\", \"end_time\": \"2021-08-15T14:41:11.908555Z\", \"created_time\": \"2021-08-15T14:34:59.400289Z\", \"created_time_dt\": \"2021-08-15T14:34:59.400289Z\", \"duration\": \"0:06:12\", \"iteration\": \"8\", \"goal\": \"accuracy_max\", \"run_name\": \"StandardScalerWrapper, XGBoostClassifier\", \"run_properties\": \"\\n    copy=True,\\n    with_mean=False,\\n    with_std=False\\n\", \"primary_metric\": 0.75896505, \"best_metric\": 0.75896505}, {\"run_id\": \"AutoML_41b227b8-6de8-4d19-9b0f-0463a621bc87_9\", \"run_number\": 14, \"metric\": null, \"status\": \"Completed\", \"run_type\": \"azureml.scriptrun\", \"training_percent\": \"100\", \"start_time\": \"2021-08-15T14:36:15.854886Z\", \"end_time\": \"2021-08-15T14:39:14.274834Z\", \"created_time\": \"2021-08-15T14:36:00.772924Z\", \"created_time_dt\": \"2021-08-15T14:36:00.772924Z\", \"duration\": \"0:03:13\", \"iteration\": \"9\", \"goal\": \"accuracy_max\", \"run_name\": \"MaxAbsScaler, LogisticRegression\", \"run_properties\": \"copy=True\", \"primary_metric\": 0.86195821, \"best_metric\": 0.86195821}, {\"run_id\": \"AutoML_41b227b8-6de8-4d19-9b0f-0463a621bc87_10\", \"run_number\": 15, \"metric\": null, \"status\": \"Completed\", \"run_type\": \"azureml.scriptrun\", \"training_percent\": \"100\", \"start_time\": \"2021-08-15T14:36:12.919207Z\", \"end_time\": \"2021-08-15T14:37:33.527469Z\", \"created_time\": \"2021-08-15T14:36:04.81583Z\", \"created_time_dt\": \"2021-08-15T14:36:04.81583Z\", \"duration\": \"0:01:28\", \"iteration\": \"10\", \"goal\": \"accuracy_max\", \"run_name\": \"StandardScalerWrapper, ExtremeRandomTrees\", \"run_properties\": \"\\n    copy=True,\\n    with_mean=False,\\n    with_std=False\\n\", \"primary_metric\": 0.70227984, \"best_metric\": 0.86195821}, {\"run_id\": \"AutoML_41b227b8-6de8-4d19-9b0f-0463a621bc87_11\", \"run_number\": 16, \"metric\": null, \"status\": \"Completed\", \"run_type\": \"azureml.scriptrun\", \"training_percent\": \"100\", \"start_time\": \"2021-08-15T14:37:50.72391Z\", \"end_time\": \"2021-08-15T14:41:49.618604Z\", \"created_time\": \"2021-08-15T14:37:36.507071Z\", \"created_time_dt\": \"2021-08-15T14:37:36.507071Z\", \"duration\": \"0:04:13\", \"iteration\": \"11\", \"goal\": \"accuracy_max\", \"run_name\": \"StandardScalerWrapper, XGBoostClassifier\", \"run_properties\": \"\\n    copy=True,\\n    with_mean=False,\\n    with_std=False\\n\", \"primary_metric\": 0.73065778, \"best_metric\": 0.86195821}, {\"run_id\": \"AutoML_41b227b8-6de8-4d19-9b0f-0463a621bc87_12\", \"run_number\": 17, \"metric\": null, \"status\": \"Completed\", \"run_type\": \"azureml.scriptrun\", \"training_percent\": \"100\", \"start_time\": \"2021-08-15T14:38:23.257656Z\", \"end_time\": \"2021-08-15T14:40:12.403933Z\", \"created_time\": \"2021-08-15T14:38:09.110052Z\", \"created_time_dt\": \"2021-08-15T14:38:09.110052Z\", \"duration\": \"0:02:03\", \"iteration\": \"12\", \"goal\": \"accuracy_max\", \"run_name\": \"SparseNormalizer, LightGBM\", \"run_properties\": \"copy=True, norm='l1'\", \"primary_metric\": 0.70513885, \"best_metric\": 0.86195821}, {\"run_id\": \"AutoML_41b227b8-6de8-4d19-9b0f-0463a621bc87_13\", \"run_number\": 18, \"metric\": null, \"status\": \"Completed\", \"run_type\": \"azureml.scriptrun\", \"training_percent\": \"100\", \"start_time\": \"2021-08-15T14:39:28.755998Z\", \"end_time\": \"2021-08-15T14:44:19.511644Z\", \"created_time\": \"2021-08-15T14:39:16.692608Z\", \"created_time_dt\": \"2021-08-15T14:39:16.692608Z\", \"duration\": \"0:05:02\", \"iteration\": \"13\", \"goal\": \"accuracy_max\", \"run_name\": \"StandardScalerWrapper, XGBoostClassifier\", \"run_properties\": \"\\n    copy=True,\\n    with_mean=False,\\n    with_std=False\\n\", \"primary_metric\": 0.73521087, \"best_metric\": 0.86195821}, {\"run_id\": \"AutoML_41b227b8-6de8-4d19-9b0f-0463a621bc87_14\", \"run_number\": 19, \"metric\": null, \"status\": \"Completed\", \"run_type\": \"azureml.scriptrun\", \"training_percent\": \"100\", \"start_time\": \"2021-08-15T14:40:27.497726Z\", \"end_time\": \"2021-08-15T14:43:26.269828Z\", \"created_time\": \"2021-08-15T14:40:15.650719Z\", \"created_time_dt\": \"2021-08-15T14:40:15.650719Z\", \"duration\": \"0:03:10\", \"iteration\": \"14\", \"goal\": \"accuracy_max\", \"run_name\": \"MaxAbsScaler, LogisticRegression\", \"run_properties\": \"copy=True\", \"primary_metric\": 0.84879297, \"best_metric\": 0.86195821}, {\"run_id\": \"AutoML_41b227b8-6de8-4d19-9b0f-0463a621bc87_15\", \"run_number\": 20, \"metric\": null, \"status\": \"Completed\", \"run_type\": \"azureml.scriptrun\", \"training_percent\": \"100\", \"start_time\": \"2021-08-15T14:41:27.467388Z\", \"end_time\": \"2021-08-15T14:44:06.068256Z\", \"created_time\": \"2021-08-15T14:41:14.504451Z\", \"created_time_dt\": \"2021-08-15T14:41:14.504451Z\", \"duration\": \"0:02:51\", \"iteration\": \"15\", \"goal\": \"accuracy_max\", \"run_name\": \"MaxAbsScaler, SGD\", \"run_properties\": \"copy=True\", \"primary_metric\": 0.85045181, \"best_metric\": 0.86195821}, {\"run_id\": \"AutoML_41b227b8-6de8-4d19-9b0f-0463a621bc87_16\", \"run_number\": 21, \"metric\": null, \"status\": \"Failed\", \"run_type\": \"azureml.scriptrun\", \"training_percent\": \"100\", \"start_time\": \"2021-08-15T14:42:04.163408Z\", \"end_time\": \"2021-08-15T14:47:37.316612Z\", \"created_time\": \"2021-08-15T14:41:52.958976Z\", \"created_time_dt\": \"2021-08-15T14:41:52.958976Z\", \"duration\": \"0:05:44\", \"iteration\": \"16\", \"goal\": \"accuracy_max\", \"run_name\": \"StandardScalerWrapper, XGBoostClassifier\", \"run_properties\": null}, {\"run_id\": \"AutoML_41b227b8-6de8-4d19-9b0f-0463a621bc87_17\", \"run_number\": 22, \"metric\": null, \"status\": \"Completed\", \"run_type\": \"azureml.scriptrun\", \"training_percent\": \"100\", \"start_time\": \"2021-08-15T14:43:40.867637Z\", \"end_time\": \"2021-08-15T14:44:59.312076Z\", \"created_time\": \"2021-08-15T14:43:28.917838Z\", \"created_time_dt\": \"2021-08-15T14:43:28.917838Z\", \"duration\": \"0:01:30\", \"iteration\": \"17\", \"goal\": \"accuracy_max\", \"run_name\": \"SparseNormalizer, RandomForest\", \"run_properties\": \"copy=True, norm='l2'\", \"primary_metric\": 0.49820022, \"best_metric\": 0.86195821}, {\"run_id\": \"AutoML_41b227b8-6de8-4d19-9b0f-0463a621bc87_18\", \"run_number\": 23, \"metric\": null, \"status\": \"Completed\", \"run_type\": \"azureml.scriptrun\", \"training_percent\": \"100\", \"start_time\": \"2021-08-15T14:44:20.238297Z\", \"end_time\": \"2021-08-15T14:47:45.185637Z\", \"created_time\": \"2021-08-15T14:44:08.7941Z\", \"created_time_dt\": \"2021-08-15T14:44:08.7941Z\", \"duration\": \"0:03:36\", \"iteration\": \"18\", \"goal\": \"accuracy_max\", \"run_name\": \"StandardScalerWrapper, LogisticRegression\", \"run_properties\": \"\\n    copy=True,\\n    with_mean=False,\\n    with_std=False\\n\", \"primary_metric\": 0.84907537, \"best_metric\": 0.86195821}, {\"run_id\": \"AutoML_41b227b8-6de8-4d19-9b0f-0463a621bc87_19\", \"run_number\": 24, \"metric\": null, \"status\": \"Completed\", \"run_type\": \"azureml.scriptrun\", \"training_percent\": \"100\", \"start_time\": \"2021-08-15T14:44:35.471873Z\", \"end_time\": \"2021-08-15T14:48:35.468546Z\", \"created_time\": \"2021-08-15T14:44:22.316204Z\", \"created_time_dt\": \"2021-08-15T14:44:22.316204Z\", \"duration\": \"0:04:13\", \"iteration\": \"19\", \"goal\": \"accuracy_max\", \"run_name\": \"StandardScalerWrapper, RandomForest\", \"run_properties\": \"\\n    copy=True,\\n    with_mean=False,\\n    with_std=False\\n\", \"primary_metric\": 0.70295049, \"best_metric\": 0.86195821}, {\"run_id\": \"AutoML_41b227b8-6de8-4d19-9b0f-0463a621bc87_20\", \"run_number\": 25, \"metric\": null, \"status\": \"Failed\", \"run_type\": \"azureml.scriptrun\", \"training_percent\": \"100\", \"start_time\": \"2021-08-15T14:45:14.741238Z\", \"end_time\": \"2021-08-15T14:50:50.69569Z\", \"created_time\": \"2021-08-15T14:45:02.144239Z\", \"created_time_dt\": \"2021-08-15T14:45:02.144239Z\", \"duration\": \"0:05:48\", \"iteration\": \"20\", \"goal\": \"accuracy_max\", \"run_name\": \"StandardScalerWrapper, XGBoostClassifier\", \"run_properties\": null}, {\"run_id\": \"AutoML_41b227b8-6de8-4d19-9b0f-0463a621bc87_21\", \"run_number\": 26, \"metric\": null, \"status\": \"Completed\", \"run_type\": \"azureml.scriptrun\", \"training_percent\": \"100\", \"start_time\": \"2021-08-15T14:47:52.299059Z\", \"end_time\": \"2021-08-15T14:53:55.941665Z\", \"created_time\": \"2021-08-15T14:47:39.980033Z\", \"created_time_dt\": \"2021-08-15T14:47:39.980033Z\", \"duration\": \"0:06:15\", \"iteration\": \"21\", \"goal\": \"accuracy_max\", \"run_name\": \"TruncatedSVDWrapper, RandomForest\", \"run_properties\": \"n_components=0.8015789473684211, random_state=None\", \"primary_metric\": 0.47822204, \"best_metric\": 0.86195821}, {\"run_id\": \"AutoML_41b227b8-6de8-4d19-9b0f-0463a621bc87_22\", \"run_number\": 27, \"metric\": null, \"status\": \"Completed\", \"run_type\": \"azureml.scriptrun\", \"training_percent\": \"100\", \"start_time\": \"2021-08-15T14:48:01.397829Z\", \"end_time\": \"2021-08-15T14:53:20.197578Z\", \"created_time\": \"2021-08-15T14:47:48.360852Z\", \"created_time_dt\": \"2021-08-15T14:47:48.360852Z\", \"duration\": \"0:05:31\", \"iteration\": \"22\", \"goal\": \"accuracy_max\", \"run_name\": \"TruncatedSVDWrapper, RandomForest\", \"run_properties\": \"n_components=0.7026315789473684, random_state=None\", \"primary_metric\": 0.58005108, \"best_metric\": 0.86195821}, {\"run_id\": \"AutoML_41b227b8-6de8-4d19-9b0f-0463a621bc87_24\", \"run_number\": 28, \"metric\": null, \"status\": \"Failed\", \"run_type\": \"azureml.scriptrun\", \"training_percent\": \"100\", \"start_time\": \"2021-08-15T14:54:07.050843Z\", \"end_time\": \"2021-08-15T14:59:38.486288Z\", \"created_time\": \"2021-08-15T14:53:56.96264Z\", \"created_time_dt\": \"2021-08-15T14:53:56.96264Z\", \"duration\": \"0:05:41\", \"iteration\": \"24\", \"goal\": \"accuracy_max\", \"run_name\": \"StackEnsemble\", \"run_properties\": null}, {\"run_id\": \"AutoML_41b227b8-6de8-4d19-9b0f-0463a621bc87_23\", \"run_number\": 29, \"metric\": null, \"status\": \"Completed\", \"run_type\": \"azureml.scriptrun\", \"training_percent\": \"100\", \"start_time\": \"2021-08-15T14:54:07.525601Z\", \"end_time\": \"2021-08-15T14:56:34.808167Z\", \"created_time\": \"2021-08-15T14:53:56.967176Z\", \"created_time_dt\": \"2021-08-15T14:53:56.967176Z\", \"duration\": \"0:02:37\", \"iteration\": \"23\", \"goal\": \"accuracy_max\", \"run_name\": \"VotingEnsemble\", \"run_properties\": \"\\n    estimators=[('9', Pipeline(\\n        memory=None,\\n        steps=[('maxabsscaler', MaxAbsScaler(\\n            copy=True\\n        \", \"primary_metric\": 0.86326422, \"best_metric\": 0.86326422}], \"children_metrics\": {\"categories\": [0], \"series\": {\"accuracy\": [{\"categories\": [\"4\", \"5\", \"6\", \"7\", \"8\", \"9\", \"10\", \"11\", \"12\", \"13\", \"14\", \"15\", \"17\", \"18\", \"19\", \"21\", \"22\", \"23\"], \"mode\": \"markers\", \"name\": \"accuracy\", \"stepped\": false, \"type\": \"scatter\", \"data\": [0.449844814053732, 0.7417758050942499, 0.7336931427363764, 0.7022798434667772, 0.7589650474869806, 0.8619582125035604, 0.7022798434667772, 0.7306577780053345, 0.7051388538781787, 0.7352108749318187, 0.8487929667059513, 0.8504518110093106, 0.49820022422218757, 0.8490753715552499, 0.7029504919178671, 0.47822204474465313, 0.5800510769149124, 0.8632642235928356]}, {\"categories\": [\"4\", \"5\", \"6\", \"7\", \"8\", \"9\", \"10\", \"11\", \"12\", \"13\", \"14\", \"15\", \"17\", \"18\", \"19\", \"21\", \"22\", \"23\"], \"mode\": \"lines\", \"name\": \"accuracy_max\", \"stepped\": true, \"type\": \"scatter\", \"data\": [0.449844814053732, 0.7417758050942499, 0.7417758050942499, 0.7417758050942499, 0.7589650474869806, 0.8619582125035604, 0.8619582125035604, 0.8619582125035604, 0.8619582125035604, 0.8619582125035604, 0.8619582125035604, 0.8619582125035604, 0.8619582125035604, 0.8619582125035604, 0.8619582125035604, 0.8619582125035604, 0.8619582125035604, 0.8632642235928356]}], \"recall_score_macro\": [{\"categories\": [\"4\", \"5\", \"6\", \"7\", \"8\", \"9\", \"10\", \"11\", \"12\", \"13\", \"14\", \"15\", \"17\", \"18\", \"19\", \"21\", \"22\", \"23\"], \"mode\": \"markers\", \"name\": \"recall_score_macro\", \"stepped\": false, \"type\": \"scatter\", \"data\": [0.3666453168307892, 0.32703565798262196, 0.28814258106729607, 0.2, 0.3655097560875401, 0.6600299948496531, 0.2, 0.28162092461864063, 0.2036830999920515, 0.2957113323243302, 0.6557717724169908, 0.6570715816077192, 0.4306821824183841, 0.6571922727179903, 0.20092378016385667, 0.4292988062187792, 0.5818459395486306, 0.6544489949201011]}, {\"categories\": [\"4\", \"5\", \"6\", \"7\", \"8\", \"9\", \"10\", \"11\", \"12\", \"13\", \"14\", \"15\", \"17\", \"18\", \"19\", \"21\", \"22\", \"23\"], \"mode\": \"lines\", \"name\": \"recall_score_macro_max\", \"stepped\": true, \"type\": \"scatter\", \"data\": [0.3666453168307892, 0.3666453168307892, 0.3666453168307892, 0.3666453168307892, 0.3666453168307892, 0.6600299948496531, 0.6600299948496531, 0.6600299948496531, 0.6600299948496531, 0.6600299948496531, 0.6600299948496531, 0.6600299948496531, 0.6600299948496531, 0.6600299948496531, 0.6600299948496531, 0.6600299948496531, 0.6600299948496531, 0.6600299948496531]}], \"f1_score_weighted\": [{\"categories\": [\"4\", \"5\", \"6\", \"7\", \"8\", \"9\", \"10\", \"11\", \"12\", \"13\", \"14\", \"15\", \"17\", \"18\", \"19\", \"21\", \"22\", \"23\"], \"mode\": \"markers\", \"name\": \"f1_score_weighted\", \"stepped\": false, \"type\": \"scatter\", \"data\": [0.5039268532593383, 0.6740287931041464, 0.6540333372881646, 0.579466424783237, 0.7025123212398858, 0.8545612711660968, 0.579466424783237, 0.649428856044845, 0.5883769479280578, 0.6594374109005849, 0.8430528293770105, 0.8453353141512057, 0.544099131356542, 0.8418260761588712, 0.5817593808189694, 0.5294722089741414, 0.615952584328177, 0.8544855853795081]}, {\"categories\": [\"4\", \"5\", \"6\", \"7\", \"8\", \"9\", \"10\", \"11\", \"12\", \"13\", \"14\", \"15\", \"17\", \"18\", \"19\", \"21\", \"22\", \"23\"], \"mode\": \"lines\", \"name\": \"f1_score_weighted_max\", \"stepped\": true, \"type\": \"scatter\", \"data\": [0.5039268532593383, 0.6740287931041464, 0.6740287931041464, 0.6740287931041464, 0.7025123212398858, 0.8545612711660968, 0.8545612711660968, 0.8545612711660968, 0.8545612711660968, 0.8545612711660968, 0.8545612711660968, 0.8545612711660968, 0.8545612711660968, 0.8545612711660968, 0.8545612711660968, 0.8545612711660968, 0.8545612711660968, 0.8545612711660968]}], \"AUC_weighted\": [{\"categories\": [\"4\", \"5\", \"6\", \"7\", \"8\", \"9\", \"10\", \"11\", \"12\", \"13\", \"14\", \"15\", \"17\", \"18\", \"19\", \"21\", \"22\", \"23\"], \"mode\": \"markers\", \"name\": \"AUC_weighted\", \"stepped\": false, \"type\": \"scatter\", \"data\": [0.6478389939845274, 0.782017116357102, 0.8054259728695486, 0.7576685015233092, 0.8208947909426119, 0.9125612816196693, 0.7309519992170422, 0.768137909511754, 0.7391881654743042, 0.7702504582514635, 0.8880093325342704, 0.8952349450241653, 0.6662282699047106, 0.8982783561523939, 0.7502693857116759, 0.659349144482008, 0.707729673387327, 0.915186633824729]}, {\"categories\": [\"4\", \"5\", \"6\", \"7\", \"8\", \"9\", \"10\", \"11\", \"12\", \"13\", \"14\", \"15\", \"17\", \"18\", \"19\", \"21\", \"22\", \"23\"], \"mode\": \"lines\", \"name\": \"AUC_weighted_max\", \"stepped\": true, \"type\": \"scatter\", \"data\": [0.6478389939845274, 0.782017116357102, 0.8054259728695486, 0.8054259728695486, 0.8208947909426119, 0.9125612816196693, 0.9125612816196693, 0.9125612816196693, 0.9125612816196693, 0.9125612816196693, 0.9125612816196693, 0.9125612816196693, 0.9125612816196693, 0.9125612816196693, 0.9125612816196693, 0.9125612816196693, 0.9125612816196693, 0.915186633824729]}], \"average_precision_score_macro\": [{\"categories\": [\"4\", \"5\", \"6\", \"7\", \"8\", \"9\", \"10\", \"11\", \"12\", \"13\", \"14\", \"15\", \"17\", \"18\", \"19\", \"21\", \"22\", \"23\"], \"mode\": \"markers\", \"name\": \"average_precision_score_macro\", \"stepped\": false, \"type\": \"scatter\", \"data\": [0.28482278135357525, 0.4957832412492472, 0.5203567947891369, 0.4330462608180886, 0.5641623575086723, 0.7759143724860432, 0.36595571687768136, 0.4761528064374138, 0.37596822345023273, 0.4793945941933223, 0.7393504009815836, 0.7311868969178068, 0.3203245800268009, 0.7459202526292562, 0.3705038304687477, 0.33628924190584736, 0.48902732573876595, 0.7765947785991244]}, {\"categories\": [\"4\", \"5\", \"6\", \"7\", \"8\", \"9\", \"10\", \"11\", \"12\", \"13\", \"14\", \"15\", \"17\", \"18\", \"19\", \"21\", \"22\", \"23\"], \"mode\": \"lines\", \"name\": \"average_precision_score_macro_max\", \"stepped\": true, \"type\": \"scatter\", \"data\": [0.28482278135357525, 0.4957832412492472, 0.5203567947891369, 0.5203567947891369, 0.5641623575086723, 0.7759143724860432, 0.7759143724860432, 0.7759143724860432, 0.7759143724860432, 0.7759143724860432, 0.7759143724860432, 0.7759143724860432, 0.7759143724860432, 0.7759143724860432, 0.7759143724860432, 0.7759143724860432, 0.7759143724860432, 0.7765947785991244]}], \"f1_score_micro\": [{\"categories\": [\"4\", \"5\", \"6\", \"7\", \"8\", \"9\", \"10\", \"11\", \"12\", \"13\", \"14\", \"15\", \"17\", \"18\", \"19\", \"21\", \"22\", \"23\"], \"mode\": \"markers\", \"name\": \"f1_score_micro\", \"stepped\": false, \"type\": \"scatter\", \"data\": [0.449844814053732, 0.7417758050942499, 0.7336931427363764, 0.7022798434667772, 0.7589650474869806, 0.8619582125035604, 0.7022798434667772, 0.7306577780053345, 0.7051388538781785, 0.7352108749318187, 0.8487929667059513, 0.8504518110093107, 0.49820022422218757, 0.8490753715552499, 0.7029504919178671, 0.47822204474465313, 0.5800510769149124, 0.8632642235928356]}, {\"categories\": [\"4\", \"5\", \"6\", \"7\", \"8\", \"9\", \"10\", \"11\", \"12\", \"13\", \"14\", \"15\", \"17\", \"18\", \"19\", \"21\", \"22\", \"23\"], \"mode\": \"lines\", \"name\": \"f1_score_micro_max\", \"stepped\": true, \"type\": \"scatter\", \"data\": [0.449844814053732, 0.7417758050942499, 0.7417758050942499, 0.7417758050942499, 0.7589650474869806, 0.8619582125035604, 0.8619582125035604, 0.8619582125035604, 0.8619582125035604, 0.8619582125035604, 0.8619582125035604, 0.8619582125035604, 0.8619582125035604, 0.8619582125035604, 0.8619582125035604, 0.8619582125035604, 0.8619582125035604, 0.8632642235928356]}], \"matthews_correlation\": [{\"categories\": [\"4\", \"5\", \"6\", \"7\", \"8\", \"9\", \"10\", \"11\", \"12\", \"13\", \"14\", \"15\", \"17\", \"18\", \"19\", \"21\", \"22\", \"23\"], \"mode\": \"markers\", \"name\": \"matthews_correlation\", \"stepped\": false, \"type\": \"scatter\", \"data\": [0.1563399240659722, 0.3167366134886036, 0.2791543784488931, 0.0, 0.3822738362019562, 0.6849254019485963, 0.0, 0.2649864798657967, 0.07987901527034996, 0.2868040798025559, 0.6579128651662068, 0.662724970744596, 0.19915562895738187, 0.6557762241930137, 0.03518569557964005, 0.19459741263303904, 0.32317858854270576, 0.6863729574559121]}, {\"categories\": [\"4\", \"5\", \"6\", \"7\", \"8\", \"9\", \"10\", \"11\", \"12\", \"13\", \"14\", \"15\", \"17\", \"18\", \"19\", \"21\", \"22\", \"23\"], \"mode\": \"lines\", \"name\": \"matthews_correlation_max\", \"stepped\": true, \"type\": \"scatter\", \"data\": [0.1563399240659722, 0.3167366134886036, 0.3167366134886036, 0.3167366134886036, 0.3822738362019562, 0.6849254019485963, 0.6849254019485963, 0.6849254019485963, 0.6849254019485963, 0.6849254019485963, 0.6849254019485963, 0.6849254019485963, 0.6849254019485963, 0.6849254019485963, 0.6849254019485963, 0.6849254019485963, 0.6849254019485963, 0.6863729574559121]}], \"precision_score_micro\": [{\"categories\": [\"4\", \"5\", \"6\", \"7\", \"8\", \"9\", \"10\", \"11\", \"12\", \"13\", \"14\", \"15\", \"17\", \"18\", \"19\", \"21\", \"22\", \"23\"], \"mode\": \"markers\", \"name\": \"precision_score_micro\", \"stepped\": false, \"type\": \"scatter\", \"data\": [0.449844814053732, 0.7417758050942499, 0.7336931427363764, 0.7022798434667772, 0.7589650474869806, 0.8619582125035604, 0.7022798434667772, 0.7306577780053345, 0.7051388538781787, 0.7352108749318187, 0.8487929667059513, 0.8504518110093106, 0.49820022422218757, 0.8490753715552499, 0.7029504919178671, 0.47822204474465313, 0.5800510769149124, 0.8632642235928356]}, {\"categories\": [\"4\", \"5\", \"6\", \"7\", \"8\", \"9\", \"10\", \"11\", \"12\", \"13\", \"14\", \"15\", \"17\", \"18\", \"19\", \"21\", \"22\", \"23\"], \"mode\": \"lines\", \"name\": \"precision_score_micro_max\", \"stepped\": true, \"type\": \"scatter\", \"data\": [0.449844814053732, 0.7417758050942499, 0.7417758050942499, 0.7417758050942499, 0.7589650474869806, 0.8619582125035604, 0.8619582125035604, 0.8619582125035604, 0.8619582125035604, 0.8619582125035604, 0.8619582125035604, 0.8619582125035604, 0.8619582125035604, 0.8619582125035604, 0.8619582125035604, 0.8619582125035604, 0.8619582125035604, 0.8632642235928356]}], \"AUC_micro\": [{\"categories\": [\"4\", \"5\", \"6\", \"7\", \"8\", \"9\", \"10\", \"11\", \"12\", \"13\", \"14\", \"15\", \"17\", \"18\", \"19\", \"21\", \"22\", \"23\"], \"mode\": \"markers\", \"name\": \"AUC_micro\", \"stepped\": false, \"type\": \"scatter\", \"data\": [0.7507407363646272, 0.9354519550580914, 0.9395396574311468, 0.923825445552926, 0.9440678118133512, 0.9734827383078649, 0.9210332551639173, 0.932467030533668, 0.9226220904374662, 0.9327875479658093, 0.9667723219465252, 0.9565340238302911, 0.7919846267467504, 0.9685570315968922, 0.926194998228385, 0.789365850627631, 0.8537262080679557, 0.9723718930423348]}, {\"categories\": [\"4\", \"5\", \"6\", \"7\", \"8\", \"9\", \"10\", \"11\", \"12\", \"13\", \"14\", \"15\", \"17\", \"18\", \"19\", \"21\", \"22\", \"23\"], \"mode\": \"lines\", \"name\": \"AUC_micro_max\", \"stepped\": true, \"type\": \"scatter\", \"data\": [0.7507407363646272, 0.9354519550580914, 0.9395396574311468, 0.9395396574311468, 0.9440678118133512, 0.9734827383078649, 0.9734827383078649, 0.9734827383078649, 0.9734827383078649, 0.9734827383078649, 0.9734827383078649, 0.9734827383078649, 0.9734827383078649, 0.9734827383078649, 0.9734827383078649, 0.9734827383078649, 0.9734827383078649, 0.9734827383078649]}], \"balanced_accuracy\": [{\"categories\": [\"4\", \"5\", \"6\", \"7\", \"8\", \"9\", \"10\", \"11\", \"12\", \"13\", \"14\", \"15\", \"17\", \"18\", \"19\", \"21\", \"22\", \"23\"], \"mode\": \"markers\", \"name\": \"balanced_accuracy\", \"stepped\": false, \"type\": \"scatter\", \"data\": [0.3666453168307892, 0.32703565798262196, 0.28814258106729607, 0.2, 0.3655097560875401, 0.6600299948496531, 0.2, 0.28162092461864063, 0.2036830999920515, 0.2957113323243302, 0.6557717724169908, 0.6570715816077192, 0.4306821824183841, 0.6571922727179903, 0.20092378016385667, 0.4292988062187792, 0.5818459395486306, 0.6544489949201011]}, {\"categories\": [\"4\", \"5\", \"6\", \"7\", \"8\", \"9\", \"10\", \"11\", \"12\", \"13\", \"14\", \"15\", \"17\", \"18\", \"19\", \"21\", \"22\", \"23\"], \"mode\": \"lines\", \"name\": \"balanced_accuracy_max\", \"stepped\": true, \"type\": \"scatter\", \"data\": [0.3666453168307892, 0.3666453168307892, 0.3666453168307892, 0.3666453168307892, 0.3666453168307892, 0.6600299948496531, 0.6600299948496531, 0.6600299948496531, 0.6600299948496531, 0.6600299948496531, 0.6600299948496531, 0.6600299948496531, 0.6600299948496531, 0.6600299948496531, 0.6600299948496531, 0.6600299948496531, 0.6600299948496531, 0.6600299948496531]}], \"recall_score_weighted\": [{\"categories\": [\"4\", \"5\", \"6\", \"7\", \"8\", \"9\", \"10\", \"11\", \"12\", \"13\", \"14\", \"15\", \"17\", \"18\", \"19\", \"21\", \"22\", \"23\"], \"mode\": \"markers\", \"name\": \"recall_score_weighted\", \"stepped\": false, \"type\": \"scatter\", \"data\": [0.449844814053732, 0.7417758050942499, 0.7336931427363764, 0.7022798434667772, 0.7589650474869806, 0.8619582125035604, 0.7022798434667772, 0.7306577780053345, 0.7051388538781787, 0.7352108749318187, 0.8487929667059513, 0.8504518110093106, 0.49820022422218757, 0.8490753715552499, 0.7029504919178671, 0.47822204474465313, 0.5800510769149124, 0.8632642235928356]}, {\"categories\": [\"4\", \"5\", \"6\", \"7\", \"8\", \"9\", \"10\", \"11\", \"12\", \"13\", \"14\", \"15\", \"17\", \"18\", \"19\", \"21\", \"22\", \"23\"], \"mode\": \"lines\", \"name\": \"recall_score_weighted_max\", \"stepped\": true, \"type\": \"scatter\", \"data\": [0.449844814053732, 0.7417758050942499, 0.7417758050942499, 0.7417758050942499, 0.7589650474869806, 0.8619582125035604, 0.8619582125035604, 0.8619582125035604, 0.8619582125035604, 0.8619582125035604, 0.8619582125035604, 0.8619582125035604, 0.8619582125035604, 0.8619582125035604, 0.8619582125035604, 0.8619582125035604, 0.8619582125035604, 0.8632642235928356]}], \"norm_macro_recall\": [{\"categories\": [\"4\", \"5\", \"6\", \"7\", \"8\", \"9\", \"10\", \"11\", \"12\", \"13\", \"14\", \"15\", \"17\", \"18\", \"19\", \"21\", \"22\", \"23\"], \"mode\": \"markers\", \"name\": \"norm_macro_recall\", \"stepped\": false, \"type\": \"scatter\", \"data\": [0.20830664603848645, 0.1587945724782774, 0.11017822633412004, 0.0, 0.2068871951094251, 0.5750374935620662, 0.0, 0.1020261557733008, 0.004603874990064358, 0.11963916540541279, 0.5697147155212384, 0.5713394770096487, 0.28835272802297995, 0.571490340897488, 0.0011547252048208154, 0.2866235077734739, 0.4773074244357883, 0.5680612436501264]}, {\"categories\": [\"4\", \"5\", \"6\", \"7\", \"8\", \"9\", \"10\", \"11\", \"12\", \"13\", \"14\", \"15\", \"17\", \"18\", \"19\", \"21\", \"22\", \"23\"], \"mode\": \"lines\", \"name\": \"norm_macro_recall_max\", \"stepped\": true, \"type\": \"scatter\", \"data\": [0.20830664603848645, 0.20830664603848645, 0.20830664603848645, 0.20830664603848645, 0.20830664603848645, 0.5750374935620662, 0.5750374935620662, 0.5750374935620662, 0.5750374935620662, 0.5750374935620662, 0.5750374935620662, 0.5750374935620662, 0.5750374935620662, 0.5750374935620662, 0.5750374935620662, 0.5750374935620662, 0.5750374935620662, 0.5750374935620662]}], \"average_precision_score_weighted\": [{\"categories\": [\"4\", \"5\", \"6\", \"7\", \"8\", \"9\", \"10\", \"11\", \"12\", \"13\", \"14\", \"15\", \"17\", \"18\", \"19\", \"21\", \"22\", \"23\"], \"mode\": \"markers\", \"name\": \"average_precision_score_weighted\", \"stepped\": false, \"type\": \"scatter\", \"data\": [0.6244694687636356, 0.7487120878757025, 0.7649861108744729, 0.7182810281701977, 0.7902518757941911, 0.8896601041882208, 0.6869404798546079, 0.7363166618686977, 0.6971503118151631, 0.7385992675167137, 0.8689926450483508, 0.8728627080134805, 0.6358813149092354, 0.8717339359772319, 0.7011901542364072, 0.6356539846772143, 0.6829466899286443, 0.8938602794391416]}, {\"categories\": [\"4\", \"5\", \"6\", \"7\", \"8\", \"9\", \"10\", \"11\", \"12\", \"13\", \"14\", \"15\", \"17\", \"18\", \"19\", \"21\", \"22\", \"23\"], \"mode\": \"lines\", \"name\": \"average_precision_score_weighted_max\", \"stepped\": true, \"type\": \"scatter\", \"data\": [0.6244694687636356, 0.7487120878757025, 0.7649861108744729, 0.7649861108744729, 0.7902518757941911, 0.8896601041882208, 0.8896601041882208, 0.8896601041882208, 0.8896601041882208, 0.8896601041882208, 0.8896601041882208, 0.8896601041882208, 0.8896601041882208, 0.8896601041882208, 0.8896601041882208, 0.8896601041882208, 0.8896601041882208, 0.8938602794391416]}], \"precision_score_macro\": [{\"categories\": [\"4\", \"5\", \"6\", \"7\", \"8\", \"9\", \"10\", \"11\", \"12\", \"13\", \"14\", \"15\", \"17\", \"18\", \"19\", \"21\", \"22\", \"23\"], \"mode\": \"markers\", \"name\": \"precision_score_macro\", \"stepped\": false, \"type\": \"scatter\", \"data\": [0.2800924212076884, 0.6849484911112139, 0.686047399685315, 0.14045596869335547, 0.745231839888281, 0.7928285210963109, 0.14045596869335547, 0.6705012344739658, 0.27358861599505147, 0.6729280020615971, 0.7538460146048795, 0.765839467890908, 0.3165870924836036, 0.7691916295150435, 0.24997980139742979, 0.3041814651624436, 0.4042746709353433, 0.8097062979920221]}, {\"categories\": [\"4\", \"5\", \"6\", \"7\", \"8\", \"9\", \"10\", \"11\", \"12\", \"13\", \"14\", \"15\", \"17\", \"18\", \"19\", \"21\", \"22\", \"23\"], \"mode\": \"lines\", \"name\": \"precision_score_macro_max\", \"stepped\": true, \"type\": \"scatter\", \"data\": [0.2800924212076884, 0.6849484911112139, 0.686047399685315, 0.686047399685315, 0.745231839888281, 0.7928285210963109, 0.7928285210963109, 0.7928285210963109, 0.7928285210963109, 0.7928285210963109, 0.7928285210963109, 0.7928285210963109, 0.7928285210963109, 0.7928285210963109, 0.7928285210963109, 0.7928285210963109, 0.7928285210963109, 0.8097062979920221]}], \"log_loss\": [{\"categories\": [\"4\", \"5\", \"6\", \"7\", \"8\", \"9\", \"10\", \"11\", \"12\", \"13\", \"14\", \"15\", \"17\", \"18\", \"19\", \"21\", \"22\", \"23\"], \"mode\": \"markers\", \"name\": \"log_loss\", \"stepped\": false, \"type\": \"scatter\", \"data\": [1.588508664798766, 0.9787919710368052, 0.7016647503628497, 0.8096869594166239, 0.949976754270088, 0.4470516766802703, 0.8098921168187303, 0.9934390645454311, 0.7913286410148472, 0.9899941688806383, 1.5618783031407033, 1.902695731670639, 1.4753496370389374, 0.5031526133001745, 0.7650785723827079, 1.4444512005134917, 1.3543814186254806, 0.7179948554268567]}, {\"categories\": [\"4\", \"5\", \"6\", \"7\", \"8\", \"9\", \"10\", \"11\", \"12\", \"13\", \"14\", \"15\", \"17\", \"18\", \"19\", \"21\", \"22\", \"23\"], \"mode\": \"lines\", \"name\": \"log_loss_min\", \"stepped\": true, \"type\": \"scatter\", \"data\": [1.588508664798766, 0.9787919710368052, 0.7016647503628497, 0.7016647503628497, 0.7016647503628497, 0.4470516766802703, 0.4470516766802703, 0.4470516766802703, 0.4470516766802703, 0.4470516766802703, 0.4470516766802703, 0.4470516766802703, 0.4470516766802703, 0.4470516766802703, 0.4470516766802703, 0.4470516766802703, 0.4470516766802703, 0.4470516766802703]}], \"AUC_macro\": [{\"categories\": [\"4\", \"5\", \"6\", \"7\", \"8\", \"9\", \"10\", \"11\", \"12\", \"13\", \"14\", \"15\", \"17\", \"18\", \"19\", \"21\", \"22\", \"23\"], \"mode\": \"markers\", \"name\": \"AUC_macro\", \"stepped\": false, \"type\": \"scatter\", \"data\": [0.7043791383599073, 0.8239655909742531, 0.8604007234912189, 0.8134413741376753, 0.8555955706582283, 0.9372633761641105, 0.7977989153035334, 0.8169277007392678, 0.796593945454988, 0.8162473757020894, 0.9169132460679524, 0.8809789666761452, 0.7432465457406593, 0.9252561484215803, 0.8146686219395163, 0.7403281378116068, 0.8036991671399945, 0.935963642804906]}, {\"categories\": [\"4\", \"5\", \"6\", \"7\", \"8\", \"9\", \"10\", \"11\", \"12\", \"13\", \"14\", \"15\", \"17\", \"18\", \"19\", \"21\", \"22\", \"23\"], \"mode\": \"lines\", \"name\": \"AUC_macro_max\", \"stepped\": true, \"type\": \"scatter\", \"data\": [0.7043791383599073, 0.8239655909742531, 0.8604007234912189, 0.8604007234912189, 0.8604007234912189, 0.9372633761641105, 0.9372633761641105, 0.9372633761641105, 0.9372633761641105, 0.9372633761641105, 0.9372633761641105, 0.9372633761641105, 0.9372633761641105, 0.9372633761641105, 0.9372633761641105, 0.9372633761641105, 0.9372633761641105, 0.9372633761641105]}], \"precision_score_weighted\": [{\"categories\": [\"4\", \"5\", \"6\", \"7\", \"8\", \"9\", \"10\", \"11\", \"12\", \"13\", \"14\", \"15\", \"17\", \"18\", \"19\", \"21\", \"22\", \"23\"], \"mode\": \"markers\", \"name\": \"precision_score_weighted\", \"stepped\": false, \"type\": \"scatter\", \"data\": [0.6344846877943656, 0.7232694133365484, 0.7225662294240236, 0.49322607365769383, 0.7554032792013212, 0.8554784417704916, 0.49322607365769383, 0.7170973594598495, 0.6275479916321298, 0.7203081740485151, 0.8419456159730518, 0.8442560133555324, 0.6518560024579102, 0.8413064994643851, 0.6028857745879244, 0.6549554150737414, 0.710747725499407, 0.8578391060862256]}, {\"categories\": [\"4\", \"5\", \"6\", \"7\", \"8\", \"9\", \"10\", \"11\", \"12\", \"13\", \"14\", \"15\", \"17\", \"18\", \"19\", \"21\", \"22\", \"23\"], \"mode\": \"lines\", \"name\": \"precision_score_weighted_max\", \"stepped\": true, \"type\": \"scatter\", \"data\": [0.6344846877943656, 0.7232694133365484, 0.7232694133365484, 0.7232694133365484, 0.7554032792013212, 0.8554784417704916, 0.8554784417704916, 0.8554784417704916, 0.8554784417704916, 0.8554784417704916, 0.8554784417704916, 0.8554784417704916, 0.8554784417704916, 0.8554784417704916, 0.8554784417704916, 0.8554784417704916, 0.8554784417704916, 0.8578391060862256]}], \"f1_score_macro\": [{\"categories\": [\"4\", \"5\", \"6\", \"7\", \"8\", \"9\", \"10\", \"11\", \"12\", \"13\", \"14\", \"15\", \"17\", \"18\", \"19\", \"21\", \"22\", \"23\"], \"mode\": \"markers\", \"name\": \"f1_score_macro\", \"stepped\": false, \"type\": \"scatter\", \"data\": [0.2733138914940251, 0.37611999116265293, 0.3178707480826925, 0.1650186524300635, 0.4300054068468902, 0.7134944966959288, 0.1650186524300635, 0.30999432480356626, 0.17311926546380824, 0.33207632418266375, 0.6967316929336489, 0.7022379286699592, 0.3225967285702388, 0.7036435648535914, 0.16710923170482786, 0.31175852177228175, 0.44096820137265286, 0.7150469220015921]}, {\"categories\": [\"4\", \"5\", \"6\", \"7\", \"8\", \"9\", \"10\", \"11\", \"12\", \"13\", \"14\", \"15\", \"17\", \"18\", \"19\", \"21\", \"22\", \"23\"], \"mode\": \"lines\", \"name\": \"f1_score_macro_max\", \"stepped\": true, \"type\": \"scatter\", \"data\": [0.2733138914940251, 0.37611999116265293, 0.37611999116265293, 0.37611999116265293, 0.4300054068468902, 0.7134944966959288, 0.7134944966959288, 0.7134944966959288, 0.7134944966959288, 0.7134944966959288, 0.7134944966959288, 0.7134944966959288, 0.7134944966959288, 0.7134944966959288, 0.7134944966959288, 0.7134944966959288, 0.7134944966959288, 0.7150469220015921]}], \"weighted_accuracy\": [{\"categories\": [\"4\", \"5\", \"6\", \"7\", \"8\", \"9\", \"10\", \"11\", \"12\", \"13\", \"14\", \"15\", \"17\", \"18\", \"19\", \"21\", \"22\", \"23\"], \"mode\": \"markers\", \"name\": \"weighted_accuracy\", \"stepped\": false, \"type\": \"scatter\", \"data\": [0.4740019641770665, 0.9214931602126246, 0.9232870072779489, 0.9193984258379373, 0.9274660207829168, 0.9364220374522343, 0.9193984258379373, 0.9219487495436874, 0.9194066934308017, 0.9223670675784431, 0.9188711967995445, 0.9177569235163336, 0.5239658688303082, 0.9243213366636926, 0.9193410802584486, 0.49921872383598176, 0.5864223711611718, 0.9424170320485477]}, {\"categories\": [\"4\", \"5\", \"6\", \"7\", \"8\", \"9\", \"10\", \"11\", \"12\", \"13\", \"14\", \"15\", \"17\", \"18\", \"19\", \"21\", \"22\", \"23\"], \"mode\": \"lines\", \"name\": \"weighted_accuracy_max\", \"stepped\": true, \"type\": \"scatter\", \"data\": [0.4740019641770665, 0.9214931602126246, 0.9232870072779489, 0.9232870072779489, 0.9274660207829168, 0.9364220374522343, 0.9364220374522343, 0.9364220374522343, 0.9364220374522343, 0.9364220374522343, 0.9364220374522343, 0.9364220374522343, 0.9364220374522343, 0.9364220374522343, 0.9364220374522343, 0.9364220374522343, 0.9364220374522343, 0.9424170320485477]}], \"recall_score_micro\": [{\"categories\": [\"4\", \"5\", \"6\", \"7\", \"8\", \"9\", \"10\", \"11\", \"12\", \"13\", \"14\", \"15\", \"17\", \"18\", \"19\", \"21\", \"22\", \"23\"], \"mode\": \"markers\", \"name\": \"recall_score_micro\", \"stepped\": false, \"type\": \"scatter\", \"data\": [0.449844814053732, 0.7417758050942499, 0.7336931427363764, 0.7022798434667772, 0.7589650474869806, 0.8619582125035604, 0.7022798434667772, 0.7306577780053345, 0.7051388538781787, 0.7352108749318187, 0.8487929667059513, 0.8504518110093106, 0.49820022422218757, 0.8490753715552499, 0.7029504919178671, 0.47822204474465313, 0.5800510769149124, 0.8632642235928356]}, {\"categories\": [\"4\", \"5\", \"6\", \"7\", \"8\", \"9\", \"10\", \"11\", \"12\", \"13\", \"14\", \"15\", \"17\", \"18\", \"19\", \"21\", \"22\", \"23\"], \"mode\": \"lines\", \"name\": \"recall_score_micro_max\", \"stepped\": true, \"type\": \"scatter\", \"data\": [0.449844814053732, 0.7417758050942499, 0.7417758050942499, 0.7417758050942499, 0.7589650474869806, 0.8619582125035604, 0.8619582125035604, 0.8619582125035604, 0.8619582125035604, 0.8619582125035604, 0.8619582125035604, 0.8619582125035604, 0.8619582125035604, 0.8619582125035604, 0.8619582125035604, 0.8619582125035604, 0.8619582125035604, 0.8632642235928356]}], \"average_precision_score_micro\": [{\"categories\": [\"4\", \"5\", \"6\", \"7\", \"8\", \"9\", \"10\", \"11\", \"12\", \"13\", \"14\", \"15\", \"17\", \"18\", \"19\", \"21\", \"22\", \"23\"], \"mode\": \"markers\", \"name\": \"average_precision_score_micro\", \"stepped\": false, \"type\": \"scatter\", \"data\": [0.4388949797190113, 0.7952400733988595, 0.8069348176677591, 0.7702153032269401, 0.8220638307229173, 0.9083745569963056, 0.7555557601396696, 0.7845848500414142, 0.7626800916287546, 0.7868711003303289, 0.8878316424402369, 0.8835618966474209, 0.49070623483195985, 0.8948336930557389, 0.7699801123513416, 0.49210321122852907, 0.5815726174919231, 0.9065873039849006]}, {\"categories\": [\"4\", \"5\", \"6\", \"7\", \"8\", \"9\", \"10\", \"11\", \"12\", \"13\", \"14\", \"15\", \"17\", \"18\", \"19\", \"21\", \"22\", \"23\"], \"mode\": \"lines\", \"name\": \"average_precision_score_micro_max\", \"stepped\": true, \"type\": \"scatter\", \"data\": [0.4388949797190113, 0.7952400733988595, 0.8069348176677591, 0.8069348176677591, 0.8220638307229173, 0.9083745569963056, 0.9083745569963056, 0.9083745569963056, 0.9083745569963056, 0.9083745569963056, 0.9083745569963056, 0.9083745569963056, 0.9083745569963056, 0.9083745569963056, 0.9083745569963056, 0.9083745569963056, 0.9083745569963056, 0.9083745569963056]}]}, \"metricName\": null, \"primaryMetricName\": \"accuracy\", \"showLegend\": false}, \"run_metrics\": [{\"name\": \"experiment_status\", \"run_id\": \"AutoML_41b227b8-6de8-4d19-9b0f-0463a621bc87\", \"categories\": [0, 1, 2, 3, 4, 5, 6, 7, 8, 9, 10, 11, 12, 13, 14], \"series\": [{\"data\": [\"DatasetEvaluation\", \"FeaturesGeneration\", \"DatasetFeaturization\", \"DatasetFeaturizationCompleted\", \"DatasetBalancing\", \"DatasetCrossValidationSplit\", \"ModelSelection\", \"BestRunExplainModel\", \"ModelExplanationDataSetSetup\", \"PickSurrogateModel\", \"EngineeredFeatureExplanations\", \"EngineeredFeatureExplanations\", \"RawFeaturesExplanations\", \"RawFeaturesExplanations\", \"BestRunExplainModel\"]}]}, {\"name\": \"experiment_status_description\", \"run_id\": \"AutoML_41b227b8-6de8-4d19-9b0f-0463a621bc87\", \"categories\": [0, 1, 2, 3, 4, 5, 6, 7, 8, 9, 10, 11, 12, 13, 14], \"series\": [{\"data\": [\"Gathering dataset statistics.\", \"Generating features for the dataset.\", \"Beginning to fit featurizers and featurize the dataset.\", \"Completed fit featurizers and featurizing the dataset.\", \"Performing class balancing sweeping\", \"Generating individually featurized CV splits.\", \"Beginning model selection.\", \"Best run model explanations started\", \"Model explanations data setup completed\", \"Choosing LinearModel as the surrogate model for explanations\", \"Computation of engineered features started\", \"Computation of engineered features completed\", \"Computation of raw features started\", \"Computation of raw features completed\", \"Best run model explanations completed\"]}]}, {\"name\": \"recall_score_weighted\", \"run_id\": \"AutoML_41b227b8-6de8-4d19-9b0f-0463a621bc87\", \"categories\": [0], \"series\": [{\"data\": [0.8632642235928356]}]}, {\"name\": \"average_precision_score_micro\", \"run_id\": \"AutoML_41b227b8-6de8-4d19-9b0f-0463a621bc87\", \"categories\": [0], \"series\": [{\"data\": [0.9065873039849006]}]}, {\"name\": \"matthews_correlation\", \"run_id\": \"AutoML_41b227b8-6de8-4d19-9b0f-0463a621bc87\", \"categories\": [0], \"series\": [{\"data\": [0.6863729574559121]}]}, {\"name\": \"average_precision_score_macro\", \"run_id\": \"AutoML_41b227b8-6de8-4d19-9b0f-0463a621bc87\", \"categories\": [0], \"series\": [{\"data\": [0.7765947785991244]}]}, {\"name\": \"accuracy\", \"run_id\": \"AutoML_41b227b8-6de8-4d19-9b0f-0463a621bc87\", \"categories\": [0], \"series\": [{\"data\": [0.8632642235928356]}]}, {\"name\": \"precision_score_micro\", \"run_id\": \"AutoML_41b227b8-6de8-4d19-9b0f-0463a621bc87\", \"categories\": [0], \"series\": [{\"data\": [0.8632642235928356]}]}, {\"name\": \"AUC_micro\", \"run_id\": \"AutoML_41b227b8-6de8-4d19-9b0f-0463a621bc87\", \"categories\": [0], \"series\": [{\"data\": [0.9723718930423348]}]}, {\"name\": \"f1_score_weighted\", \"run_id\": \"AutoML_41b227b8-6de8-4d19-9b0f-0463a621bc87\", \"categories\": [0], \"series\": [{\"data\": [0.8544855853795081]}]}, {\"name\": \"weighted_accuracy\", \"run_id\": \"AutoML_41b227b8-6de8-4d19-9b0f-0463a621bc87\", \"categories\": [0], \"series\": [{\"data\": [0.9424170320485477]}]}, {\"name\": \"balanced_accuracy\", \"run_id\": \"AutoML_41b227b8-6de8-4d19-9b0f-0463a621bc87\", \"categories\": [0], \"series\": [{\"data\": [0.6544489949201011]}]}, {\"name\": \"average_precision_score_weighted\", \"run_id\": \"AutoML_41b227b8-6de8-4d19-9b0f-0463a621bc87\", \"categories\": [0], \"series\": [{\"data\": [0.8938602794391416]}]}, {\"name\": \"f1_score_micro\", \"run_id\": \"AutoML_41b227b8-6de8-4d19-9b0f-0463a621bc87\", \"categories\": [0], \"series\": [{\"data\": [0.8632642235928356]}]}, {\"name\": \"log_loss\", \"run_id\": \"AutoML_41b227b8-6de8-4d19-9b0f-0463a621bc87\", \"categories\": [0], \"series\": [{\"data\": [0.7179948554268567]}]}, {\"name\": \"norm_macro_recall\", \"run_id\": \"AutoML_41b227b8-6de8-4d19-9b0f-0463a621bc87\", \"categories\": [0], \"series\": [{\"data\": [0.5680612436501264]}]}, {\"name\": \"recall_score_micro\", \"run_id\": \"AutoML_41b227b8-6de8-4d19-9b0f-0463a621bc87\", \"categories\": [0], \"series\": [{\"data\": [0.8632642235928356]}]}, {\"name\": \"AUC_macro\", \"run_id\": \"AutoML_41b227b8-6de8-4d19-9b0f-0463a621bc87\", \"categories\": [0], \"series\": [{\"data\": [0.935963642804906]}]}, {\"name\": \"AUC_weighted\", \"run_id\": \"AutoML_41b227b8-6de8-4d19-9b0f-0463a621bc87\", \"categories\": [0], \"series\": [{\"data\": [0.915186633824729]}]}, {\"name\": \"recall_score_macro\", \"run_id\": \"AutoML_41b227b8-6de8-4d19-9b0f-0463a621bc87\", \"categories\": [0], \"series\": [{\"data\": [0.6544489949201011]}]}, {\"name\": \"f1_score_macro\", \"run_id\": \"AutoML_41b227b8-6de8-4d19-9b0f-0463a621bc87\", \"categories\": [0], \"series\": [{\"data\": [0.7150469220015921]}]}, {\"name\": \"precision_score_macro\", \"run_id\": \"AutoML_41b227b8-6de8-4d19-9b0f-0463a621bc87\", \"categories\": [0], \"series\": [{\"data\": [0.8097062979920221]}]}, {\"name\": \"precision_score_weighted\", \"run_id\": \"AutoML_41b227b8-6de8-4d19-9b0f-0463a621bc87\", \"categories\": [0], \"series\": [{\"data\": [0.8578391060862256]}]}], \"run_logs\": \"\\nRun is completed.\", \"graph\": {}, \"widget_settings\": {\"childWidgetDisplay\": \"popup\", \"send_telemetry\": false, \"log_level\": \"INFO\", \"sdk_version\": \"1.32.0\"}, \"loading\": false}"
     },
     "metadata": {},
     "output_type": "display_data"
    },
    {
     "data": {
      "text/plain": [
       "{'runId': 'AutoML_41b227b8-6de8-4d19-9b0f-0463a621bc87',\n",
       " 'target': 'compute-cluster',\n",
       " 'status': 'Completed',\n",
       " 'startTimeUtc': '2021-08-15T14:19:22.091836Z',\n",
       " 'endTimeUtc': '2021-08-15T14:59:41.172059Z',\n",
       " 'properties': {'num_iterations': '25',\n",
       "  'training_type': 'TrainFull',\n",
       "  'acquisition_function': 'EI',\n",
       "  'primary_metric': 'accuracy',\n",
       "  'train_split': '0',\n",
       "  'acquisition_parameter': '0',\n",
       "  'num_cross_validation': '5',\n",
       "  'target': 'compute-cluster',\n",
       "  'AMLSettingsJsonString': '{\"path\":null,\"name\":\"AutoML-Exp-P3\",\"subscription_id\":\"9a7511b8-150f-4a58-8528-3e7d50216c31\",\"resource_group\":\"aml-quickstarts-154595\",\"workspace_name\":\"quick-starts-ws-154595\",\"region\":\"southcentralus\",\"compute_target\":\"compute-cluster\",\"spark_service\":null,\"azure_service\":\"remote\",\"many_models\":false,\"pipeline_fetch_max_batch_size\":1,\"enable_batch_run\":false,\"enable_run_restructure\":false,\"start_auxiliary_runs_before_parent_complete\":false,\"enable_code_generation\":false,\"iterations\":25,\"primary_metric\":\"accuracy\",\"task_type\":\"classification\",\"data_script\":null,\"test_size\":0.0,\"validation_size\":0.0,\"n_cross_validations\":5,\"y_min\":null,\"y_max\":null,\"num_classes\":null,\"featurization\":\"auto\",\"_ignore_package_version_incompatibilities\":false,\"is_timeseries\":false,\"max_cores_per_iteration\":1,\"max_concurrent_iterations\":4,\"iteration_timeout_minutes\":5,\"mem_in_mb\":null,\"enforce_time_on_windows\":false,\"experiment_timeout_minutes\":30,\"experiment_exit_score\":null,\"whitelist_models\":null,\"blacklist_algos\":[\"TensorFlowLinearClassifier\",\"TensorFlowDNN\"],\"supported_models\":[\"ExtremeRandomTrees\",\"MultinomialNaiveBayes\",\"XGBoostClassifier\",\"SGD\",\"BernoulliNaiveBayes\",\"LinearSVM\",\"LightGBM\",\"TensorFlowDNN\",\"DecisionTree\",\"AveragedPerceptronClassifier\",\"KNN\",\"GradientBoosting\",\"RandomForest\",\"TensorFlowLinearClassifier\",\"LogisticRegression\",\"SVM\"],\"private_models\":[],\"auto_blacklist\":true,\"blacklist_samples_reached\":false,\"exclude_nan_labels\":true,\"verbosity\":20,\"_debug_log\":\"azureml_automl.log\",\"show_warnings\":false,\"model_explainability\":true,\"service_url\":null,\"sdk_url\":null,\"sdk_packages\":null,\"enable_onnx_compatible_models\":false,\"enable_split_onnx_featurizer_estimator_models\":false,\"vm_type\":\"STANDARD_DS12_V2\",\"telemetry_verbosity\":20,\"send_telemetry\":true,\"enable_dnn\":false,\"scenario\":\"SDK-1.13.0\",\"environment_label\":null,\"save_mlflow\":false,\"force_text_dnn\":false,\"enable_feature_sweeping\":true,\"enable_early_stopping\":false,\"early_stopping_n_iters\":10,\"metrics\":null,\"enable_metric_confidence\":false,\"enable_ensembling\":true,\"enable_stack_ensembling\":true,\"ensemble_iterations\":15,\"enable_tf\":false,\"enable_subsampling\":false,\"subsample_seed\":null,\"enable_nimbusml\":false,\"enable_streaming\":false,\"force_streaming\":false,\"track_child_runs\":true,\"allowed_private_models\":[],\"label_column_name\":\"rating\",\"weight_column_name\":null,\"cv_split_column_names\":null,\"enable_local_managed\":false,\"_local_managed_run_id\":null,\"cost_mode\":1,\"lag_length\":0,\"metric_operation\":\"maximize\",\"preprocess\":true}',\n",
       "  'DataPrepJsonString': '{\\\\\"training_data\\\\\": {\\\\\"datasetId\\\\\": \\\\\"45537c85-b7e7-4f0f-a018-7eb7de8951db\\\\\"}, \\\\\"datasets\\\\\": 0}',\n",
       "  'EnableSubsampling': 'False',\n",
       "  'runTemplate': 'AutoML',\n",
       "  'azureml.runsource': 'automl',\n",
       "  'display_task_type': 'classification',\n",
       "  'dependencies_versions': '{\"azureml-widgets\": \"1.32.0\", \"azureml-train\": \"1.32.0\", \"azureml-train-restclients-hyperdrive\": \"1.32.0\", \"azureml-train-core\": \"1.32.0\", \"azureml-train-automl\": \"1.32.0\", \"azureml-train-automl-runtime\": \"1.32.0\", \"azureml-train-automl-client\": \"1.32.0\", \"azureml-tensorboard\": \"1.32.0\", \"azureml-telemetry\": \"1.32.0\", \"azureml-sdk\": \"1.32.0\", \"azureml-samples\": \"0+unknown\", \"azureml-responsibleai\": \"1.32.0\", \"azureml-pipeline\": \"1.32.0\", \"azureml-pipeline-steps\": \"1.32.0\", \"azureml-pipeline-core\": \"1.32.0\", \"azureml-opendatasets\": \"1.32.0\", \"azureml-model-management-sdk\": \"1.0.1b6.post1\", \"azureml-mlflow\": \"1.32.0\", \"azureml-interpret\": \"1.32.0\", \"azureml-explain-model\": \"1.32.0\", \"azureml-defaults\": \"1.32.0\", \"azureml-dataset-runtime\": \"1.32.0\", \"azureml-dataprep\": \"2.18.0\", \"azureml-dataprep-rslex\": \"1.16.1\", \"azureml-dataprep-native\": \"36.0.0\", \"azureml-datadrift\": \"1.32.0\", \"azureml-core\": \"1.32.0\", \"azureml-contrib-services\": \"1.32.0\", \"azureml-contrib-server\": \"1.32.0\", \"azureml-contrib-reinforcementlearning\": \"1.32.0\", \"azureml-contrib-pipeline-steps\": \"1.32.0\", \"azureml-contrib-notebook\": \"1.32.0\", \"azureml-contrib-fairness\": \"1.32.0\", \"azureml-contrib-dataset\": \"1.32.0\", \"azureml-cli-common\": \"1.32.0\", \"azureml-automl-runtime\": \"1.32.0\", \"azureml-automl-dnn-nlp\": \"1.32.0\", \"azureml-automl-core\": \"1.32.0\", \"azureml-accel-models\": \"1.32.0\"}',\n",
       "  '_aml_system_scenario_identification': 'Remote.Parent',\n",
       "  'ClientType': 'SDK',\n",
       "  'environment_cpu_name': 'AzureML-AutoML',\n",
       "  'environment_cpu_label': 'prod',\n",
       "  'environment_gpu_name': 'AzureML-AutoML-GPU',\n",
       "  'environment_gpu_label': 'prod',\n",
       "  'root_attribution': 'automl',\n",
       "  'attribution': 'AutoML',\n",
       "  'Orchestrator': 'AutoML',\n",
       "  'CancelUri': 'https://southcentralus.api.azureml.ms/jasmine/v1.0/subscriptions/9a7511b8-150f-4a58-8528-3e7d50216c31/resourceGroups/aml-quickstarts-154595/providers/Microsoft.MachineLearningServices/workspaces/quick-starts-ws-154595/experimentids/cbe97122-7a8d-40c9-b176-4ba133ddb327/cancel/AutoML_41b227b8-6de8-4d19-9b0f-0463a621bc87',\n",
       "  'azureml.git.repository_uri': 'https://github.com/iolucas/AMLE_P3.git',\n",
       "  'mlflow.source.git.repoURL': 'https://github.com/iolucas/AMLE_P3.git',\n",
       "  'azureml.git.branch': 'main',\n",
       "  'mlflow.source.git.branch': 'main',\n",
       "  'azureml.git.commit': '919f6e3738810ea6e7fc409605e498992e36170f',\n",
       "  'mlflow.source.git.commit': '919f6e3738810ea6e7fc409605e498992e36170f',\n",
       "  'azureml.git.dirty': 'True',\n",
       "  'ClientSdkVersion': '1.33.0',\n",
       "  'snapshotId': '00000000-0000-0000-0000-000000000000',\n",
       "  'SetupRunId': 'AutoML_41b227b8-6de8-4d19-9b0f-0463a621bc87_setup',\n",
       "  'SetupRunContainerId': 'dcid.AutoML_41b227b8-6de8-4d19-9b0f-0463a621bc87_setup',\n",
       "  'FeaturizationRunJsonPath': 'featurizer_container.json',\n",
       "  'FeaturizationRunId': 'AutoML_41b227b8-6de8-4d19-9b0f-0463a621bc87_featurize',\n",
       "  'ProblemInfoJsonString': '{\"dataset_num_categorical\": 0, \"is_sparse\": true, \"subsampling\": false, \"has_extra_col\": true, \"dataset_classes\": 5, \"dataset_features\": 141997, \"dataset_samples\": 28332, \"single_frequency_class_detected\": false}',\n",
       "  'ModelExplainRunId': 'AutoML_41b227b8-6de8-4d19-9b0f-0463a621bc87_ModelExplain'},\n",
       " 'inputDatasets': [{'dataset': {'id': '45537c85-b7e7-4f0f-a018-7eb7de8951db'}, 'consumptionDetails': {'type': 'RunInput', 'inputName': 'training_data', 'mechanism': 'Direct'}}],\n",
       " 'outputDatasets': [],\n",
       " 'logFiles': {},\n",
       " 'submittedBy': 'ODL_User 154595'}"
      ]
     },
     "execution_count": 22,
     "metadata": {},
     "output_type": "execute_result"
    }
   ],
   "source": [
    "RunDetails(remote_run).show()\n",
    "remote_run.wait_for_completion()"
   ]
  },
  {
   "cell_type": "markdown",
   "metadata": {},
   "source": [
    "## Best Model\n",
    "\n",
    "In the cell below, get the best model from the automl experiments and display all the properties of the model.\n",
    "\n"
   ]
  },
  {
   "cell_type": "code",
   "execution_count": 54,
   "metadata": {},
   "outputs": [
    {
     "name": "stdout",
     "output_type": "stream",
     "text": [
      "Best Run Id:  AutoML_41b227b8-6de8-4d19-9b0f-0463a621bc87_23\n",
      "\n",
      " Accuracy: 0.8632642235928356\n"
     ]
    }
   ],
   "source": [
    "best_run = remote_run.get_best_child()\n",
    "best_run_metrics = best_run.get_metrics()\n",
    "\n",
    "print('Best Run Id: ', best_run.id)\n",
    "\n",
    "print('\\n Accuracy:', best_run_metrics['accuracy'])"
   ]
  },
  {
   "cell_type": "markdown",
   "metadata": {},
   "source": [
    "## Model Deployment\n",
    "\n",
    "Remember you have to deploy only one of the two models you trained.. Perform the steps in the rest of this notebook only if you wish to deploy this model.\n",
    "\n",
    "In the cell below, register the model, create an inference config and deploy the model as a web service."
   ]
  },
  {
   "cell_type": "code",
   "execution_count": 67,
   "metadata": {},
   "outputs": [],
   "source": [
    "best_run.download_file(\"outputs/model.pkl\")"
   ]
  },
  {
   "cell_type": "code",
   "execution_count": 68,
   "metadata": {
    "gather": {
     "logged": 1598431435189
    },
    "jupyter": {
     "outputs_hidden": false,
     "source_hidden": false
    },
    "nteract": {
     "transient": {
      "deleting": false
     }
    }
   },
   "outputs": [
    {
     "name": "stdout",
     "output_type": "stream",
     "text": [
      "Registering model best_model_automl\n"
     ]
    }
   ],
   "source": [
    "from azureml.core import Model\n",
    "\n",
    "model = Model.register(workspace=ws,\n",
    "                       model_name='best_model_automl',                # Name of the registered model in your workspace.\n",
    "                       model_path='./model.pkl',  # Local file to upload and register as a model.\n",
    "                      )"
   ]
  },
  {
   "cell_type": "code",
   "execution_count": 74,
   "metadata": {},
   "outputs": [
    {
     "ename": "NameError",
     "evalue": "name 'AciWebservice' is not defined",
     "output_type": "error",
     "traceback": [
      "\u001b[0;31m---------------------------------------------------------------------------\u001b[0m",
      "\u001b[0;31mNameError\u001b[0m                                 Traceback (most recent call last)",
      "\u001b[0;32m<ipython-input-74-851b871c2348>\u001b[0m in \u001b[0;36m<module>\u001b[0;34m\u001b[0m\n\u001b[1;32m      1\u001b[0m \u001b[0mautoml_env\u001b[0m \u001b[0;34m=\u001b[0m \u001b[0mEnvironment\u001b[0m\u001b[0;34m.\u001b[0m\u001b[0mget\u001b[0m\u001b[0;34m(\u001b[0m\u001b[0mws\u001b[0m\u001b[0;34m,\u001b[0m \u001b[0;34m\"AzureML-AutoML\"\u001b[0m\u001b[0;34m)\u001b[0m\u001b[0;34m\u001b[0m\u001b[0;34m\u001b[0m\u001b[0m\n\u001b[1;32m      2\u001b[0m \u001b[0minference_config\u001b[0m \u001b[0;34m=\u001b[0m \u001b[0mInferenceConfig\u001b[0m\u001b[0;34m(\u001b[0m\u001b[0msource_directory\u001b[0m\u001b[0;34m=\u001b[0m\u001b[0;34m\".\"\u001b[0m\u001b[0;34m,\u001b[0m \u001b[0mentry_script\u001b[0m\u001b[0;34m=\u001b[0m\u001b[0;34m\"score.py\"\u001b[0m\u001b[0;34m,\u001b[0m \u001b[0menvironment\u001b[0m\u001b[0;34m=\u001b[0m\u001b[0mautoml_env\u001b[0m\u001b[0;34m)\u001b[0m\u001b[0;34m\u001b[0m\u001b[0;34m\u001b[0m\u001b[0m\n\u001b[0;32m----> 3\u001b[0;31m \u001b[0maci_config\u001b[0m \u001b[0;34m=\u001b[0m \u001b[0mAciWebservice\u001b[0m\u001b[0;34m.\u001b[0m\u001b[0mdeploy_configuration\u001b[0m\u001b[0;34m(\u001b[0m\u001b[0mcpu_cores\u001b[0m\u001b[0;34m=\u001b[0m\u001b[0;36m2\u001b[0m\u001b[0;34m,\u001b[0m \u001b[0mmemory_gb\u001b[0m\u001b[0;34m=\u001b[0m\u001b[0;36m2\u001b[0m\u001b[0;34m)\u001b[0m\u001b[0;34m\u001b[0m\u001b[0;34m\u001b[0m\u001b[0m\n\u001b[0m\u001b[1;32m      4\u001b[0m \u001b[0;34m\u001b[0m\u001b[0m\n\u001b[1;32m      5\u001b[0m \u001b[0mservice_name\u001b[0m \u001b[0;34m=\u001b[0m \u001b[0;34m'automl-model'\u001b[0m\u001b[0;34m\u001b[0m\u001b[0;34m\u001b[0m\u001b[0m\n",
      "\u001b[0;31mNameError\u001b[0m: name 'AciWebservice' is not defined"
     ]
    }
   ],
   "source": [
    "automl_env = Environment.get(ws, \"AzureML-AutoML\")\n",
    "inference_config = InferenceConfig(source_directory=\".\", entry_script=\"score.py\", environment=automl_env)\n",
    "aci_config = AciWebservice.deploy_configuration(cpu_cores=2, memory_gb=2)\n",
    "\n",
    "service_name = 'automl-model'\n",
    "\n",
    "service = model.deploy(ws, service_name, [model], overwrite=True, inference_config=inference_config, deployment_config=aci_config)\n",
    "service.wait_for_deployment(show_output=True)"
   ]
  },
  {
   "cell_type": "markdown",
   "metadata": {
    "collapsed": true,
    "gather": {
     "logged": 1598431657736
    },
    "jupyter": {
     "outputs_hidden": false,
     "source_hidden": false
    },
    "nteract": {
     "transient": {
      "deleting": false
     }
    }
   },
   "source": [
    "In the cell below, send a request to the web service you deployed to test it."
   ]
  },
  {
   "cell_type": "code",
   "execution_count": 73,
   "metadata": {
    "gather": {
     "logged": 1598432707604
    },
    "jupyter": {
     "outputs_hidden": false,
     "source_hidden": false
    },
    "nteract": {
     "transient": {
      "deleting": false
     }
    }
   },
   "outputs": [
    {
     "name": "stderr",
     "output_type": "stream",
     "text": [
      "ERROR:root:Internal Python error in the inspect module.\n",
      "Below is the traceback from this internal error.\n",
      "\n"
     ]
    },
    {
     "name": "stdout",
     "output_type": "stream",
     "text": [
      "Traceback (most recent call last):\n",
      "  File \"/anaconda/envs/azureml_py36/lib/python3.6/site-packages/IPython/core/interactiveshell.py\", line 3343, in run_code\n",
      "    exec(code_obj, self.user_global_ns, self.user_ns)\n",
      "  File \"<ipython-input-73-546e7f9f487b>\", line 9, in <module>\n",
      "    \"data\": reviews\n",
      "  File \"/anaconda/envs/azureml_py36/lib/python3.6/site-packages/requests/api.py\", line 119, in post\n",
      "    return request('post', url, data=data, json=json, **kwargs)\n",
      "  File \"/anaconda/envs/azureml_py36/lib/python3.6/site-packages/requests/api.py\", line 61, in request\n",
      "    return session.request(method=method, url=url, **kwargs)\n",
      "  File \"/anaconda/envs/azureml_py36/lib/python3.6/site-packages/requests/sessions.py\", line 542, in request\n",
      "    resp = self.send(prep, **send_kwargs)\n",
      "  File \"/anaconda/envs/azureml_py36/lib/python3.6/site-packages/requests/sessions.py\", line 655, in send\n",
      "    r = adapter.send(request, **kwargs)\n",
      "  File \"/anaconda/envs/azureml_py36/lib/python3.6/site-packages/requests/adapters.py\", line 449, in send\n",
      "    timeout=timeout\n",
      "  File \"/anaconda/envs/azureml_py36/lib/python3.6/site-packages/urllib3/connectionpool.py\", line 677, in urlopen\n",
      "    chunked=chunked,\n",
      "  File \"/anaconda/envs/azureml_py36/lib/python3.6/site-packages/urllib3/connectionpool.py\", line 426, in _make_request\n",
      "    six.raise_from(e, None)\n",
      "  File \"<string>\", line 3, in raise_from\n",
      "  File \"/anaconda/envs/azureml_py36/lib/python3.6/site-packages/urllib3/connectionpool.py\", line 421, in _make_request\n",
      "    httplib_response = conn.getresponse()\n",
      "  File \"/anaconda/envs/azureml_py36/lib/python3.6/http/client.py\", line 1346, in getresponse\n",
      "    response.begin()\n",
      "  File \"/anaconda/envs/azureml_py36/lib/python3.6/http/client.py\", line 307, in begin\n",
      "    version, status, reason = self._read_status()\n",
      "  File \"/anaconda/envs/azureml_py36/lib/python3.6/http/client.py\", line 268, in _read_status\n",
      "    line = str(self.fp.readline(_MAXLINE + 1), \"iso-8859-1\")\n",
      "  File \"/anaconda/envs/azureml_py36/lib/python3.6/socket.py\", line 586, in readinto\n",
      "    return self._sock.recv_into(b)\n",
      "KeyboardInterrupt\n",
      "\n",
      "During handling of the above exception, another exception occurred:\n",
      "\n",
      "Traceback (most recent call last):\n",
      "  File \"/anaconda/envs/azureml_py36/lib/python3.6/site-packages/IPython/core/interactiveshell.py\", line 2044, in showtraceback\n",
      "    stb = value._render_traceback_()\n",
      "AttributeError: 'KeyboardInterrupt' object has no attribute '_render_traceback_'\n",
      "\n",
      "During handling of the above exception, another exception occurred:\n",
      "\n",
      "Traceback (most recent call last):\n",
      "  File \"/anaconda/envs/azureml_py36/lib/python3.6/genericpath.py\", line 19, in exists\n",
      "    os.stat(path)\n",
      "FileNotFoundError: [Errno 2] No such file or directory: '<ipython-input-73-546e7f9f487b>'\n",
      "\n",
      "During handling of the above exception, another exception occurred:\n",
      "\n",
      "Traceback (most recent call last):\n",
      "  File \"/anaconda/envs/azureml_py36/lib/python3.6/site-packages/IPython/core/ultratb.py\", line 1169, in get_records\n",
      "    return _fixed_getinnerframes(etb, number_of_lines_of_context, tb_offset)\n",
      "  File \"/anaconda/envs/azureml_py36/lib/python3.6/site-packages/IPython/core/ultratb.py\", line 316, in wrapped\n",
      "    return f(*args, **kwargs)\n",
      "  File \"/anaconda/envs/azureml_py36/lib/python3.6/site-packages/IPython/core/ultratb.py\", line 350, in _fixed_getinnerframes\n",
      "    records = fix_frame_records_filenames(inspect.getinnerframes(etb, context))\n",
      "  File \"/anaconda/envs/azureml_py36/lib/python3.6/inspect.py\", line 1490, in getinnerframes\n",
      "    frameinfo = (tb.tb_frame,) + getframeinfo(tb, context)\n",
      "  File \"/anaconda/envs/azureml_py36/lib/python3.6/inspect.py\", line 1448, in getframeinfo\n",
      "    filename = getsourcefile(frame) or getfile(frame)\n",
      "  File \"/anaconda/envs/azureml_py36/lib/python3.6/inspect.py\", line 693, in getsourcefile\n",
      "    if os.path.exists(filename):\n",
      "  File \"/anaconda/envs/azureml_py36/lib/python3.6/genericpath.py\", line 19, in exists\n",
      "    os.stat(path)\n",
      "KeyboardInterrupt\n"
     ]
    },
    {
     "ename": "TypeError",
     "evalue": "object of type 'NoneType' has no len()",
     "output_type": "error",
     "traceback": [
      "\u001b[0;31m---------------------------------------------------------------------------\u001b[0m",
      "\u001b[0;31mKeyboardInterrupt\u001b[0m                         Traceback (most recent call last)",
      "    \u001b[0;31m[... skipping hidden 1 frame]\u001b[0m\n",
      "\u001b[0;32m<ipython-input-73-546e7f9f487b>\u001b[0m in \u001b[0;36m<module>\u001b[0;34m\u001b[0m\n\u001b[1;32m      8\u001b[0m predictions = requests.post(service.scoring_uri, json={\n\u001b[0;32m----> 9\u001b[0;31m     \u001b[0;34m\"data\"\u001b[0m\u001b[0;34m:\u001b[0m \u001b[0mreviews\u001b[0m\u001b[0;34m\u001b[0m\u001b[0;34m\u001b[0m\u001b[0m\n\u001b[0m\u001b[1;32m     10\u001b[0m }).json()\n",
      "\u001b[0;32m/anaconda/envs/azureml_py36/lib/python3.6/site-packages/requests/api.py\u001b[0m in \u001b[0;36mpost\u001b[0;34m(url, data, json, **kwargs)\u001b[0m\n\u001b[1;32m    118\u001b[0m \u001b[0;34m\u001b[0m\u001b[0m\n\u001b[0;32m--> 119\u001b[0;31m     \u001b[0;32mreturn\u001b[0m \u001b[0mrequest\u001b[0m\u001b[0;34m(\u001b[0m\u001b[0;34m'post'\u001b[0m\u001b[0;34m,\u001b[0m \u001b[0murl\u001b[0m\u001b[0;34m,\u001b[0m \u001b[0mdata\u001b[0m\u001b[0;34m=\u001b[0m\u001b[0mdata\u001b[0m\u001b[0;34m,\u001b[0m \u001b[0mjson\u001b[0m\u001b[0;34m=\u001b[0m\u001b[0mjson\u001b[0m\u001b[0;34m,\u001b[0m \u001b[0;34m**\u001b[0m\u001b[0mkwargs\u001b[0m\u001b[0;34m)\u001b[0m\u001b[0;34m\u001b[0m\u001b[0;34m\u001b[0m\u001b[0m\n\u001b[0m\u001b[1;32m    120\u001b[0m \u001b[0;34m\u001b[0m\u001b[0m\n",
      "\u001b[0;32m/anaconda/envs/azureml_py36/lib/python3.6/site-packages/requests/api.py\u001b[0m in \u001b[0;36mrequest\u001b[0;34m(method, url, **kwargs)\u001b[0m\n\u001b[1;32m     60\u001b[0m     \u001b[0;32mwith\u001b[0m \u001b[0msessions\u001b[0m\u001b[0;34m.\u001b[0m\u001b[0mSession\u001b[0m\u001b[0;34m(\u001b[0m\u001b[0;34m)\u001b[0m \u001b[0;32mas\u001b[0m \u001b[0msession\u001b[0m\u001b[0;34m:\u001b[0m\u001b[0;34m\u001b[0m\u001b[0;34m\u001b[0m\u001b[0m\n\u001b[0;32m---> 61\u001b[0;31m         \u001b[0;32mreturn\u001b[0m \u001b[0msession\u001b[0m\u001b[0;34m.\u001b[0m\u001b[0mrequest\u001b[0m\u001b[0;34m(\u001b[0m\u001b[0mmethod\u001b[0m\u001b[0;34m=\u001b[0m\u001b[0mmethod\u001b[0m\u001b[0;34m,\u001b[0m \u001b[0murl\u001b[0m\u001b[0;34m=\u001b[0m\u001b[0murl\u001b[0m\u001b[0;34m,\u001b[0m \u001b[0;34m**\u001b[0m\u001b[0mkwargs\u001b[0m\u001b[0;34m)\u001b[0m\u001b[0;34m\u001b[0m\u001b[0;34m\u001b[0m\u001b[0m\n\u001b[0m\u001b[1;32m     62\u001b[0m \u001b[0;34m\u001b[0m\u001b[0m\n",
      "\u001b[0;32m/anaconda/envs/azureml_py36/lib/python3.6/site-packages/requests/sessions.py\u001b[0m in \u001b[0;36mrequest\u001b[0;34m(self, method, url, params, data, headers, cookies, files, auth, timeout, allow_redirects, proxies, hooks, stream, verify, cert, json)\u001b[0m\n\u001b[1;32m    541\u001b[0m         \u001b[0msend_kwargs\u001b[0m\u001b[0;34m.\u001b[0m\u001b[0mupdate\u001b[0m\u001b[0;34m(\u001b[0m\u001b[0msettings\u001b[0m\u001b[0;34m)\u001b[0m\u001b[0;34m\u001b[0m\u001b[0;34m\u001b[0m\u001b[0m\n\u001b[0;32m--> 542\u001b[0;31m         \u001b[0mresp\u001b[0m \u001b[0;34m=\u001b[0m \u001b[0mself\u001b[0m\u001b[0;34m.\u001b[0m\u001b[0msend\u001b[0m\u001b[0;34m(\u001b[0m\u001b[0mprep\u001b[0m\u001b[0;34m,\u001b[0m \u001b[0;34m**\u001b[0m\u001b[0msend_kwargs\u001b[0m\u001b[0;34m)\u001b[0m\u001b[0;34m\u001b[0m\u001b[0;34m\u001b[0m\u001b[0m\n\u001b[0m\u001b[1;32m    543\u001b[0m \u001b[0;34m\u001b[0m\u001b[0m\n",
      "\u001b[0;32m/anaconda/envs/azureml_py36/lib/python3.6/site-packages/requests/sessions.py\u001b[0m in \u001b[0;36msend\u001b[0;34m(self, request, **kwargs)\u001b[0m\n\u001b[1;32m    654\u001b[0m         \u001b[0;31m# Send the request\u001b[0m\u001b[0;34m\u001b[0m\u001b[0;34m\u001b[0m\u001b[0;34m\u001b[0m\u001b[0m\n\u001b[0;32m--> 655\u001b[0;31m         \u001b[0mr\u001b[0m \u001b[0;34m=\u001b[0m \u001b[0madapter\u001b[0m\u001b[0;34m.\u001b[0m\u001b[0msend\u001b[0m\u001b[0;34m(\u001b[0m\u001b[0mrequest\u001b[0m\u001b[0;34m,\u001b[0m \u001b[0;34m**\u001b[0m\u001b[0mkwargs\u001b[0m\u001b[0;34m)\u001b[0m\u001b[0;34m\u001b[0m\u001b[0;34m\u001b[0m\u001b[0m\n\u001b[0m\u001b[1;32m    656\u001b[0m \u001b[0;34m\u001b[0m\u001b[0m\n",
      "\u001b[0;32m/anaconda/envs/azureml_py36/lib/python3.6/site-packages/requests/adapters.py\u001b[0m in \u001b[0;36msend\u001b[0;34m(self, request, stream, timeout, verify, cert, proxies)\u001b[0m\n\u001b[1;32m    448\u001b[0m                     \u001b[0mretries\u001b[0m\u001b[0;34m=\u001b[0m\u001b[0mself\u001b[0m\u001b[0;34m.\u001b[0m\u001b[0mmax_retries\u001b[0m\u001b[0;34m,\u001b[0m\u001b[0;34m\u001b[0m\u001b[0;34m\u001b[0m\u001b[0m\n\u001b[0;32m--> 449\u001b[0;31m                     \u001b[0mtimeout\u001b[0m\u001b[0;34m=\u001b[0m\u001b[0mtimeout\u001b[0m\u001b[0;34m\u001b[0m\u001b[0;34m\u001b[0m\u001b[0m\n\u001b[0m\u001b[1;32m    450\u001b[0m                 )\n",
      "\u001b[0;32m/anaconda/envs/azureml_py36/lib/python3.6/site-packages/urllib3/connectionpool.py\u001b[0m in \u001b[0;36murlopen\u001b[0;34m(self, method, url, body, headers, retries, redirect, assert_same_host, timeout, pool_timeout, release_conn, chunked, body_pos, **response_kw)\u001b[0m\n\u001b[1;32m    676\u001b[0m                 \u001b[0mheaders\u001b[0m\u001b[0;34m=\u001b[0m\u001b[0mheaders\u001b[0m\u001b[0;34m,\u001b[0m\u001b[0;34m\u001b[0m\u001b[0;34m\u001b[0m\u001b[0m\n\u001b[0;32m--> 677\u001b[0;31m                 \u001b[0mchunked\u001b[0m\u001b[0;34m=\u001b[0m\u001b[0mchunked\u001b[0m\u001b[0;34m,\u001b[0m\u001b[0;34m\u001b[0m\u001b[0;34m\u001b[0m\u001b[0m\n\u001b[0m\u001b[1;32m    678\u001b[0m             )\n",
      "\u001b[0;32m/anaconda/envs/azureml_py36/lib/python3.6/site-packages/urllib3/connectionpool.py\u001b[0m in \u001b[0;36m_make_request\u001b[0;34m(self, conn, method, url, timeout, chunked, **httplib_request_kw)\u001b[0m\n\u001b[1;32m    425\u001b[0m                     \u001b[0;31m# Otherwise it looks like a bug in the code.\u001b[0m\u001b[0;34m\u001b[0m\u001b[0;34m\u001b[0m\u001b[0;34m\u001b[0m\u001b[0m\n\u001b[0;32m--> 426\u001b[0;31m                     \u001b[0msix\u001b[0m\u001b[0;34m.\u001b[0m\u001b[0mraise_from\u001b[0m\u001b[0;34m(\u001b[0m\u001b[0me\u001b[0m\u001b[0;34m,\u001b[0m \u001b[0;32mNone\u001b[0m\u001b[0;34m)\u001b[0m\u001b[0;34m\u001b[0m\u001b[0;34m\u001b[0m\u001b[0m\n\u001b[0m\u001b[1;32m    427\u001b[0m         \u001b[0;32mexcept\u001b[0m \u001b[0;34m(\u001b[0m\u001b[0mSocketTimeout\u001b[0m\u001b[0;34m,\u001b[0m \u001b[0mBaseSSLError\u001b[0m\u001b[0;34m,\u001b[0m \u001b[0mSocketError\u001b[0m\u001b[0;34m)\u001b[0m \u001b[0;32mas\u001b[0m \u001b[0me\u001b[0m\u001b[0;34m:\u001b[0m\u001b[0;34m\u001b[0m\u001b[0;34m\u001b[0m\u001b[0m\n",
      "\u001b[0;32m/anaconda/envs/azureml_py36/lib/python3.6/site-packages/urllib3/packages/six.py\u001b[0m in \u001b[0;36mraise_from\u001b[0;34m(value, from_value)\u001b[0m\n",
      "\u001b[0;32m/anaconda/envs/azureml_py36/lib/python3.6/site-packages/urllib3/connectionpool.py\u001b[0m in \u001b[0;36m_make_request\u001b[0;34m(self, conn, method, url, timeout, chunked, **httplib_request_kw)\u001b[0m\n\u001b[1;32m    420\u001b[0m                 \u001b[0;32mtry\u001b[0m\u001b[0;34m:\u001b[0m\u001b[0;34m\u001b[0m\u001b[0;34m\u001b[0m\u001b[0m\n\u001b[0;32m--> 421\u001b[0;31m                     \u001b[0mhttplib_response\u001b[0m \u001b[0;34m=\u001b[0m \u001b[0mconn\u001b[0m\u001b[0;34m.\u001b[0m\u001b[0mgetresponse\u001b[0m\u001b[0;34m(\u001b[0m\u001b[0;34m)\u001b[0m\u001b[0;34m\u001b[0m\u001b[0;34m\u001b[0m\u001b[0m\n\u001b[0m\u001b[1;32m    422\u001b[0m                 \u001b[0;32mexcept\u001b[0m \u001b[0mBaseException\u001b[0m \u001b[0;32mas\u001b[0m \u001b[0me\u001b[0m\u001b[0;34m:\u001b[0m\u001b[0;34m\u001b[0m\u001b[0;34m\u001b[0m\u001b[0m\n",
      "\u001b[0;32m/anaconda/envs/azureml_py36/lib/python3.6/http/client.py\u001b[0m in \u001b[0;36mgetresponse\u001b[0;34m(self)\u001b[0m\n\u001b[1;32m   1345\u001b[0m             \u001b[0;32mtry\u001b[0m\u001b[0;34m:\u001b[0m\u001b[0;34m\u001b[0m\u001b[0;34m\u001b[0m\u001b[0m\n\u001b[0;32m-> 1346\u001b[0;31m                 \u001b[0mresponse\u001b[0m\u001b[0;34m.\u001b[0m\u001b[0mbegin\u001b[0m\u001b[0;34m(\u001b[0m\u001b[0;34m)\u001b[0m\u001b[0;34m\u001b[0m\u001b[0;34m\u001b[0m\u001b[0m\n\u001b[0m\u001b[1;32m   1347\u001b[0m             \u001b[0;32mexcept\u001b[0m \u001b[0mConnectionError\u001b[0m\u001b[0;34m:\u001b[0m\u001b[0;34m\u001b[0m\u001b[0;34m\u001b[0m\u001b[0m\n",
      "\u001b[0;32m/anaconda/envs/azureml_py36/lib/python3.6/http/client.py\u001b[0m in \u001b[0;36mbegin\u001b[0;34m(self)\u001b[0m\n\u001b[1;32m    306\u001b[0m         \u001b[0;32mwhile\u001b[0m \u001b[0;32mTrue\u001b[0m\u001b[0;34m:\u001b[0m\u001b[0;34m\u001b[0m\u001b[0;34m\u001b[0m\u001b[0m\n\u001b[0;32m--> 307\u001b[0;31m             \u001b[0mversion\u001b[0m\u001b[0;34m,\u001b[0m \u001b[0mstatus\u001b[0m\u001b[0;34m,\u001b[0m \u001b[0mreason\u001b[0m \u001b[0;34m=\u001b[0m \u001b[0mself\u001b[0m\u001b[0;34m.\u001b[0m\u001b[0m_read_status\u001b[0m\u001b[0;34m(\u001b[0m\u001b[0;34m)\u001b[0m\u001b[0;34m\u001b[0m\u001b[0;34m\u001b[0m\u001b[0m\n\u001b[0m\u001b[1;32m    308\u001b[0m             \u001b[0;32mif\u001b[0m \u001b[0mstatus\u001b[0m \u001b[0;34m!=\u001b[0m \u001b[0mCONTINUE\u001b[0m\u001b[0;34m:\u001b[0m\u001b[0;34m\u001b[0m\u001b[0;34m\u001b[0m\u001b[0m\n",
      "\u001b[0;32m/anaconda/envs/azureml_py36/lib/python3.6/http/client.py\u001b[0m in \u001b[0;36m_read_status\u001b[0;34m(self)\u001b[0m\n\u001b[1;32m    267\u001b[0m     \u001b[0;32mdef\u001b[0m \u001b[0m_read_status\u001b[0m\u001b[0;34m(\u001b[0m\u001b[0mself\u001b[0m\u001b[0;34m)\u001b[0m\u001b[0;34m:\u001b[0m\u001b[0;34m\u001b[0m\u001b[0;34m\u001b[0m\u001b[0m\n\u001b[0;32m--> 268\u001b[0;31m         \u001b[0mline\u001b[0m \u001b[0;34m=\u001b[0m \u001b[0mstr\u001b[0m\u001b[0;34m(\u001b[0m\u001b[0mself\u001b[0m\u001b[0;34m.\u001b[0m\u001b[0mfp\u001b[0m\u001b[0;34m.\u001b[0m\u001b[0mreadline\u001b[0m\u001b[0;34m(\u001b[0m\u001b[0m_MAXLINE\u001b[0m \u001b[0;34m+\u001b[0m \u001b[0;36m1\u001b[0m\u001b[0;34m)\u001b[0m\u001b[0;34m,\u001b[0m \u001b[0;34m\"iso-8859-1\"\u001b[0m\u001b[0;34m)\u001b[0m\u001b[0;34m\u001b[0m\u001b[0;34m\u001b[0m\u001b[0m\n\u001b[0m\u001b[1;32m    269\u001b[0m         \u001b[0;32mif\u001b[0m \u001b[0mlen\u001b[0m\u001b[0;34m(\u001b[0m\u001b[0mline\u001b[0m\u001b[0;34m)\u001b[0m \u001b[0;34m>\u001b[0m \u001b[0m_MAXLINE\u001b[0m\u001b[0;34m:\u001b[0m\u001b[0;34m\u001b[0m\u001b[0;34m\u001b[0m\u001b[0m\n",
      "\u001b[0;32m/anaconda/envs/azureml_py36/lib/python3.6/socket.py\u001b[0m in \u001b[0;36mreadinto\u001b[0;34m(self, b)\u001b[0m\n\u001b[1;32m    585\u001b[0m             \u001b[0;32mtry\u001b[0m\u001b[0;34m:\u001b[0m\u001b[0;34m\u001b[0m\u001b[0;34m\u001b[0m\u001b[0m\n\u001b[0;32m--> 586\u001b[0;31m                 \u001b[0;32mreturn\u001b[0m \u001b[0mself\u001b[0m\u001b[0;34m.\u001b[0m\u001b[0m_sock\u001b[0m\u001b[0;34m.\u001b[0m\u001b[0mrecv_into\u001b[0m\u001b[0;34m(\u001b[0m\u001b[0mb\u001b[0m\u001b[0;34m)\u001b[0m\u001b[0;34m\u001b[0m\u001b[0;34m\u001b[0m\u001b[0m\n\u001b[0m\u001b[1;32m    587\u001b[0m             \u001b[0;32mexcept\u001b[0m \u001b[0mtimeout\u001b[0m\u001b[0;34m:\u001b[0m\u001b[0;34m\u001b[0m\u001b[0;34m\u001b[0m\u001b[0m\n",
      "\u001b[0;31mKeyboardInterrupt\u001b[0m: ",
      "\nDuring handling of the above exception, another exception occurred:\n",
      "\u001b[0;31mAttributeError\u001b[0m                            Traceback (most recent call last)",
      "\u001b[0;32m/anaconda/envs/azureml_py36/lib/python3.6/site-packages/IPython/core/interactiveshell.py\u001b[0m in \u001b[0;36mshowtraceback\u001b[0;34m(self, exc_tuple, filename, tb_offset, exception_only, running_compiled_code)\u001b[0m\n\u001b[1;32m   2043\u001b[0m                         \u001b[0;31m# in the engines. This should return a list of strings.\u001b[0m\u001b[0;34m\u001b[0m\u001b[0;34m\u001b[0m\u001b[0;34m\u001b[0m\u001b[0m\n\u001b[0;32m-> 2044\u001b[0;31m                         \u001b[0mstb\u001b[0m \u001b[0;34m=\u001b[0m \u001b[0mvalue\u001b[0m\u001b[0;34m.\u001b[0m\u001b[0m_render_traceback_\u001b[0m\u001b[0;34m(\u001b[0m\u001b[0;34m)\u001b[0m\u001b[0;34m\u001b[0m\u001b[0;34m\u001b[0m\u001b[0m\n\u001b[0m\u001b[1;32m   2045\u001b[0m                     \u001b[0;32mexcept\u001b[0m \u001b[0mException\u001b[0m\u001b[0;34m:\u001b[0m\u001b[0;34m\u001b[0m\u001b[0;34m\u001b[0m\u001b[0m\n",
      "\u001b[0;31mAttributeError\u001b[0m: 'KeyboardInterrupt' object has no attribute '_render_traceback_'",
      "\nDuring handling of the above exception, another exception occurred:\n",
      "\u001b[0;31mTypeError\u001b[0m                                 Traceback (most recent call last)",
      "    \u001b[0;31m[... skipping hidden 1 frame]\u001b[0m\n",
      "\u001b[0;32m/anaconda/envs/azureml_py36/lib/python3.6/site-packages/IPython/core/interactiveshell.py\u001b[0m in \u001b[0;36mshowtraceback\u001b[0;34m(self, exc_tuple, filename, tb_offset, exception_only, running_compiled_code)\u001b[0m\n\u001b[1;32m   2045\u001b[0m                     \u001b[0;32mexcept\u001b[0m \u001b[0mException\u001b[0m\u001b[0;34m:\u001b[0m\u001b[0;34m\u001b[0m\u001b[0;34m\u001b[0m\u001b[0m\n\u001b[1;32m   2046\u001b[0m                         stb = self.InteractiveTB.structured_traceback(etype,\n\u001b[0;32m-> 2047\u001b[0;31m                                             value, tb, tb_offset=tb_offset)\n\u001b[0m\u001b[1;32m   2048\u001b[0m \u001b[0;34m\u001b[0m\u001b[0m\n\u001b[1;32m   2049\u001b[0m                     \u001b[0mself\u001b[0m\u001b[0;34m.\u001b[0m\u001b[0m_showtraceback\u001b[0m\u001b[0;34m(\u001b[0m\u001b[0metype\u001b[0m\u001b[0;34m,\u001b[0m \u001b[0mvalue\u001b[0m\u001b[0;34m,\u001b[0m \u001b[0mstb\u001b[0m\u001b[0;34m)\u001b[0m\u001b[0;34m\u001b[0m\u001b[0;34m\u001b[0m\u001b[0m\n",
      "\u001b[0;32m/anaconda/envs/azureml_py36/lib/python3.6/site-packages/IPython/core/ultratb.py\u001b[0m in \u001b[0;36mstructured_traceback\u001b[0;34m(self, etype, value, tb, tb_offset, number_of_lines_of_context)\u001b[0m\n\u001b[1;32m   1434\u001b[0m             \u001b[0mself\u001b[0m\u001b[0;34m.\u001b[0m\u001b[0mtb\u001b[0m \u001b[0;34m=\u001b[0m \u001b[0mtb\u001b[0m\u001b[0;34m\u001b[0m\u001b[0;34m\u001b[0m\u001b[0m\n\u001b[1;32m   1435\u001b[0m         return FormattedTB.structured_traceback(\n\u001b[0;32m-> 1436\u001b[0;31m             self, etype, value, tb, tb_offset, number_of_lines_of_context)\n\u001b[0m\u001b[1;32m   1437\u001b[0m \u001b[0;34m\u001b[0m\u001b[0m\n\u001b[1;32m   1438\u001b[0m \u001b[0;34m\u001b[0m\u001b[0m\n",
      "\u001b[0;32m/anaconda/envs/azureml_py36/lib/python3.6/site-packages/IPython/core/ultratb.py\u001b[0m in \u001b[0;36mstructured_traceback\u001b[0;34m(self, etype, value, tb, tb_offset, number_of_lines_of_context)\u001b[0m\n\u001b[1;32m   1334\u001b[0m             \u001b[0;31m# Verbose modes need a full traceback\u001b[0m\u001b[0;34m\u001b[0m\u001b[0;34m\u001b[0m\u001b[0;34m\u001b[0m\u001b[0m\n\u001b[1;32m   1335\u001b[0m             return VerboseTB.structured_traceback(\n\u001b[0;32m-> 1336\u001b[0;31m                 \u001b[0mself\u001b[0m\u001b[0;34m,\u001b[0m \u001b[0metype\u001b[0m\u001b[0;34m,\u001b[0m \u001b[0mvalue\u001b[0m\u001b[0;34m,\u001b[0m \u001b[0mtb\u001b[0m\u001b[0;34m,\u001b[0m \u001b[0mtb_offset\u001b[0m\u001b[0;34m,\u001b[0m \u001b[0mnumber_of_lines_of_context\u001b[0m\u001b[0;34m\u001b[0m\u001b[0;34m\u001b[0m\u001b[0m\n\u001b[0m\u001b[1;32m   1337\u001b[0m             )\n\u001b[1;32m   1338\u001b[0m         \u001b[0;32melif\u001b[0m \u001b[0mmode\u001b[0m \u001b[0;34m==\u001b[0m \u001b[0;34m'Minimal'\u001b[0m\u001b[0;34m:\u001b[0m\u001b[0;34m\u001b[0m\u001b[0;34m\u001b[0m\u001b[0m\n",
      "\u001b[0;32m/anaconda/envs/azureml_py36/lib/python3.6/site-packages/IPython/core/ultratb.py\u001b[0m in \u001b[0;36mstructured_traceback\u001b[0;34m(self, etype, evalue, etb, tb_offset, number_of_lines_of_context)\u001b[0m\n\u001b[1;32m   1191\u001b[0m \u001b[0;34m\u001b[0m\u001b[0m\n\u001b[1;32m   1192\u001b[0m         formatted_exception = self.format_exception_as_a_whole(etype, evalue, etb, number_of_lines_of_context,\n\u001b[0;32m-> 1193\u001b[0;31m                                                                tb_offset)\n\u001b[0m\u001b[1;32m   1194\u001b[0m \u001b[0;34m\u001b[0m\u001b[0m\n\u001b[1;32m   1195\u001b[0m         \u001b[0mcolors\u001b[0m \u001b[0;34m=\u001b[0m \u001b[0mself\u001b[0m\u001b[0;34m.\u001b[0m\u001b[0mColors\u001b[0m  \u001b[0;31m# just a shorthand + quicker name lookup\u001b[0m\u001b[0;34m\u001b[0m\u001b[0;34m\u001b[0m\u001b[0m\n",
      "\u001b[0;32m/anaconda/envs/azureml_py36/lib/python3.6/site-packages/IPython/core/ultratb.py\u001b[0m in \u001b[0;36mformat_exception_as_a_whole\u001b[0;34m(self, etype, evalue, etb, number_of_lines_of_context, tb_offset)\u001b[0m\n\u001b[1;32m   1148\u001b[0m \u001b[0;34m\u001b[0m\u001b[0m\n\u001b[1;32m   1149\u001b[0m \u001b[0;34m\u001b[0m\u001b[0m\n\u001b[0;32m-> 1150\u001b[0;31m         \u001b[0mlast_unique\u001b[0m\u001b[0;34m,\u001b[0m \u001b[0mrecursion_repeat\u001b[0m \u001b[0;34m=\u001b[0m \u001b[0mfind_recursion\u001b[0m\u001b[0;34m(\u001b[0m\u001b[0morig_etype\u001b[0m\u001b[0;34m,\u001b[0m \u001b[0mevalue\u001b[0m\u001b[0;34m,\u001b[0m \u001b[0mrecords\u001b[0m\u001b[0;34m)\u001b[0m\u001b[0;34m\u001b[0m\u001b[0;34m\u001b[0m\u001b[0m\n\u001b[0m\u001b[1;32m   1151\u001b[0m \u001b[0;34m\u001b[0m\u001b[0m\n\u001b[1;32m   1152\u001b[0m         \u001b[0mframes\u001b[0m \u001b[0;34m=\u001b[0m \u001b[0mself\u001b[0m\u001b[0;34m.\u001b[0m\u001b[0mformat_records\u001b[0m\u001b[0;34m(\u001b[0m\u001b[0mrecords\u001b[0m\u001b[0;34m,\u001b[0m \u001b[0mlast_unique\u001b[0m\u001b[0;34m,\u001b[0m \u001b[0mrecursion_repeat\u001b[0m\u001b[0;34m)\u001b[0m\u001b[0;34m\u001b[0m\u001b[0;34m\u001b[0m\u001b[0m\n",
      "\u001b[0;32m/anaconda/envs/azureml_py36/lib/python3.6/site-packages/IPython/core/ultratb.py\u001b[0m in \u001b[0;36mfind_recursion\u001b[0;34m(etype, value, records)\u001b[0m\n\u001b[1;32m    449\u001b[0m     \u001b[0;31m# first frame (from in to out) that looks different.\u001b[0m\u001b[0;34m\u001b[0m\u001b[0;34m\u001b[0m\u001b[0;34m\u001b[0m\u001b[0m\n\u001b[1;32m    450\u001b[0m     \u001b[0;32mif\u001b[0m \u001b[0;32mnot\u001b[0m \u001b[0mis_recursion_error\u001b[0m\u001b[0;34m(\u001b[0m\u001b[0metype\u001b[0m\u001b[0;34m,\u001b[0m \u001b[0mvalue\u001b[0m\u001b[0;34m,\u001b[0m \u001b[0mrecords\u001b[0m\u001b[0;34m)\u001b[0m\u001b[0;34m:\u001b[0m\u001b[0;34m\u001b[0m\u001b[0;34m\u001b[0m\u001b[0m\n\u001b[0;32m--> 451\u001b[0;31m         \u001b[0;32mreturn\u001b[0m \u001b[0mlen\u001b[0m\u001b[0;34m(\u001b[0m\u001b[0mrecords\u001b[0m\u001b[0;34m)\u001b[0m\u001b[0;34m,\u001b[0m \u001b[0;36m0\u001b[0m\u001b[0;34m\u001b[0m\u001b[0;34m\u001b[0m\u001b[0m\n\u001b[0m\u001b[1;32m    452\u001b[0m \u001b[0;34m\u001b[0m\u001b[0m\n\u001b[1;32m    453\u001b[0m     \u001b[0;31m# Select filename, lineno, func_name to track frames with\u001b[0m\u001b[0;34m\u001b[0m\u001b[0;34m\u001b[0m\u001b[0;34m\u001b[0m\u001b[0m\n",
      "\u001b[0;31mTypeError\u001b[0m: object of type 'NoneType' has no len()"
     ]
    }
   ],
   "source": [
    "reviews = [\n",
    "    \"i loved it\", \n",
    "    \"fine product\",\n",
    "    \"I hate it\",\n",
    "    \"awful experience\"\n",
    "]\n",
    "\n",
    "predictions = requests.post(service.scoring_uri, json={\n",
    "    \"data\": reviews\n",
    "}).json()\n",
    "\n",
    "pd.DataFrame(data={\"reviews\":reviews, \"Predicted Rating\":predictions})"
   ]
  },
  {
   "cell_type": "markdown",
   "metadata": {
    "collapsed": true,
    "gather": {
     "logged": 1598432765711
    },
    "jupyter": {
     "outputs_hidden": false,
     "source_hidden": false
    },
    "nteract": {
     "transient": {
      "deleting": false
     }
    }
   },
   "source": [
    "In the cell below, print the logs of the web service and delete the service"
   ]
  },
  {
   "cell_type": "code",
   "execution_count": null,
   "metadata": {},
   "outputs": [],
   "source": [
    "print(service.get_logs())"
   ]
  },
  {
   "cell_type": "code",
   "execution_count": null,
   "metadata": {
    "jupyter": {
     "outputs_hidden": false,
     "source_hidden": false
    },
    "nteract": {
     "transient": {
      "deleting": false
     }
    }
   },
   "outputs": [],
   "source": [
    "#service.delete()"
   ]
  }
 ],
 "metadata": {
  "kernel_info": {
   "name": "python3-azureml"
  },
  "kernelspec": {
   "display_name": "Python 3",
   "language": "python",
   "name": "python3"
  },
  "language_info": {
   "codemirror_mode": {
    "name": "ipython",
    "version": 3
   },
   "file_extension": ".py",
   "mimetype": "text/x-python",
   "name": "python",
   "nbconvert_exporter": "python",
   "pygments_lexer": "ipython3",
   "version": "3.6.9"
  },
  "nteract": {
   "version": "nteract-front-end@1.0.0"
  }
 },
 "nbformat": 4,
 "nbformat_minor": 2
}
